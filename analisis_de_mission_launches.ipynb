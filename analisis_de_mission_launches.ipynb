{
 "cells": [
  {
   "cell_type": "markdown",
   "metadata": {
    "id": "4wCdS3R9ZcOw"
   },
   "source": [
    "# **Preguntas de análisis**\n",
    "\n",
    "1. ¿Cuál es la distribución temporal de los lanzamientos de misiones espaciales a lo largo de los años?\n",
    "\n",
    "Esta pregunta te ayudará a comprender la evolución de las misiones espaciales con el tiempo y si ha habido algún patrón o tendencia en el número de lanzamientos.\n",
    "\n",
    "2. ¿Cuál es la distribución de los lanzamientos por organización?\n",
    "\n",
    "Esta pregunta te permitirá entender qué organizaciones han sido las más activas en lanzamientos de misiones espaciales y cómo se comparan entre sí.\n",
    "\n",
    "3. ¿Cuál es la ubicación geográfica más común para los lanzamientos de misiones espaciales?\n",
    "\n",
    "Investigar la distribución geográfica de los lanzamientos puede revelar patrones de preferencia por ciertos lugares para realizar misiones espaciales.\n",
    "\n",
    "4. ¿Existe alguna correlación entre el estado del cohete y el éxito de la misión?\n",
    "\n",
    "Analizar si existe una relación entre el estado del cohete en el momento del lanzamiento y el éxito o fracaso de la misión puede proporcionar información importante sobre la confiabilidad de los sistemas de lanzamiento.\n",
    "\n",
    "5. ¿Cómo varía el precio de las misiones espaciales a lo largo del tiempo?\n",
    "\n",
    "Este análisis puede arrojar luz sobre las tendencias de costos en el ámbito de las misiones espaciales y si ha habido cambios significativos en el precio de lanzamiento con el tiempo.\n",
    "\n",
    "6. ¿Cuál es la proporción de misiones exitosas respecto al total de misiones lanzadas?\n",
    "\n",
    "Este análisis te permitirá evaluar la tasa de éxito general de las misiones espaciales en tu dataset y si hay factores comunes asociados con el éxito o el fracaso.\n"
   ]
  },
  {
   "cell_type": "code",
   "execution_count": 156,
   "metadata": {
    "colab": {
     "background_save": true
    },
    "id": "J0QVoFdTZpO8"
   },
   "outputs": [],
   "source": [
    "import pandas as pd\n",
    "import numpy as np\n",
    "import seaborn as sns\n",
    "import matplotlib.pyplot as plt"
   ]
  },
  {
   "cell_type": "code",
   "execution_count": 157,
   "metadata": {
    "colab": {
     "background_save": true
    },
    "id": "vnS0_6r2Z0k-"
   },
   "outputs": [],
   "source": [
    "df_mission_launches = pd.read_csv('mission_launches.csv')"
   ]
  },
  {
   "cell_type": "code",
   "execution_count": 158,
   "metadata": {
    "colab": {
     "background_save": true,
     "base_uri": "https://localhost:8080/",
     "height": 310
    },
    "id": "xLm9XZcNafgg",
    "outputId": "a7402966-91c8-4546-fd4e-154357b3ec0f"
   },
   "outputs": [
    {
     "data": {
      "text/html": [
       "<div>\n",
       "<style scoped>\n",
       "    .dataframe tbody tr th:only-of-type {\n",
       "        vertical-align: middle;\n",
       "    }\n",
       "\n",
       "    .dataframe tbody tr th {\n",
       "        vertical-align: top;\n",
       "    }\n",
       "\n",
       "    .dataframe thead th {\n",
       "        text-align: right;\n",
       "    }\n",
       "</style>\n",
       "<table border=\"1\" class=\"dataframe\">\n",
       "  <thead>\n",
       "    <tr style=\"text-align: right;\">\n",
       "      <th></th>\n",
       "      <th>Unnamed: 0.1</th>\n",
       "      <th>Unnamed: 0</th>\n",
       "      <th>Organisation</th>\n",
       "      <th>Location</th>\n",
       "      <th>Date</th>\n",
       "      <th>Detail</th>\n",
       "      <th>Rocket_Status</th>\n",
       "      <th>Price</th>\n",
       "      <th>Mission_Status</th>\n",
       "    </tr>\n",
       "  </thead>\n",
       "  <tbody>\n",
       "    <tr>\n",
       "      <th>0</th>\n",
       "      <td>0</td>\n",
       "      <td>0</td>\n",
       "      <td>SpaceX</td>\n",
       "      <td>LC-39A, Kennedy Space Center, Florida, USA</td>\n",
       "      <td>Fri Aug 07, 2020 05:12 UTC</td>\n",
       "      <td>Falcon 9 Block 5 | Starlink V1 L9 &amp; BlackSky</td>\n",
       "      <td>StatusActive</td>\n",
       "      <td>50.0</td>\n",
       "      <td>Success</td>\n",
       "    </tr>\n",
       "    <tr>\n",
       "      <th>1</th>\n",
       "      <td>1</td>\n",
       "      <td>1</td>\n",
       "      <td>CASC</td>\n",
       "      <td>Site 9401 (SLS-2), Jiuquan Satellite Launch Ce...</td>\n",
       "      <td>Thu Aug 06, 2020 04:01 UTC</td>\n",
       "      <td>Long March 2D | Gaofen-9 04 &amp; Q-SAT</td>\n",
       "      <td>StatusActive</td>\n",
       "      <td>29.75</td>\n",
       "      <td>Success</td>\n",
       "    </tr>\n",
       "    <tr>\n",
       "      <th>2</th>\n",
       "      <td>2</td>\n",
       "      <td>2</td>\n",
       "      <td>SpaceX</td>\n",
       "      <td>Pad A, Boca Chica, Texas, USA</td>\n",
       "      <td>Tue Aug 04, 2020 23:57 UTC</td>\n",
       "      <td>Starship Prototype | 150 Meter Hop</td>\n",
       "      <td>StatusActive</td>\n",
       "      <td>NaN</td>\n",
       "      <td>Success</td>\n",
       "    </tr>\n",
       "    <tr>\n",
       "      <th>3</th>\n",
       "      <td>3</td>\n",
       "      <td>3</td>\n",
       "      <td>Roscosmos</td>\n",
       "      <td>Site 200/39, Baikonur Cosmodrome, Kazakhstan</td>\n",
       "      <td>Thu Jul 30, 2020 21:25 UTC</td>\n",
       "      <td>Proton-M/Briz-M | Ekspress-80 &amp; Ekspress-103</td>\n",
       "      <td>StatusActive</td>\n",
       "      <td>65.0</td>\n",
       "      <td>Success</td>\n",
       "    </tr>\n",
       "    <tr>\n",
       "      <th>4</th>\n",
       "      <td>4</td>\n",
       "      <td>4</td>\n",
       "      <td>ULA</td>\n",
       "      <td>SLC-41, Cape Canaveral AFS, Florida, USA</td>\n",
       "      <td>Thu Jul 30, 2020 11:50 UTC</td>\n",
       "      <td>Atlas V 541 | Perseverance</td>\n",
       "      <td>StatusActive</td>\n",
       "      <td>145.0</td>\n",
       "      <td>Success</td>\n",
       "    </tr>\n",
       "  </tbody>\n",
       "</table>\n",
       "</div>"
      ],
      "text/plain": [
       "   Unnamed: 0.1  Unnamed: 0 Organisation  \\\n",
       "0             0           0       SpaceX   \n",
       "1             1           1         CASC   \n",
       "2             2           2       SpaceX   \n",
       "3             3           3    Roscosmos   \n",
       "4             4           4          ULA   \n",
       "\n",
       "                                            Location  \\\n",
       "0         LC-39A, Kennedy Space Center, Florida, USA   \n",
       "1  Site 9401 (SLS-2), Jiuquan Satellite Launch Ce...   \n",
       "2                      Pad A, Boca Chica, Texas, USA   \n",
       "3       Site 200/39, Baikonur Cosmodrome, Kazakhstan   \n",
       "4           SLC-41, Cape Canaveral AFS, Florida, USA   \n",
       "\n",
       "                         Date                                        Detail  \\\n",
       "0  Fri Aug 07, 2020 05:12 UTC  Falcon 9 Block 5 | Starlink V1 L9 & BlackSky   \n",
       "1  Thu Aug 06, 2020 04:01 UTC           Long March 2D | Gaofen-9 04 & Q-SAT   \n",
       "2  Tue Aug 04, 2020 23:57 UTC            Starship Prototype | 150 Meter Hop   \n",
       "3  Thu Jul 30, 2020 21:25 UTC  Proton-M/Briz-M | Ekspress-80 & Ekspress-103   \n",
       "4  Thu Jul 30, 2020 11:50 UTC                    Atlas V 541 | Perseverance   \n",
       "\n",
       "  Rocket_Status  Price Mission_Status  \n",
       "0  StatusActive   50.0        Success  \n",
       "1  StatusActive  29.75        Success  \n",
       "2  StatusActive    NaN        Success  \n",
       "3  StatusActive   65.0        Success  \n",
       "4  StatusActive  145.0        Success  "
      ]
     },
     "execution_count": 158,
     "metadata": {},
     "output_type": "execute_result"
    }
   ],
   "source": [
    "df_mission_launches.head()"
   ]
  },
  {
   "cell_type": "code",
   "execution_count": 159,
   "metadata": {
    "colab": {
     "background_save": true,
     "base_uri": "https://localhost:8080/"
    },
    "id": "WlUD335MbGcF",
    "outputId": "fb9062dd-1018-4b49-b772-10240de6bbf9"
   },
   "outputs": [
    {
     "data": {
      "text/plain": [
       "(4324, 9)"
      ]
     },
     "execution_count": 159,
     "metadata": {},
     "output_type": "execute_result"
    }
   ],
   "source": [
    "df_mission_launches.shape"
   ]
  },
  {
   "cell_type": "code",
   "execution_count": 160,
   "metadata": {
    "colab": {
     "background_save": true,
     "base_uri": "https://localhost:8080/"
    },
    "id": "2GCN9e5nchbP",
    "outputId": "3cde7dd5-c360-4c29-c35d-9dfbdcbffb38"
   },
   "outputs": [
    {
     "data": {
      "text/plain": [
       "Unnamed: 0.1       int64\n",
       "Unnamed: 0         int64\n",
       "Organisation      object\n",
       "Location          object\n",
       "Date              object\n",
       "Detail            object\n",
       "Rocket_Status     object\n",
       "Price             object\n",
       "Mission_Status    object\n",
       "dtype: object"
      ]
     },
     "execution_count": 160,
     "metadata": {},
     "output_type": "execute_result"
    }
   ],
   "source": [
    "df_mission_launches.dtypes"
   ]
  },
  {
   "cell_type": "code",
   "execution_count": 161,
   "metadata": {
    "colab": {
     "background_save": true,
     "base_uri": "https://localhost:8080/"
    },
    "id": "kBLGhAv-dUr-",
    "outputId": "0cc3995f-0a82-4354-94de-88aa9d7452ed"
   },
   "outputs": [
    {
     "data": {
      "text/plain": [
       "Unnamed: 0.1         0\n",
       "Unnamed: 0           0\n",
       "Organisation         0\n",
       "Location             0\n",
       "Date                 0\n",
       "Detail               0\n",
       "Rocket_Status        0\n",
       "Price             3360\n",
       "Mission_Status       0\n",
       "dtype: int64"
      ]
     },
     "execution_count": 161,
     "metadata": {},
     "output_type": "execute_result"
    }
   ],
   "source": [
    "df_mission_launches.isnull().sum()"
   ]
  },
  {
   "cell_type": "code",
   "execution_count": 162,
   "metadata": {
    "colab": {
     "background_save": true,
     "base_uri": "https://localhost:8080/",
     "height": 615
    },
    "id": "q6a6gO7gdugL",
    "outputId": "19439a0d-4ca7-4d17-e270-c138b1def5e4"
   },
   "outputs": [
    {
     "data": {
      "text/html": [
       "<div>\n",
       "<style scoped>\n",
       "    .dataframe tbody tr th:only-of-type {\n",
       "        vertical-align: middle;\n",
       "    }\n",
       "\n",
       "    .dataframe tbody tr th {\n",
       "        vertical-align: top;\n",
       "    }\n",
       "\n",
       "    .dataframe thead th {\n",
       "        text-align: right;\n",
       "    }\n",
       "</style>\n",
       "<table border=\"1\" class=\"dataframe\">\n",
       "  <thead>\n",
       "    <tr style=\"text-align: right;\">\n",
       "      <th></th>\n",
       "      <th>Unnamed: 0.1</th>\n",
       "      <th>Unnamed: 0</th>\n",
       "      <th>Organisation</th>\n",
       "      <th>Location</th>\n",
       "      <th>Date</th>\n",
       "      <th>Detail</th>\n",
       "      <th>Rocket_Status</th>\n",
       "      <th>Price</th>\n",
       "      <th>Mission_Status</th>\n",
       "    </tr>\n",
       "  </thead>\n",
       "  <tbody>\n",
       "    <tr>\n",
       "      <th>2</th>\n",
       "      <td>2</td>\n",
       "      <td>2</td>\n",
       "      <td>SpaceX</td>\n",
       "      <td>Pad A, Boca Chica, Texas, USA</td>\n",
       "      <td>Tue Aug 04, 2020 23:57 UTC</td>\n",
       "      <td>Starship Prototype | 150 Meter Hop</td>\n",
       "      <td>StatusActive</td>\n",
       "      <td>NaN</td>\n",
       "      <td>Success</td>\n",
       "    </tr>\n",
       "    <tr>\n",
       "      <th>7</th>\n",
       "      <td>7</td>\n",
       "      <td>7</td>\n",
       "      <td>CASC</td>\n",
       "      <td>LC-101, Wenchang Satellite Launch Center, China</td>\n",
       "      <td>Thu Jul 23, 2020 04:41 UTC</td>\n",
       "      <td>Long March 5 | Tianwen-1</td>\n",
       "      <td>StatusActive</td>\n",
       "      <td>NaN</td>\n",
       "      <td>Success</td>\n",
       "    </tr>\n",
       "    <tr>\n",
       "      <th>13</th>\n",
       "      <td>13</td>\n",
       "      <td>13</td>\n",
       "      <td>IAI</td>\n",
       "      <td>Pad 1, Palmachim Airbase, Israel</td>\n",
       "      <td>Mon Jul 06, 2020 01:00 UTC</td>\n",
       "      <td>Shavit-2 | Ofek-16</td>\n",
       "      <td>StatusActive</td>\n",
       "      <td>NaN</td>\n",
       "      <td>Success</td>\n",
       "    </tr>\n",
       "    <tr>\n",
       "      <th>28</th>\n",
       "      <td>28</td>\n",
       "      <td>28</td>\n",
       "      <td>VKS RF</td>\n",
       "      <td>Site 43/4, Plesetsk Cosmodrome, Russia</td>\n",
       "      <td>Fri May 22, 2020 07:31 UTC</td>\n",
       "      <td>Soyuz 2.1b/Fregat-M | Cosmos 2546</td>\n",
       "      <td>StatusActive</td>\n",
       "      <td>NaN</td>\n",
       "      <td>Success</td>\n",
       "    </tr>\n",
       "    <tr>\n",
       "      <th>31</th>\n",
       "      <td>31</td>\n",
       "      <td>31</td>\n",
       "      <td>ExPace</td>\n",
       "      <td>Site 95, Jiuquan Satellite Launch Center, China</td>\n",
       "      <td>Tue May 12, 2020 01:16 UTC</td>\n",
       "      <td>Kuaizhou 1A | Xingyun-2 01 (Wuhan) &amp; 02</td>\n",
       "      <td>StatusActive</td>\n",
       "      <td>NaN</td>\n",
       "      <td>Success</td>\n",
       "    </tr>\n",
       "    <tr>\n",
       "      <th>...</th>\n",
       "      <td>...</td>\n",
       "      <td>...</td>\n",
       "      <td>...</td>\n",
       "      <td>...</td>\n",
       "      <td>...</td>\n",
       "      <td>...</td>\n",
       "      <td>...</td>\n",
       "      <td>...</td>\n",
       "      <td>...</td>\n",
       "    </tr>\n",
       "    <tr>\n",
       "      <th>4319</th>\n",
       "      <td>4319</td>\n",
       "      <td>4319</td>\n",
       "      <td>US Navy</td>\n",
       "      <td>LC-18A, Cape Canaveral AFS, Florida, USA</td>\n",
       "      <td>Wed Feb 05, 1958 07:33 UTC</td>\n",
       "      <td>Vanguard | Vanguard TV3BU</td>\n",
       "      <td>StatusRetired</td>\n",
       "      <td>NaN</td>\n",
       "      <td>Failure</td>\n",
       "    </tr>\n",
       "    <tr>\n",
       "      <th>4320</th>\n",
       "      <td>4320</td>\n",
       "      <td>4320</td>\n",
       "      <td>AMBA</td>\n",
       "      <td>LC-26A, Cape Canaveral AFS, Florida, USA</td>\n",
       "      <td>Sat Feb 01, 1958 03:48 UTC</td>\n",
       "      <td>Juno I | Explorer 1</td>\n",
       "      <td>StatusRetired</td>\n",
       "      <td>NaN</td>\n",
       "      <td>Success</td>\n",
       "    </tr>\n",
       "    <tr>\n",
       "      <th>4321</th>\n",
       "      <td>4321</td>\n",
       "      <td>4321</td>\n",
       "      <td>US Navy</td>\n",
       "      <td>LC-18A, Cape Canaveral AFS, Florida, USA</td>\n",
       "      <td>Fri Dec 06, 1957 16:44 UTC</td>\n",
       "      <td>Vanguard | Vanguard TV3</td>\n",
       "      <td>StatusRetired</td>\n",
       "      <td>NaN</td>\n",
       "      <td>Failure</td>\n",
       "    </tr>\n",
       "    <tr>\n",
       "      <th>4322</th>\n",
       "      <td>4322</td>\n",
       "      <td>4322</td>\n",
       "      <td>RVSN USSR</td>\n",
       "      <td>Site 1/5, Baikonur Cosmodrome, Kazakhstan</td>\n",
       "      <td>Sun Nov 03, 1957 02:30 UTC</td>\n",
       "      <td>Sputnik 8K71PS | Sputnik-2</td>\n",
       "      <td>StatusRetired</td>\n",
       "      <td>NaN</td>\n",
       "      <td>Success</td>\n",
       "    </tr>\n",
       "    <tr>\n",
       "      <th>4323</th>\n",
       "      <td>4323</td>\n",
       "      <td>4323</td>\n",
       "      <td>RVSN USSR</td>\n",
       "      <td>Site 1/5, Baikonur Cosmodrome, Kazakhstan</td>\n",
       "      <td>Fri Oct 04, 1957 19:28 UTC</td>\n",
       "      <td>Sputnik 8K71PS | Sputnik-1</td>\n",
       "      <td>StatusRetired</td>\n",
       "      <td>NaN</td>\n",
       "      <td>Success</td>\n",
       "    </tr>\n",
       "  </tbody>\n",
       "</table>\n",
       "<p>3360 rows × 9 columns</p>\n",
       "</div>"
      ],
      "text/plain": [
       "      Unnamed: 0.1  Unnamed: 0 Organisation  \\\n",
       "2                2           2       SpaceX   \n",
       "7                7           7         CASC   \n",
       "13              13          13          IAI   \n",
       "28              28          28       VKS RF   \n",
       "31              31          31       ExPace   \n",
       "...            ...         ...          ...   \n",
       "4319          4319        4319      US Navy   \n",
       "4320          4320        4320         AMBA   \n",
       "4321          4321        4321      US Navy   \n",
       "4322          4322        4322    RVSN USSR   \n",
       "4323          4323        4323    RVSN USSR   \n",
       "\n",
       "                                             Location  \\\n",
       "2                       Pad A, Boca Chica, Texas, USA   \n",
       "7     LC-101, Wenchang Satellite Launch Center, China   \n",
       "13                   Pad 1, Palmachim Airbase, Israel   \n",
       "28             Site 43/4, Plesetsk Cosmodrome, Russia   \n",
       "31    Site 95, Jiuquan Satellite Launch Center, China   \n",
       "...                                               ...   \n",
       "4319         LC-18A, Cape Canaveral AFS, Florida, USA   \n",
       "4320         LC-26A, Cape Canaveral AFS, Florida, USA   \n",
       "4321         LC-18A, Cape Canaveral AFS, Florida, USA   \n",
       "4322        Site 1/5, Baikonur Cosmodrome, Kazakhstan   \n",
       "4323        Site 1/5, Baikonur Cosmodrome, Kazakhstan   \n",
       "\n",
       "                            Date                                   Detail  \\\n",
       "2     Tue Aug 04, 2020 23:57 UTC       Starship Prototype | 150 Meter Hop   \n",
       "7     Thu Jul 23, 2020 04:41 UTC                 Long March 5 | Tianwen-1   \n",
       "13    Mon Jul 06, 2020 01:00 UTC                       Shavit-2 | Ofek-16   \n",
       "28    Fri May 22, 2020 07:31 UTC        Soyuz 2.1b/Fregat-M | Cosmos 2546   \n",
       "31    Tue May 12, 2020 01:16 UTC  Kuaizhou 1A | Xingyun-2 01 (Wuhan) & 02   \n",
       "...                          ...                                      ...   \n",
       "4319  Wed Feb 05, 1958 07:33 UTC                Vanguard | Vanguard TV3BU   \n",
       "4320  Sat Feb 01, 1958 03:48 UTC                      Juno I | Explorer 1   \n",
       "4321  Fri Dec 06, 1957 16:44 UTC                  Vanguard | Vanguard TV3   \n",
       "4322  Sun Nov 03, 1957 02:30 UTC               Sputnik 8K71PS | Sputnik-2   \n",
       "4323  Fri Oct 04, 1957 19:28 UTC               Sputnik 8K71PS | Sputnik-1   \n",
       "\n",
       "      Rocket_Status Price Mission_Status  \n",
       "2      StatusActive   NaN        Success  \n",
       "7      StatusActive   NaN        Success  \n",
       "13     StatusActive   NaN        Success  \n",
       "28     StatusActive   NaN        Success  \n",
       "31     StatusActive   NaN        Success  \n",
       "...             ...   ...            ...  \n",
       "4319  StatusRetired   NaN        Failure  \n",
       "4320  StatusRetired   NaN        Success  \n",
       "4321  StatusRetired   NaN        Failure  \n",
       "4322  StatusRetired   NaN        Success  \n",
       "4323  StatusRetired   NaN        Success  \n",
       "\n",
       "[3360 rows x 9 columns]"
      ]
     },
     "execution_count": 162,
     "metadata": {},
     "output_type": "execute_result"
    }
   ],
   "source": [
    "df_mission_launches[df_mission_launches['Price'].isnull()]"
   ]
  },
  {
   "cell_type": "code",
   "execution_count": 163,
   "metadata": {
    "colab": {
     "background_save": true,
     "base_uri": "https://localhost:8080/"
    },
    "id": "-GEml60OGAox",
    "outputId": "7f48c931-f81d-4499-a5ca-ed2a2937a645"
   },
   "outputs": [
    {
     "data": {
      "text/plain": [
       "964"
      ]
     },
     "execution_count": 163,
     "metadata": {},
     "output_type": "execute_result"
    }
   ],
   "source": [
    "df_mission_launches['Price'].value_counts().sum()"
   ]
  },
  {
   "cell_type": "code",
   "execution_count": 164,
   "metadata": {
    "colab": {
     "background_save": true,
     "base_uri": "https://localhost:8080/"
    },
    "id": "hGSmwVzukuWG",
    "outputId": "1d61b4d3-17d6-49a4-9a27-31911f8e976a"
   },
   "outputs": [
    {
     "data": {
      "text/plain": [
       "array(['50.0', '29.75', nan, '65.0', '145.0', '64.68', '48.5', '90.0',\n",
       "       '46.0', '28.3', '29.15', '7.5', '30.8', '5.3', '12.0', '112.5',\n",
       "       '120.0', '153.0', '200.0', '85.0', '115.0', '41.8', '21.0', '31.0',\n",
       "       '40.0', '164.0', '62.0', '37.0', '350.0', '39.0', '47.0', '35.0',\n",
       "       '69.7', '109.0', '45.0', '123.0', '130.0', '25.0', '56.5', '15.0',\n",
       "       '29.0', '80.0', '140.0', '55.0', '59.5', '450.0', '7.0', '20.14',\n",
       "       '133.0', '190.0', '135.0', '20.0', '136.6', '5,000.0', '1,160.0',\n",
       "       '59.0', '63.23'], dtype=object)"
      ]
     },
     "execution_count": 164,
     "metadata": {},
     "output_type": "execute_result"
    }
   ],
   "source": [
    "df_mission_launches['Price'].unique()"
   ]
  },
  {
   "cell_type": "code",
   "execution_count": 165,
   "metadata": {},
   "outputs": [],
   "source": [
    "df_mission_launches['Price'] = df_mission_launches['Price'].astype(str)\n",
    "\n",
    "# Luego, reemplaza las comas en los valores que no sean nulos y conviértelos a float\n",
    "df_mission_launches['Price'] = df_mission_launches['Price'].apply(lambda x: float(x.replace(',', '')) if x != 'nan' else np.nan)"
   ]
  },
  {
   "cell_type": "code",
   "execution_count": 166,
   "metadata": {
    "colab": {
     "background_save": true,
     "base_uri": "https://localhost:8080/"
    },
    "id": "gHKly1TxPKQ2",
    "outputId": "371b71e3-8f60-499f-b255-35c23f44bd53"
   },
   "outputs": [
    {
     "data": {
      "text/plain": [
       "array([  50.  ,   29.75,     nan,   65.  ,  145.  ,   64.68,   48.5 ,\n",
       "         90.  ,   46.  ,   28.3 ,   29.15,    7.5 ,   30.8 ,    5.3 ,\n",
       "         12.  ,  112.5 ,  120.  ,  153.  ,  200.  ,   85.  ,  115.  ,\n",
       "         41.8 ,   21.  ,   31.  ,   40.  ,  164.  ,   62.  ,   37.  ,\n",
       "        350.  ,   39.  ,   47.  ,   35.  ,   69.7 ,  109.  ,   45.  ,\n",
       "        123.  ,  130.  ,   25.  ,   56.5 ,   15.  ,   29.  ,   80.  ,\n",
       "        140.  ,   55.  ,   59.5 ,  450.  ,    7.  ,   20.14,  133.  ,\n",
       "        190.  ,  135.  ,   20.  ,  136.6 , 5000.  , 1160.  ,   59.  ,\n",
       "         63.23])"
      ]
     },
     "execution_count": 166,
     "metadata": {},
     "output_type": "execute_result"
    }
   ],
   "source": [
    "df_mission_launches['Price'].unique()"
   ]
  },
  {
   "cell_type": "code",
   "execution_count": 167,
   "metadata": {},
   "outputs": [
    {
     "data": {
      "text/plain": [
       "count     964.000000\n",
       "mean      153.792199\n",
       "std       288.450732\n",
       "min         5.300000\n",
       "25%        40.000000\n",
       "50%        62.000000\n",
       "75%       164.000000\n",
       "max      5000.000000\n",
       "Name: Price, dtype: float64"
      ]
     },
     "execution_count": 167,
     "metadata": {},
     "output_type": "execute_result"
    }
   ],
   "source": [
    "df_mission_launches['Price'].describe()"
   ]
  },
  {
   "cell_type": "code",
   "execution_count": 168,
   "metadata": {},
   "outputs": [
    {
     "data": {
      "text/plain": [
       "<Axes: ylabel='Price'>"
      ]
     },
     "execution_count": 168,
     "metadata": {},
     "output_type": "execute_result"
    },
    {
     "data": {
      "image/png": "[encoded data removed]",
      "text/plain": [
       "<Figure size 640x480 with 1 Axes>"
      ]
     },
     "metadata": {},
     "output_type": "display_data"
    }
   ],
   "source": [
    "sns.boxplot(df_mission_launches['Price'])"
   ]
  },
  {
   "cell_type": "code",
   "execution_count": 169,
   "metadata": {},
   "outputs": [
    {
     "data": {
      "text/plain": [
       "<Axes: xlabel='Price', ylabel='Count'>"
      ]
     },
     "execution_count": 169,
     "metadata": {},
     "output_type": "execute_result"
    },
    {
     "data": {
      "image/png": "[encoded data removed]",
      "text/plain": [
       "<Figure size 640x480 with 1 Axes>"
      ]
     },
     "metadata": {},
     "output_type": "display_data"
    }
   ],
   "source": [
    "sns.histplot(df_mission_launches['Price'])"
   ]
  },
  {
   "cell_type": "code",
   "execution_count": 170,
   "metadata": {},
   "outputs": [],
   "source": [
    "df_mission_launches.dropna(subset=['Price'], inplace=True)"
   ]
  },
  {
   "cell_type": "code",
   "execution_count": 171,
   "metadata": {},
   "outputs": [
    {
     "data": {
      "text/plain": [
       "0       Fri Aug 07, 2020 05:12 UTC\n",
       "1       Thu Aug 06, 2020 04:01 UTC\n",
       "3       Thu Jul 30, 2020 21:25 UTC\n",
       "4       Thu Jul 30, 2020 11:50 UTC\n",
       "5       Sat Jul 25, 2020 03:13 UTC\n",
       "                   ...            \n",
       "3855    Fri Jul 29, 1966 18:43 UTC\n",
       "3971    Thu May 06, 1965 15:00 UTC\n",
       "3993    Thu Feb 11, 1965 15:19 UTC\n",
       "4000    Thu Dec 10, 1964 16:52 UTC\n",
       "4020    Tue Sep 01, 1964 15:00 UTC\n",
       "Name: Date, Length: 964, dtype: object"
      ]
     },
     "execution_count": 171,
     "metadata": {},
     "output_type": "execute_result"
    }
   ],
   "source": [
    "df_mission_launches['Date']"
   ]
  },
  {
   "cell_type": "code",
   "execution_count": 172,
   "metadata": {},
   "outputs": [],
   "source": [
    "from datetime import datetime\n",
    "\n",
    "fechas_convertidas = [\n",
    "    datetime.strptime(fecha, '%a %b %d, %Y %H:%M UTC').strftime('%d %b %Y') if 'UTC' in fecha else datetime.strptime(fecha, '%a %b %d, %Y').strftime('%d %b %Y') \n",
    "    for fecha in df_mission_launches['Date']\n",
    "]\n",
    "\n",
    "# Asignar fechas convertidas de vuelta al DataFrame\n",
    "df_mission_launches['Date'] = fechas_convertidas"
   ]
  },
  {
   "cell_type": "code",
   "execution_count": 173,
   "metadata": {},
   "outputs": [
    {
     "data": {
      "text/plain": [
       "0       07 Aug 2020\n",
       "1       06 Aug 2020\n",
       "3       30 Jul 2020\n",
       "4       30 Jul 2020\n",
       "5       25 Jul 2020\n",
       "           ...     \n",
       "3855    29 Jul 1966\n",
       "3971    06 May 1965\n",
       "3993    11 Feb 1965\n",
       "4000    10 Dec 1964\n",
       "4020    01 Sep 1964\n",
       "Name: Date, Length: 964, dtype: object"
      ]
     },
     "execution_count": 173,
     "metadata": {},
     "output_type": "execute_result"
    }
   ],
   "source": [
    "df_mission_launches['Date']"
   ]
  },
  {
   "cell_type": "code",
   "execution_count": 174,
   "metadata": {
    "colab": {
     "background_save": true,
     "base_uri": "https://localhost:8080/"
    },
    "id": "ERdOlvQWkyCB",
    "outputId": "e1e354ce-a555-48b3-947f-e18f38b84f5f"
   },
   "outputs": [
    {
     "data": {
      "text/plain": [
       "Date\n",
       "False    922\n",
       "True      42\n",
       "Name: count, dtype: int64"
      ]
     },
     "execution_count": 174,
     "metadata": {},
     "output_type": "execute_result"
    }
   ],
   "source": [
    "df_mission_launches['Date'].duplicated().value_counts()"
   ]
  },
  {
   "cell_type": "code",
   "execution_count": 175,
   "metadata": {
    "colab": {
     "background_save": true
    },
    "id": "qOrMFaCVmu3k"
   },
   "outputs": [],
   "source": [
    "df_mission_launches.drop_duplicates(subset=['Date'], inplace=True)"
   ]
  },
  {
   "cell_type": "code",
   "execution_count": 176,
   "metadata": {
    "colab": {
     "background_save": true
    },
    "id": "mhZ1zIwKnPO0"
   },
   "outputs": [],
   "source": [
    "df_mission_launches['Date'] = pd.to_datetime(df_mission_launches['Date'])"
   ]
  },
  {
   "cell_type": "code",
   "execution_count": 180,
   "metadata": {},
   "outputs": [
    {
     "data": {
      "text/plain": [
       "Organisation              object\n",
       "Location                  object\n",
       "Date              datetime64[ns]\n",
       "Detail                    object\n",
       "Rocket_Status             object\n",
       "Price                    float64\n",
       "Mission_Status            object\n",
       "dtype: object"
      ]
     },
     "execution_count": 180,
     "metadata": {},
     "output_type": "execute_result"
    }
   ],
   "source": [
    "df_mission_launches.dtypes"
   ]
  },
  {
   "cell_type": "code",
   "execution_count": 177,
   "metadata": {
    "colab": {
     "background_save": true
    },
    "id": "_ibA4VY4nYm7"
   },
   "outputs": [],
   "source": [
    "df_mission_launches.drop(['Unnamed: 0.1', 'Unnamed: 0'], axis=1, inplace=True)"
   ]
  },
  {
   "cell_type": "code",
   "execution_count": 178,
   "metadata": {
    "colab": {
     "background_save": true,
     "base_uri": "https://localhost:8080/",
     "height": 424
    },
    "id": "M3qf079bnpXb",
    "outputId": "e8388684-efc0-418a-feb9-a49069772963"
   },
   "outputs": [
    {
     "data": {
      "text/html": [
       "<div>\n",
       "<style scoped>\n",
       "    .dataframe tbody tr th:only-of-type {\n",
       "        vertical-align: middle;\n",
       "    }\n",
       "\n",
       "    .dataframe tbody tr th {\n",
       "        vertical-align: top;\n",
       "    }\n",
       "\n",
       "    .dataframe thead th {\n",
       "        text-align: right;\n",
       "    }\n",
       "</style>\n",
       "<table border=\"1\" class=\"dataframe\">\n",
       "  <thead>\n",
       "    <tr style=\"text-align: right;\">\n",
       "      <th></th>\n",
       "      <th>Organisation</th>\n",
       "      <th>Location</th>\n",
       "      <th>Date</th>\n",
       "      <th>Detail</th>\n",
       "      <th>Rocket_Status</th>\n",
       "      <th>Price</th>\n",
       "      <th>Mission_Status</th>\n",
       "    </tr>\n",
       "  </thead>\n",
       "  <tbody>\n",
       "    <tr>\n",
       "      <th>0</th>\n",
       "      <td>SpaceX</td>\n",
       "      <td>LC-39A, Kennedy Space Center, Florida, USA</td>\n",
       "      <td>2020-08-07</td>\n",
       "      <td>Falcon 9 Block 5 | Starlink V1 L9 &amp; BlackSky</td>\n",
       "      <td>StatusActive</td>\n",
       "      <td>50.00</td>\n",
       "      <td>Success</td>\n",
       "    </tr>\n",
       "    <tr>\n",
       "      <th>1</th>\n",
       "      <td>CASC</td>\n",
       "      <td>Site 9401 (SLS-2), Jiuquan Satellite Launch Ce...</td>\n",
       "      <td>2020-08-06</td>\n",
       "      <td>Long March 2D | Gaofen-9 04 &amp; Q-SAT</td>\n",
       "      <td>StatusActive</td>\n",
       "      <td>29.75</td>\n",
       "      <td>Success</td>\n",
       "    </tr>\n",
       "    <tr>\n",
       "      <th>3</th>\n",
       "      <td>Roscosmos</td>\n",
       "      <td>Site 200/39, Baikonur Cosmodrome, Kazakhstan</td>\n",
       "      <td>2020-07-30</td>\n",
       "      <td>Proton-M/Briz-M | Ekspress-80 &amp; Ekspress-103</td>\n",
       "      <td>StatusActive</td>\n",
       "      <td>65.00</td>\n",
       "      <td>Success</td>\n",
       "    </tr>\n",
       "    <tr>\n",
       "      <th>5</th>\n",
       "      <td>CASC</td>\n",
       "      <td>LC-9, Taiyuan Satellite Launch Center, China</td>\n",
       "      <td>2020-07-25</td>\n",
       "      <td>Long March 4B | Ziyuan-3 03, Apocalypse-10 &amp; N...</td>\n",
       "      <td>StatusActive</td>\n",
       "      <td>64.68</td>\n",
       "      <td>Success</td>\n",
       "    </tr>\n",
       "    <tr>\n",
       "      <th>6</th>\n",
       "      <td>Roscosmos</td>\n",
       "      <td>Site 31/6, Baikonur Cosmodrome, Kazakhstan</td>\n",
       "      <td>2020-07-23</td>\n",
       "      <td>Soyuz 2.1a | Progress MS-15</td>\n",
       "      <td>StatusActive</td>\n",
       "      <td>48.50</td>\n",
       "      <td>Success</td>\n",
       "    </tr>\n",
       "    <tr>\n",
       "      <th>...</th>\n",
       "      <td>...</td>\n",
       "      <td>...</td>\n",
       "      <td>...</td>\n",
       "      <td>...</td>\n",
       "      <td>...</td>\n",
       "      <td>...</td>\n",
       "      <td>...</td>\n",
       "    </tr>\n",
       "    <tr>\n",
       "      <th>3855</th>\n",
       "      <td>US Air Force</td>\n",
       "      <td>SLC-4W, Vandenberg AFB, California, USA</td>\n",
       "      <td>1966-07-29</td>\n",
       "      <td>Titan IIIB | KH-8</td>\n",
       "      <td>StatusRetired</td>\n",
       "      <td>59.00</td>\n",
       "      <td>Success</td>\n",
       "    </tr>\n",
       "    <tr>\n",
       "      <th>3971</th>\n",
       "      <td>US Air Force</td>\n",
       "      <td>SLC-20, Cape Canaveral AFS, Florida, USA</td>\n",
       "      <td>1965-05-06</td>\n",
       "      <td>Titan IIIA | LES 2 &amp; LCS 1</td>\n",
       "      <td>StatusRetired</td>\n",
       "      <td>63.23</td>\n",
       "      <td>Success</td>\n",
       "    </tr>\n",
       "    <tr>\n",
       "      <th>3993</th>\n",
       "      <td>US Air Force</td>\n",
       "      <td>SLC-20, Cape Canaveral AFS, Florida, USA</td>\n",
       "      <td>1965-02-11</td>\n",
       "      <td>Titan IIIA | LES 1</td>\n",
       "      <td>StatusRetired</td>\n",
       "      <td>63.23</td>\n",
       "      <td>Success</td>\n",
       "    </tr>\n",
       "    <tr>\n",
       "      <th>4000</th>\n",
       "      <td>US Air Force</td>\n",
       "      <td>SLC-20, Cape Canaveral AFS, Florida, USA</td>\n",
       "      <td>1964-12-10</td>\n",
       "      <td>Titan IIIA | Transtage 2</td>\n",
       "      <td>StatusRetired</td>\n",
       "      <td>63.23</td>\n",
       "      <td>Success</td>\n",
       "    </tr>\n",
       "    <tr>\n",
       "      <th>4020</th>\n",
       "      <td>US Air Force</td>\n",
       "      <td>SLC-20, Cape Canaveral AFS, Florida, USA</td>\n",
       "      <td>1964-09-01</td>\n",
       "      <td>Titan IIIA | Transtage 1</td>\n",
       "      <td>StatusRetired</td>\n",
       "      <td>63.23</td>\n",
       "      <td>Failure</td>\n",
       "    </tr>\n",
       "  </tbody>\n",
       "</table>\n",
       "<p>922 rows × 7 columns</p>\n",
       "</div>"
      ],
      "text/plain": [
       "      Organisation                                           Location  \\\n",
       "0           SpaceX         LC-39A, Kennedy Space Center, Florida, USA   \n",
       "1             CASC  Site 9401 (SLS-2), Jiuquan Satellite Launch Ce...   \n",
       "3        Roscosmos       Site 200/39, Baikonur Cosmodrome, Kazakhstan   \n",
       "5             CASC       LC-9, Taiyuan Satellite Launch Center, China   \n",
       "6        Roscosmos         Site 31/6, Baikonur Cosmodrome, Kazakhstan   \n",
       "...            ...                                                ...   \n",
       "3855  US Air Force            SLC-4W, Vandenberg AFB, California, USA   \n",
       "3971  US Air Force           SLC-20, Cape Canaveral AFS, Florida, USA   \n",
       "3993  US Air Force           SLC-20, Cape Canaveral AFS, Florida, USA   \n",
       "4000  US Air Force           SLC-20, Cape Canaveral AFS, Florida, USA   \n",
       "4020  US Air Force           SLC-20, Cape Canaveral AFS, Florida, USA   \n",
       "\n",
       "           Date                                             Detail  \\\n",
       "0    2020-08-07       Falcon 9 Block 5 | Starlink V1 L9 & BlackSky   \n",
       "1    2020-08-06                Long March 2D | Gaofen-9 04 & Q-SAT   \n",
       "3    2020-07-30       Proton-M/Briz-M | Ekspress-80 & Ekspress-103   \n",
       "5    2020-07-25  Long March 4B | Ziyuan-3 03, Apocalypse-10 & N...   \n",
       "6    2020-07-23                        Soyuz 2.1a | Progress MS-15   \n",
       "...         ...                                                ...   \n",
       "3855 1966-07-29                                  Titan IIIB | KH-8   \n",
       "3971 1965-05-06                         Titan IIIA | LES 2 & LCS 1   \n",
       "3993 1965-02-11                                 Titan IIIA | LES 1   \n",
       "4000 1964-12-10                           Titan IIIA | Transtage 2   \n",
       "4020 1964-09-01                           Titan IIIA | Transtage 1   \n",
       "\n",
       "      Rocket_Status  Price Mission_Status  \n",
       "0      StatusActive  50.00        Success  \n",
       "1      StatusActive  29.75        Success  \n",
       "3      StatusActive  65.00        Success  \n",
       "5      StatusActive  64.68        Success  \n",
       "6      StatusActive  48.50        Success  \n",
       "...             ...    ...            ...  \n",
       "3855  StatusRetired  59.00        Success  \n",
       "3971  StatusRetired  63.23        Success  \n",
       "3993  StatusRetired  63.23        Success  \n",
       "4000  StatusRetired  63.23        Success  \n",
       "4020  StatusRetired  63.23        Failure  \n",
       "\n",
       "[922 rows x 7 columns]"
      ]
     },
     "execution_count": 178,
     "metadata": {},
     "output_type": "execute_result"
    }
   ],
   "source": [
    "df_mission_launches"
   ]
  },
  {
   "cell_type": "markdown",
   "metadata": {
    "id": "K-pn3BT_WiKm"
   },
   "source": [
    "# 1. ¿Cuál es la distribución temporal de los lanzamientos de misiones espaciales a lo largo de los años?"
   ]
  },
  {
   "cell_type": "code",
   "execution_count": 181,
   "metadata": {
    "colab": {
     "background_save": true
    },
    "id": "pZ6acOz_kHs-"
   },
   "outputs": [],
   "source": [
    "df_launches_by_year = df_mission_launches.copy()"
   ]
  },
  {
   "cell_type": "code",
   "execution_count": 182,
   "metadata": {
    "colab": {
     "background_save": true
    },
    "id": "N6WrJobaVtP4"
   },
   "outputs": [],
   "source": [
    "df_launches_by_year['Date'] = df_launches_by_year['Date'].dt.year"
   ]
  },
  {
   "cell_type": "code",
   "execution_count": 183,
   "metadata": {
    "colab": {
     "background_save": true
    },
    "id": "bvWZHSZqppxI"
   },
   "outputs": [],
   "source": [
    "launches_by_year = df_launches_by_year['Date'].value_counts(ascending= False).sort_index()"
   ]
  },
  {
   "cell_type": "code",
   "execution_count": 184,
   "metadata": {
    "colab": {
     "background_save": true,
     "base_uri": "https://localhost:8080/"
    },
    "id": "kh1w0sG170y-",
    "outputId": "641acdbb-c7c5-4696-b8a0-8bb2a5258c12"
   },
   "outputs": [
    {
     "name": "stdout",
     "output_type": "stream",
     "text": [
      "     Año  Número de lanzamientos\n",
      "0   2018                      81\n",
      "1   2019                      65\n",
      "2   2016                      61\n",
      "3   2017                      59\n",
      "4   2020                      47\n",
      "5   2014                      40\n",
      "6   2015                      36\n",
      "7   2013                      33\n",
      "8   2009                      31\n",
      "9   2011                      29\n",
      "10  2010                      29\n",
      "11  2008                      27\n",
      "12  2007                      27\n",
      "13  2006                      25\n",
      "14  2012                      24\n",
      "15  2003                      20\n",
      "16  1998                      18\n",
      "17  1997                      17\n",
      "18  2004                      17\n",
      "19  2002                      17\n",
      "20  2000                      16\n",
      "21  1994                      16\n",
      "22  2005                      15\n",
      "23  1999                      14\n",
      "24  1996                      14\n",
      "25  1993                      12\n",
      "26  1992                      12\n",
      "27  1990                      11\n",
      "28  1985                      10\n",
      "29  2001                      10\n",
      "30  1995                      10\n",
      "31  1968                       9\n",
      "32  1967                       8\n",
      "33  1969                       8\n",
      "34  1991                       7\n",
      "35  1984                       6\n",
      "36  1989                       6\n",
      "37  1988                       5\n",
      "38  1983                       5\n",
      "39  1982                       4\n",
      "40  1986                       3\n",
      "41  1966                       3\n",
      "42  1987                       3\n",
      "43  1965                       2\n",
      "44  1971                       2\n",
      "45  1972                       2\n",
      "46  1981                       2\n",
      "47  1964                       2\n",
      "48  1970                       1\n",
      "49  1973                       1\n"
     ]
    }
   ],
   "source": [
    "launches_df = pd.DataFrame(launches_by_year.sort_values(ascending=False))\n",
    "launches_df.reset_index(inplace=True)\n",
    "launches_df.columns = ['Año', 'Número de lanzamientos']\n",
    "\n",
    "# Mostrar la tabla\n",
    "print(launches_df)"
   ]
  },
  {
   "cell_type": "code",
   "execution_count": 185,
   "metadata": {
    "colab": {
     "background_save": true,
     "base_uri": "https://localhost:8080/",
     "height": 385
    },
    "id": "MTwuL7cLqaPH",
    "outputId": "6a839503-3242-416f-e8c0-57843d709928"
   },
   "outputs": [
    {
     "data": {
      "image/png": "[encoded data removed]",
      "text/plain": [
       "<Figure size 2000x600 with 1 Axes>"
      ]
     },
     "metadata": {},
     "output_type": "display_data"
    }
   ],
   "source": [
    "plt.figure(figsize=(20, 6))\n",
    "plt.bar(launches_by_year.index, launches_by_year.values, color='skyblue')\n",
    "\n",
    "# Agregar etiquetas y título\n",
    "plt.xlabel('Año')\n",
    "plt.ylabel('Número de lanzamientos')\n",
    "plt.title('Distribución temporal de lanzamientos de misiones espaciales')\n",
    "\n",
    "# Mostrar la gráfica\n",
    "plt.xticks(launches_by_year.index, rotation=45)\n",
    "plt.tight_layout()\n",
    "plt.show()"
   ]
  },
  {
   "cell_type": "code",
   "execution_count": 186,
   "metadata": {
    "colab": {
     "background_save": true,
     "base_uri": "https://localhost:8080/"
    },
    "id": "lUDxlbZb9kot",
    "outputId": "57c5246c-44b4-4117-863d-052f4d1d0f89"
   },
   "outputs": [
    {
     "data": {
      "text/plain": [
       "count    50.000000\n",
       "mean     18.440000\n",
       "std      18.270261\n",
       "min       1.000000\n",
       "25%       5.250000\n",
       "50%      13.000000\n",
       "75%      26.500000\n",
       "max      81.000000\n",
       "Name: count, dtype: float64"
      ]
     },
     "execution_count": 186,
     "metadata": {},
     "output_type": "execute_result"
    }
   ],
   "source": [
    "launches_by_year.describe()"
   ]
  },
  {
   "cell_type": "markdown",
   "metadata": {
    "id": "j6oBkz419fEf"
   },
   "source": [
    "# 2. ¿Cuál es la distribución de los lanzamientos por organización?\n",
    "\n"
   ]
  },
  {
   "cell_type": "code",
   "execution_count": 187,
   "metadata": {
    "colab": {
     "background_save": true
    },
    "id": "jgtuph_Z-Xc-"
   },
   "outputs": [],
   "source": [
    "df_launches_by_Organisation = df_mission_launches['Organisation'].copy()"
   ]
  },
  {
   "cell_type": "code",
   "execution_count": 188,
   "metadata": {
    "colab": {
     "background_save": true
    },
    "id": "GiGT_HSi_sVR"
   },
   "outputs": [],
   "source": [
    "launches_by_Organisation = df_launches_by_Organisation.value_counts()"
   ]
  },
  {
   "cell_type": "code",
   "execution_count": 189,
   "metadata": {
    "colab": {
     "background_save": true,
     "base_uri": "https://localhost:8080/"
    },
    "id": "leaySm9JBSFR",
    "outputId": "4e02560f-05e8-4182-eb22-b12123e2d715"
   },
   "outputs": [
    {
     "name": "stdout",
     "output_type": "stream",
     "text": [
      "       Organización  Número de lanzamientos\n",
      "0              NASA                     149\n",
      "1              CASC                     146\n",
      "2            SpaceX                      96\n",
      "3       Arianespace                      94\n",
      "4               ULA                      93\n",
      "5          Northrop                      83\n",
      "6              ISRO                      61\n",
      "7               MHI                      35\n",
      "8            VKS RF                      30\n",
      "9      US Air Force                      25\n",
      "10        Roscosmos                      21\n",
      "11        Kosmotras                      21\n",
      "12         Eurockot                      13\n",
      "13              ILS                      13\n",
      "14       Rocket Lab                       9\n",
      "15  Martin Marietta                       9\n",
      "16           Boeing                       7\n",
      "17         Lockheed                       7\n",
      "18             JAXA                       3\n",
      "19        RVSN USSR                       2\n",
      "20           ExPace                       1\n",
      "21           Sandia                       1\n",
      "22     Virgin Orbit                       1\n",
      "23              ESA                       1\n",
      "24              EER                       1\n"
     ]
    }
   ],
   "source": [
    "df_launches = pd.DataFrame(launches_by_Organisation.sort_values(ascending=False))\n",
    "df_launches.reset_index(inplace=True)\n",
    "df_launches.columns = ['Organización', 'Número de lanzamientos']\n",
    "\n",
    "# Mostrar la tabla\n",
    "print(df_launches)"
   ]
  },
  {
   "cell_type": "code",
   "execution_count": 190,
   "metadata": {
    "colab": {
     "background_save": true,
     "base_uri": "https://localhost:8080/",
     "height": 385
    },
    "id": "j6G5pGEbAr7_",
    "outputId": "2455a3a2-725a-4555-b294-a09c6717963b"
   },
   "outputs": [
    {
     "data": {
      "image/png": "[encoded data removed]",
      "text/plain": [
       "<Figure size 2000x600 with 1 Axes>"
      ]
     },
     "metadata": {},
     "output_type": "display_data"
    }
   ],
   "source": [
    "plt.figure(figsize=(20, 6))\n",
    "plt.bar(launches_by_Organisation.index, launches_by_Organisation.values, color='orange')\n",
    "\n",
    "# Agregar etiquetas y título\n",
    "plt.xlabel('Organización')\n",
    "plt.ylabel('Número de lanzamientos')\n",
    "plt.title('Lanzamientos por organización')\n",
    "\n",
    "# Rotar las etiquetas del eje x para una mejor visualización\n",
    "plt.xticks(rotation=45, ha='right')\n",
    "\n",
    "# Mostrar la gráfica\n",
    "plt.tight_layout()\n",
    "plt.show()"
   ]
  },
  {
   "cell_type": "code",
   "execution_count": 191,
   "metadata": {
    "colab": {
     "background_save": true,
     "base_uri": "https://localhost:8080/"
    },
    "id": "E6AiObRMCcb0",
    "outputId": "5539142f-dc36-40f8-bb64-9576476f15b8"
   },
   "outputs": [
    {
     "data": {
      "text/plain": [
       "count     25.000000\n",
       "mean      36.880000\n",
       "std       46.130539\n",
       "min        1.000000\n",
       "25%        3.000000\n",
       "50%       13.000000\n",
       "75%       61.000000\n",
       "max      149.000000\n",
       "Name: count, dtype: float64"
      ]
     },
     "execution_count": 191,
     "metadata": {},
     "output_type": "execute_result"
    }
   ],
   "source": [
    "launches_by_Organisation.describe()"
   ]
  },
  {
   "cell_type": "markdown",
   "metadata": {
    "id": "qWfuDCfzEVRw"
   },
   "source": [
    "# 3. ¿Cuál es la ubicación geográfica más común para los lanzamientos de misiones espaciales?"
   ]
  },
  {
   "cell_type": "code",
   "execution_count": 192,
   "metadata": {
    "colab": {
     "background_save": true,
     "base_uri": "https://localhost:8080/"
    },
    "id": "Bnf0e59wEzj1",
    "outputId": "91ba03f3-377c-4f05-c16b-07664ba00e2c"
   },
   "outputs": [
    {
     "data": {
      "text/plain": [
       "0    LC-39A, Kennedy Space Center, Florida, USA\n",
       "Name: Location, dtype: object"
      ]
     },
     "execution_count": 192,
     "metadata": {},
     "output_type": "execute_result"
    }
   ],
   "source": [
    "df_mission_launches['Location'].mode()"
   ]
  },
  {
   "cell_type": "code",
   "execution_count": 193,
   "metadata": {
    "colab": {
     "background_save": true,
     "base_uri": "https://localhost:8080/"
    },
    "id": "EdRIY9sUIbAS",
    "outputId": "1c53d369-9407-4797-f9d7-315e45b3165e"
   },
   "outputs": [
    {
     "data": {
      "text/plain": [
       "Location(John F. Kennedy Space Center, Brevard County, Florida, United States, (28.519230999999998, -80.64317239050752, 0.0))"
      ]
     },
     "execution_count": 193,
     "metadata": {},
     "output_type": "execute_result"
    }
   ],
   "source": [
    "from geopy.geocoders import Nominatim\n",
    "geolocator = Nominatim(user_agent=\"MyApp\")\n",
    "\n",
    "#Check sample location\n",
    "location = geolocator.geocode(\"Kennedy Space Center, Florida, USA\")\n",
    "location"
   ]
  },
  {
   "cell_type": "code",
   "execution_count": 194,
   "metadata": {
    "colab": {
     "background_save": true,
     "base_uri": "https://localhost:8080/",
     "height": 817
    },
    "id": "sh1dQLjrHIUi",
    "outputId": "ef2360cf-5fc1-447e-ed67-156ac59425ed"
   },
   "outputs": [
    {
     "name": "stderr",
     "output_type": "stream",
     "text": [
      "C:\\Users\\Usuario\\AppData\\Local\\Temp\\ipykernel_11328\\2089509953.py:15: UserWarning: color argument of Icon should be one of: {'black', 'blue', 'darkgreen', 'red', 'darkred', 'darkblue', 'gray', 'lightred', 'darkpurple', 'pink', 'green', 'orange', 'purple', 'cadetblue', 'lightgreen', 'beige', 'white', 'lightgray', 'lightblue'}.\n",
      "  icon=folium.Icon(color=\"oranage\", icon=\"rocket\"),\n"
     ]
    },
    {
     "data": {
      "text/html": [
       "<div style=\"width:100%;\"><div style=\"position:relative;width:100%;height:0;padding-bottom:60%;\"><span style=\"color:#565656\">Make this Notebook Trusted to load map: File -> Trust Notebook</span><iframe srcdoc=\"&lt;!DOCTYPE html&gt;\n",
       "&lt;html&gt;\n",
       "&lt;head&gt;\n",
       "    \n",
       "    &lt;meta http-equiv=&quot;content-type&quot; content=&quot;text/html; charset=UTF-8&quot; /&gt;\n",
       "    \n",
       "        &lt;script&gt;\n",
       "            L_NO_TOUCH = false;\n",
       "            L_DISABLE_3D = false;\n",
       "        &lt;/script&gt;\n",
       "    \n",
       "    &lt;style&gt;html, body {width: 100%;height: 100%;margin: 0;padding: 0;}&lt;/style&gt;\n",
       "    &lt;style&gt;#map {position:absolute;top:0;bottom:0;right:0;left:0;}&lt;/style&gt;\n",
       "    &lt;script src=&quot;https://cdn.jsdelivr.net/npm/leaflet@1.9.3/dist/leaflet.js&quot;&gt;&lt;/script&gt;\n",
       "    &lt;script src=&quot;https://code.jquery.com/jquery-3.7.1.min.js&quot;&gt;&lt;/script&gt;\n",
       "    &lt;script src=&quot;https://cdn.jsdelivr.net/npm/bootstrap@5.2.2/dist/js/bootstrap.bundle.min.js&quot;&gt;&lt;/script&gt;\n",
       "    &lt;script src=&quot;https://cdnjs.cloudflare.com/ajax/libs/Leaflet.awesome-markers/2.0.2/leaflet.awesome-markers.js&quot;&gt;&lt;/script&gt;\n",
       "    &lt;link rel=&quot;stylesheet&quot; href=&quot;https://cdn.jsdelivr.net/npm/leaflet@1.9.3/dist/leaflet.css&quot;/&gt;\n",
       "    &lt;link rel=&quot;stylesheet&quot; href=&quot;https://cdn.jsdelivr.net/npm/bootstrap@5.2.2/dist/css/bootstrap.min.css&quot;/&gt;\n",
       "    &lt;link rel=&quot;stylesheet&quot; href=&quot;https://netdna.bootstrapcdn.com/bootstrap/3.0.0/css/bootstrap.min.css&quot;/&gt;\n",
       "    &lt;link rel=&quot;stylesheet&quot; href=&quot;https://cdn.jsdelivr.net/npm/@fortawesome/fontawesome-free@6.2.0/css/all.min.css&quot;/&gt;\n",
       "    &lt;link rel=&quot;stylesheet&quot; href=&quot;https://cdnjs.cloudflare.com/ajax/libs/Leaflet.awesome-markers/2.0.2/leaflet.awesome-markers.css&quot;/&gt;\n",
       "    &lt;link rel=&quot;stylesheet&quot; href=&quot;https://cdn.jsdelivr.net/gh/python-visualization/folium/folium/templates/leaflet.awesome.rotate.min.css&quot;/&gt;\n",
       "    \n",
       "            &lt;meta name=&quot;viewport&quot; content=&quot;width=device-width,\n",
       "                initial-scale=1.0, maximum-scale=1.0, user-scalable=no&quot; /&gt;\n",
       "            &lt;style&gt;\n",
       "                #map_dac725d07630eb1d691896b81e4f07df {\n",
       "                    position: relative;\n",
       "                    width: 100.0%;\n",
       "                    height: 100.0%;\n",
       "                    left: 0.0%;\n",
       "                    top: 0.0%;\n",
       "                }\n",
       "                .leaflet-container { font-size: 1rem; }\n",
       "            &lt;/style&gt;\n",
       "        \n",
       "&lt;/head&gt;\n",
       "&lt;body&gt;\n",
       "    \n",
       "    \n",
       "            &lt;div class=&quot;folium-map&quot; id=&quot;map_dac725d07630eb1d691896b81e4f07df&quot; &gt;&lt;/div&gt;\n",
       "        \n",
       "&lt;/body&gt;\n",
       "&lt;script&gt;\n",
       "    \n",
       "    \n",
       "            var map_dac725d07630eb1d691896b81e4f07df = L.map(\n",
       "                &quot;map_dac725d07630eb1d691896b81e4f07df&quot;,\n",
       "                {\n",
       "                    center: [28.519230999999998, -80.64317239050752],\n",
       "                    crs: L.CRS.EPSG3857,\n",
       "                    zoom: 15,\n",
       "                    zoomControl: true,\n",
       "                    preferCanvas: false,\n",
       "                }\n",
       "            );\n",
       "\n",
       "            \n",
       "\n",
       "        \n",
       "    \n",
       "            var tile_layer_efce8484ee8cc66a1e6fb3c04bbb1f9c = L.tileLayer(\n",
       "                &quot;https://tile.openstreetmap.org/{z}/{x}/{y}.png&quot;,\n",
       "                {&quot;attribution&quot;: &quot;\\u0026copy; \\u003ca href=\\&quot;https://www.openstreetmap.org/copyright\\&quot;\\u003eOpenStreetMap\\u003c/a\\u003e contributors&quot;, &quot;detectRetina&quot;: false, &quot;maxNativeZoom&quot;: 19, &quot;maxZoom&quot;: 19, &quot;minZoom&quot;: 0, &quot;noWrap&quot;: false, &quot;opacity&quot;: 1, &quot;subdomains&quot;: &quot;abc&quot;, &quot;tms&quot;: false}\n",
       "            );\n",
       "        \n",
       "    \n",
       "            tile_layer_efce8484ee8cc66a1e6fb3c04bbb1f9c.addTo(map_dac725d07630eb1d691896b81e4f07df);\n",
       "        \n",
       "    \n",
       "            var marker_348adb31e0b288706ba97477ca00caed = L.marker(\n",
       "                [28.519230999999998, -80.64317239050752],\n",
       "                {}\n",
       "            ).addTo(map_dac725d07630eb1d691896b81e4f07df);\n",
       "        \n",
       "    \n",
       "            var icon_fd616c2f0957a57d576d0b8155cf5a4e = L.AwesomeMarkers.icon(\n",
       "                {&quot;extraClasses&quot;: &quot;fa-rotate-0&quot;, &quot;icon&quot;: &quot;rocket&quot;, &quot;iconColor&quot;: &quot;white&quot;, &quot;markerColor&quot;: &quot;oranage&quot;, &quot;prefix&quot;: &quot;glyphicon&quot;}\n",
       "            );\n",
       "            marker_348adb31e0b288706ba97477ca00caed.setIcon(icon_fd616c2f0957a57d576d0b8155cf5a4e);\n",
       "        \n",
       "    \n",
       "        var popup_f514d7f374b2eb264e879d3adf2fb3f0 = L.popup({&quot;maxWidth&quot;: &quot;100%&quot;});\n",
       "\n",
       "        \n",
       "            \n",
       "                var html_a6062475cda468acbf528d282a48dc14 = $(`&lt;div id=&quot;html_a6062475cda468acbf528d282a48dc14&quot; style=&quot;width: 100.0%; height: 100.0%;&quot;&gt;Baikonur Cosmodrome&lt;/div&gt;`)[0];\n",
       "                popup_f514d7f374b2eb264e879d3adf2fb3f0.setContent(html_a6062475cda468acbf528d282a48dc14);\n",
       "            \n",
       "        \n",
       "\n",
       "        marker_348adb31e0b288706ba97477ca00caed.bindPopup(popup_f514d7f374b2eb264e879d3adf2fb3f0)\n",
       "        ;\n",
       "\n",
       "        \n",
       "    \n",
       "&lt;/script&gt;\n",
       "&lt;/html&gt;\" style=\"position:absolute;width:100%;height:100%;left:0;top:0;border:none !important;\" allowfullscreen webkitallowfullscreen mozallowfullscreen></iframe></div></div>"
      ],
      "text/plain": [
       "<folium.folium.Map at 0x111818c7460>"
      ]
     },
     "metadata": {},
     "output_type": "display_data"
    }
   ],
   "source": [
    "from IPython.display import display\n",
    "import folium\n",
    "\n",
    "# Coordenadas de Baikonur Cosmodrome, Kazakhstan\n",
    "latitude = 28.519230999999998\n",
    "longitude = -80.64317239050752\n",
    "\n",
    "# Crear el mapa centrado en Baikonur Cosmodrome\n",
    "m = folium.Map(location=[latitude, longitude], zoom_start=15)\n",
    "\n",
    "# Añadir un marcador en Baikonur Cosmodrome\n",
    "folium.Marker(\n",
    "    location=[latitude, longitude],\n",
    "    popup=\"Baikonur Cosmodrome\",\n",
    "    icon=folium.Icon(color=\"oranage\", icon=\"rocket\"),\n",
    ").add_to(m)\n",
    "\n",
    "# Mostrar el mapa en el notebook\n",
    "display(m)\n"
   ]
  },
  {
   "cell_type": "markdown",
   "metadata": {
    "id": "W0nwQfpM0YAi"
   },
   "source": [
    "# 1. ¿Existe alguna correlación entre el estado del cohete y el éxito de la misión?"
   ]
  },
  {
   "cell_type": "code",
   "execution_count": 195,
   "metadata": {
    "colab": {
     "background_save": true
    },
    "id": "yRLLomGczzLV"
   },
   "outputs": [],
   "source": [
    "df_Rocket_Mission_Status = df_mission_launches[['Rocket_Status', 'Mission_Status']].copy()"
   ]
  },
  {
   "cell_type": "code",
   "execution_count": 196,
   "metadata": {
    "colab": {
     "background_save": true,
     "base_uri": "https://localhost:8080/"
    },
    "id": "M1Tu4G681-ym",
    "outputId": "43028043-8fa4-44b3-916b-83827cda2443"
   },
   "outputs": [
    {
     "data": {
      "text/plain": [
       "array(['Success', 'Failure', 'Partial Failure', 'Prelaunch Failure'],\n",
       "      dtype=object)"
      ]
     },
     "execution_count": 196,
     "metadata": {},
     "output_type": "execute_result"
    }
   ],
   "source": [
    "df_Rocket_Mission_Status.Mission_Status.unique()"
   ]
  },
  {
   "cell_type": "code",
   "execution_count": 197,
   "metadata": {
    "colab": {
     "background_save": true
    },
    "id": "qKlVp83G5TSl"
   },
   "outputs": [],
   "source": [
    "mapping = {\n",
    "    'Success': 3,\n",
    "    'Failure': 0,\n",
    "    'Prelaunch Failure': 1,\n",
    "    'Partial Failure': 2\n",
    "}\n",
    "\n",
    "# Aplicar el mapeo a la columna 'Mission_Status'\n",
    "df_Rocket_Mission_Status['Mission_Status'] = df_Rocket_Mission_Status['Mission_Status'].replace(mapping)"
   ]
  },
  {
   "cell_type": "code",
   "execution_count": 198,
   "metadata": {
    "colab": {
     "background_save": true,
     "base_uri": "https://localhost:8080/"
    },
    "id": "2ChwRTCs5wty",
    "outputId": "1b97d994-b3db-4c70-9d28-8cb52000b8cd"
   },
   "outputs": [
    {
     "data": {
      "text/plain": [
       "array(['StatusActive', 'StatusRetired'], dtype=object)"
      ]
     },
     "execution_count": 198,
     "metadata": {},
     "output_type": "execute_result"
    }
   ],
   "source": [
    "df_Rocket_Mission_Status.Rocket_Status.unique()"
   ]
  },
  {
   "cell_type": "code",
   "execution_count": 199,
   "metadata": {
    "colab": {
     "background_save": true
    },
    "id": "oWR4zEqM5krV"
   },
   "outputs": [],
   "source": [
    "mapping = {'StatusActive': 1,\n",
    "           'StatusRetired': 0}\n",
    "\n",
    "df_Rocket_Mission_Status['Rocket_Status'] = df_Rocket_Mission_Status['Rocket_Status'].replace(mapping)"
   ]
  },
  {
   "cell_type": "code",
   "execution_count": 200,
   "metadata": {
    "colab": {
     "background_save": true,
     "base_uri": "https://localhost:8080/",
     "height": 112
    },
    "id": "yF5kefEM7Y9F",
    "outputId": "9d6a83f5-24a7-4c6d-e6d1-40e489dcd78d"
   },
   "outputs": [
    {
     "data": {
      "text/html": [
       "<div>\n",
       "<style scoped>\n",
       "    .dataframe tbody tr th:only-of-type {\n",
       "        vertical-align: middle;\n",
       "    }\n",
       "\n",
       "    .dataframe tbody tr th {\n",
       "        vertical-align: top;\n",
       "    }\n",
       "\n",
       "    .dataframe thead th {\n",
       "        text-align: right;\n",
       "    }\n",
       "</style>\n",
       "<table border=\"1\" class=\"dataframe\">\n",
       "  <thead>\n",
       "    <tr style=\"text-align: right;\">\n",
       "      <th></th>\n",
       "      <th>Rocket_Status</th>\n",
       "      <th>Mission_Status</th>\n",
       "    </tr>\n",
       "  </thead>\n",
       "  <tbody>\n",
       "    <tr>\n",
       "      <th>Rocket_Status</th>\n",
       "      <td>1.000000</td>\n",
       "      <td>0.048722</td>\n",
       "    </tr>\n",
       "    <tr>\n",
       "      <th>Mission_Status</th>\n",
       "      <td>0.048722</td>\n",
       "      <td>1.000000</td>\n",
       "    </tr>\n",
       "  </tbody>\n",
       "</table>\n",
       "</div>"
      ],
      "text/plain": [
       "                Rocket_Status  Mission_Status\n",
       "Rocket_Status        1.000000        0.048722\n",
       "Mission_Status       0.048722        1.000000"
      ]
     },
     "execution_count": 200,
     "metadata": {},
     "output_type": "execute_result"
    }
   ],
   "source": [
    "df_Rocket_Mission_Status.corr()"
   ]
  },
  {
   "cell_type": "code",
   "execution_count": 201,
   "metadata": {
    "colab": {
     "background_save": true,
     "base_uri": "https://localhost:8080/",
     "height": 300
    },
    "id": "cEs66YoK-va3",
    "outputId": "83bf0fd4-eb98-461d-f71b-9fbc41e549ae"
   },
   "outputs": [
    {
     "data": {
      "text/html": [
       "<div>\n",
       "<style scoped>\n",
       "    .dataframe tbody tr th:only-of-type {\n",
       "        vertical-align: middle;\n",
       "    }\n",
       "\n",
       "    .dataframe tbody tr th {\n",
       "        vertical-align: top;\n",
       "    }\n",
       "\n",
       "    .dataframe thead th {\n",
       "        text-align: right;\n",
       "    }\n",
       "</style>\n",
       "<table border=\"1\" class=\"dataframe\">\n",
       "  <thead>\n",
       "    <tr style=\"text-align: right;\">\n",
       "      <th></th>\n",
       "      <th>Rocket_Status</th>\n",
       "      <th>Mission_Status</th>\n",
       "    </tr>\n",
       "  </thead>\n",
       "  <tbody>\n",
       "    <tr>\n",
       "      <th>count</th>\n",
       "      <td>922.000000</td>\n",
       "      <td>922.000000</td>\n",
       "    </tr>\n",
       "    <tr>\n",
       "      <th>mean</th>\n",
       "      <td>0.596529</td>\n",
       "      <td>2.865510</td>\n",
       "    </tr>\n",
       "    <tr>\n",
       "      <th>std</th>\n",
       "      <td>0.490860</td>\n",
       "      <td>0.588824</td>\n",
       "    </tr>\n",
       "    <tr>\n",
       "      <th>min</th>\n",
       "      <td>0.000000</td>\n",
       "      <td>0.000000</td>\n",
       "    </tr>\n",
       "    <tr>\n",
       "      <th>25%</th>\n",
       "      <td>0.000000</td>\n",
       "      <td>3.000000</td>\n",
       "    </tr>\n",
       "    <tr>\n",
       "      <th>50%</th>\n",
       "      <td>1.000000</td>\n",
       "      <td>3.000000</td>\n",
       "    </tr>\n",
       "    <tr>\n",
       "      <th>75%</th>\n",
       "      <td>1.000000</td>\n",
       "      <td>3.000000</td>\n",
       "    </tr>\n",
       "    <tr>\n",
       "      <th>max</th>\n",
       "      <td>1.000000</td>\n",
       "      <td>3.000000</td>\n",
       "    </tr>\n",
       "  </tbody>\n",
       "</table>\n",
       "</div>"
      ],
      "text/plain": [
       "       Rocket_Status  Mission_Status\n",
       "count     922.000000      922.000000\n",
       "mean        0.596529        2.865510\n",
       "std         0.490860        0.588824\n",
       "min         0.000000        0.000000\n",
       "25%         0.000000        3.000000\n",
       "50%         1.000000        3.000000\n",
       "75%         1.000000        3.000000\n",
       "max         1.000000        3.000000"
      ]
     },
     "execution_count": 201,
     "metadata": {},
     "output_type": "execute_result"
    }
   ],
   "source": [
    "df_Rocket_Mission_Status.describe()"
   ]
  },
  {
   "cell_type": "code",
   "execution_count": 213,
   "metadata": {
    "colab": {
     "background_save": true,
     "base_uri": "https://localhost:8080/",
     "height": 607
    },
    "id": "d4jD-pWB8jVG",
    "outputId": "415d0d07-1867-410c-d100-8485db1a9cea"
   },
   "outputs": [
    {
     "data": {
      "image/png": "[encoded data removed]",
      "text/plain": [
       "<Figure size 800x600 with 1 Axes>"
      ]
     },
     "metadata": {},
     "output_type": "display_data"
    }
   ],
   "source": [
    "from scipy.stats import linregress\n",
    "\n",
    "# Calcular la línea de regresión\n",
    "slope, intercept, r_value, p_value, std_err = linregress(df_Rocket_Mission_Status['Rocket_Status'], df_Rocket_Mission_Status['Mission_Status'])\n",
    "\n",
    "# Crear el gráfico de dispersión\n",
    "plt.figure(figsize=(8, 6))\n",
    "plt.scatter(df_Rocket_Mission_Status['Rocket_Status'],\n",
    "            df_Rocket_Mission_Status['Mission_Status'],\n",
    "            alpha=0.5,\n",
    "            color='blue')\n",
    "\n",
    "# Agregar la línea de regresión\n",
    "plt.plot(df_Rocket_Mission_Status['Rocket_Status'], \n",
    "         intercept + slope * df_Rocket_Mission_Status['Rocket_Status'], \n",
    "         color='red', label=f'Regresión Lineal (y={slope:.2f}x + {intercept:.2f})')\n",
    "\n",
    "\n",
    "# Agregar etiquetas y título\n",
    "plt.xlabel('Rocket Status Numeric')\n",
    "plt.ylabel('Mission Status Numeric')\n",
    "plt.title('Scatter Plot de Rocket Status vs Mission Status')\n",
    "\n",
    "# Mostrar el gráfico\n",
    "plt.grid(True)  # Agregar cuadrícula\n",
    "plt.tight_layout()\n",
    "plt.show()"
   ]
  },
  {
   "cell_type": "markdown",
   "metadata": {
    "colab": {
     "background_save": true,
     "base_uri": "https://localhost:8080/",
     "height": 53
    },
    "id": "woyXY8UUIqCT",
    "outputId": "bc2dfeac-f37f-4241-fcad-977c0744f251"
   },
   "source": [
    "se puede ver que hay una correlaccion muy baja entre 'Rocket_Status' y 'Mission_Status'.\n",
    "Sin embargo se puede realizar un analisis del estado de cohete con más exito de misiones"
   ]
  },
  {
   "cell_type": "code",
   "execution_count": 231,
   "metadata": {
    "colab": {
     "background_save": true
    },
    "id": "ijt18jONIJ_P"
   },
   "outputs": [],
   "source": [
    "df_Rocket_Mission_Status2 = df_mission_launches[['Rocket_Status', 'Mission_Status']].copy()"
   ]
  },
  {
   "cell_type": "code",
   "execution_count": 236,
   "metadata": {
    "colab": {
     "background_save": true,
     "base_uri": "https://localhost:8080/"
    },
    "id": "fB3R6OIf9_79",
    "outputId": "4b376b00-059a-46c6-a20e-2eb8ea3c94ad"
   },
   "outputs": [
    {
     "name": "stdout",
     "output_type": "stream",
     "text": [
      "Rocket_Status  Mission_Status   \n",
      "StatusRetired  Success              344\n",
      "               Failure               17\n",
      "               Partial Failure       10\n",
      "               Prelaunch Failure      1\n",
      "Name: count, dtype: int64\n"
     ]
    }
   ],
   "source": [
    "Status_Retired = df_Rocket_Mission_Status2.loc[df_Rocket_Mission_Status2['Rocket_Status'] == 'StatusRetired'].value_counts()\n",
    "print(Status_Retired)"
   ]
  },
  {
   "cell_type": "code",
   "execution_count": 237,
   "metadata": {
    "colab": {
     "background_save": true,
     "base_uri": "https://localhost:8080/"
    },
    "id": "bF_n5IptGRM_",
    "outputId": "727c05a9-f2bd-4981-874f-7d92b760a87a"
   },
   "outputs": [
    {
     "name": "stdout",
     "output_type": "stream",
     "text": [
      "Rocket_Status  Mission_Status \n",
      "StatusActive   Success            525\n",
      "               Failure             18\n",
      "               Partial Failure      7\n",
      "Name: count, dtype: int64\n"
     ]
    }
   ],
   "source": [
    "Status_Active = df_Rocket_Mission_Status2.loc[df_Rocket_Mission_Status2['Rocket_Status'] == 'StatusActive'].value_counts()\n",
    "print(Status_Active)"
   ]
  },
  {
   "cell_type": "code",
   "execution_count": 238,
   "metadata": {
    "colab": {
     "background_save": true
    },
    "id": "sMs2E0IKYhWK"
   },
   "outputs": [],
   "source": [
    "#este paso es importante para graficar\n",
    "\n",
    "Status_Retired = Status_Retired.reset_index()\n",
    "Status_Active = Status_Active.reset_index()"
   ]
  },
  {
   "cell_type": "code",
   "execution_count": 239,
   "metadata": {},
   "outputs": [
    {
     "data": {
      "text/html": [
       "<div>\n",
       "<style scoped>\n",
       "    .dataframe tbody tr th:only-of-type {\n",
       "        vertical-align: middle;\n",
       "    }\n",
       "\n",
       "    .dataframe tbody tr th {\n",
       "        vertical-align: top;\n",
       "    }\n",
       "\n",
       "    .dataframe thead th {\n",
       "        text-align: right;\n",
       "    }\n",
       "</style>\n",
       "<table border=\"1\" class=\"dataframe\">\n",
       "  <thead>\n",
       "    <tr style=\"text-align: right;\">\n",
       "      <th></th>\n",
       "      <th>Rocket_Status</th>\n",
       "      <th>Mission_Status</th>\n",
       "      <th>count</th>\n",
       "    </tr>\n",
       "  </thead>\n",
       "  <tbody>\n",
       "    <tr>\n",
       "      <th>0</th>\n",
       "      <td>StatusActive</td>\n",
       "      <td>Success</td>\n",
       "      <td>525</td>\n",
       "    </tr>\n",
       "    <tr>\n",
       "      <th>1</th>\n",
       "      <td>StatusActive</td>\n",
       "      <td>Failure</td>\n",
       "      <td>18</td>\n",
       "    </tr>\n",
       "    <tr>\n",
       "      <th>2</th>\n",
       "      <td>StatusActive</td>\n",
       "      <td>Partial Failure</td>\n",
       "      <td>7</td>\n",
       "    </tr>\n",
       "  </tbody>\n",
       "</table>\n",
       "</div>"
      ],
      "text/plain": [
       "  Rocket_Status   Mission_Status  count\n",
       "0  StatusActive          Success    525\n",
       "1  StatusActive          Failure     18\n",
       "2  StatusActive  Partial Failure      7"
      ]
     },
     "execution_count": 239,
     "metadata": {},
     "output_type": "execute_result"
    }
   ],
   "source": [
    "Status_Active"
   ]
  },
  {
   "cell_type": "code",
   "execution_count": 240,
   "metadata": {},
   "outputs": [
    {
     "data": {
      "image/png": "[encoded data removed]",
      "text/plain": [
       "<Figure size 1400x600 with 2 Axes>"
      ]
     },
     "metadata": {},
     "output_type": "display_data"
    }
   ],
   "source": [
    "\n",
    "# Crear el gráfico\n",
    "fig, axes = plt.subplots(nrows=1, ncols=2, figsize=(14, 6), sharey=True)\n",
    "\n",
    "# Gráfico para StatusActive\n",
    "axes[0].bar(Status_Active['Mission_Status'], Status_Active['count'], color=['red', 'orange', 'green'])\n",
    "axes[0].set_title('StatusActive')\n",
    "axes[0].set_ylabel('count')\n",
    "\n",
    "# Gráfico para StatusRetired\n",
    "axes[1].bar(Status_Retired['Mission_Status'], Status_Retired['count'], color=['red', 'orange', 'purple', 'green'])\n",
    "axes[1].set_title('StatusRetired')\n",
    "\n",
    "# Configuración general\n",
    "for ax in axes:\n",
    "    ax.set_xlabel('Mission Status')\n",
    "    ax.grid(True, linestyle='--', alpha=0.7)\n",
    "\n",
    "plt.tight_layout()\n",
    "plt.show()"
   ]
  },
  {
   "cell_type": "markdown",
   "metadata": {
    "id": "dlbR6IeZUwXq"
   },
   "source": [
    "# 5. ¿Cómo varía el precio de las misiones espaciales a lo largo del tiempo?"
   ]
  },
  {
   "cell_type": "code",
   "execution_count": null,
   "metadata": {
    "colab": {
     "background_save": true
    },
    "id": "po50_or5jMf7"
   },
   "outputs": [],
   "source": [
    "df_date_price = df_mission_launches[['Date','Price']].copy()"
   ]
  },
  {
   "cell_type": "code",
   "execution_count": null,
   "metadata": {
    "colab": {
     "background_save": true
    },
    "id": "PPAskVeut0h6"
   },
   "outputs": [],
   "source": [
    "# Extraer el año de la columna 'Date'\n",
    "df_date_price['Year'] = df_date_price['Date'].dt.year\n",
    "\n",
    "# Agrupar los precios por año y calcular el promedio\n",
    "precios_por_anio = df_date_price.groupby('Year')['Price'].mean()"
   ]
  },
  {
   "cell_type": "code",
   "execution_count": null,
   "metadata": {
    "colab": {
     "background_save": true,
     "base_uri": "https://localhost:8080/",
     "height": 510
    },
    "id": "VCRGwyoPspfT",
    "outputId": "4ad75725-baf5-47d7-fe8f-f1df0ad39e05"
   },
   "outputs": [
    {
     "data": {
      "image/png": "[encoded data removed]",
      "text/plain": [
       "<Figure size 1500x600 with 1 Axes>"
      ]
     },
     "metadata": {},
     "output_type": "display_data"
    }
   ],
   "source": [
    "# Crear el gráfico de barras\n",
    "plt.figure(figsize=(15, 6))\n",
    "precios_por_anio.plot(kind='bar', color='green')\n",
    "plt.title('Precio Promedio por Año')\n",
    "plt.xlabel('Año')\n",
    "plt.ylabel('Precio Promedio')\n",
    "plt.xticks(rotation=45)\n",
    "plt.grid(axis='y', linestyle='--', alpha=0.7)\n",
    "plt.tight_layout()\n",
    "plt.show()"
   ]
  },
  {
   "cell_type": "markdown",
   "metadata": {
    "id": "sO3BLf4NvFlb"
   },
   "source": [
    "# 6. ¿Cuál es la proporción de misiones exitosas respecto al total de misiones lanzadas?"
   ]
  },
  {
   "cell_type": "code",
   "execution_count": null,
   "metadata": {
    "colab": {
     "background_save": true
    },
    "id": "SZrFQIyDuEow"
   },
   "outputs": [],
   "source": [
    "df_Mission_Status = df_mission_launches['Mission_Status'].copy()"
   ]
  },
  {
   "cell_type": "code",
   "execution_count": null,
   "metadata": {
    "colab": {
     "background_save": true
    },
    "id": "k7oh1Kexvd_f"
   },
   "outputs": [],
   "source": [
    "df_Mission_Status = df_Mission_Status.value_counts()"
   ]
  },
  {
   "cell_type": "code",
   "execution_count": null,
   "metadata": {
    "colab": {
     "background_save": true,
     "base_uri": "https://localhost:8080/"
    },
    "id": "UT3KfekNwubQ",
    "outputId": "16b9b4c6-7529-4f82-9303-b3b644c4785b"
   },
   "outputs": [
    {
     "data": {
      "text/plain": [
       "Success              869\n",
       "Failure               35\n",
       "Partial Failure       17\n",
       "Prelaunch Failure      1\n",
       "Name: Mission_Status, dtype: int64"
      ]
     },
     "execution_count": 62,
     "metadata": {},
     "output_type": "execute_result"
    }
   ],
   "source": [
    "df_Mission_Status"
   ]
  },
  {
   "cell_type": "code",
   "execution_count": null,
   "metadata": {
    "colab": {
     "background_save": true,
     "base_uri": "https://localhost:8080/",
     "height": 607
    },
    "id": "k7o9WCa_voKW",
    "outputId": "d64c31b4-340a-491f-8d3d-17f60dec1c5e"
   },
   "outputs": [
    {
     "data": {
      "image/png": "[encoded data removed]",
      "text/plain": [
       "<Figure size 800x600 with 1 Axes>"
      ]
     },
     "metadata": {},
     "output_type": "display_data"
    }
   ],
   "source": [
    "plt.figure(figsize=(8, 6))\n",
    "df_Mission_Status.plot(kind='bar', color='green')\n",
    "plt.title('Misiones exitosas Vs Misiones lanzadas')\n",
    "plt.ylabel('Número de misiones')\n",
    "\n",
    "plt.xticks(rotation=0)\n",
    "plt.grid(axis='y', linestyle='--', alpha=0.7)\n",
    "plt.tight_layout()\n",
    "plt.show()"
   ]
  },
  {
   "cell_type": "markdown",
   "metadata": {
    "id": "OIUtlDdgJutB"
   },
   "source": [
    "\n",
    "# **Preguntas de probabilidad para analizar el dataset:**\n",
    "\n",
    "1. ¿Cuál es la probabilidad de que una misión espacial sea exitosa dado el estado del cohete?\n",
    "\n",
    "Puedes calcular la proporción de misiones exitosas para cada estado del cohete (por ejemplo, en buen estado, dañado, etc.).\n",
    "\n",
    "2. ¿Cuál es la probabilidad de que una misión espacial sea exitosa para cada organización?\n",
    "\n",
    "Calcula la probabilidad de éxito de las misiones para cada organización que haya lanzado cohetes.\n",
    "\n",
    "3. ¿Cuál es la probabilidad de que una misión espacial tenga un precio superior a cierto umbral dado el estado del cohete?\n",
    "\n",
    "Puedes calcular la probabilidad de que el precio de una misión supere cierto límite condicionado al estado del cohete.\n",
    "\n",
    "4. ¿Cuál es la probabilidad de que una misión espacial sea lanzada desde una ubicación específica dado el éxito de la misión?\n",
    "\n",
    "Analiza la probabilidad de que una misión sea lanzada desde una ubicación determinada, dada su exitosidad.\n",
    "\n",
    "5. ¿Cuál es la probabilidad de que una misión espacial sea exitosa en un año determinado?\n",
    "\n",
    "Calcula la probabilidad de éxito de las misiones en un año específico en comparación con otros años.\n",
    "\n",
    "6. ¿Cuál es la probabilidad de que una misión espacial tenga un precio dentro de cierto rango dado el éxito de la misión?\n",
    "\n",
    "Analiza la probabilidad de que el precio de una misión esté dentro de cierto rango, condicionado a si la misión fue exitosa o no."
   ]
  },
  {
   "cell_type": "markdown",
   "metadata": {
    "id": "sZew52iOxSmf"
   },
   "source": [
    "#1. ¿Cuál es la probabilidad de que una misión espacial sea exitosa dado el estado del cohete?"
   ]
  },
  {
   "cell_type": "code",
   "execution_count": null,
   "metadata": {
    "colab": {
     "background_save": true,
     "base_uri": "https://localhost:8080/"
    },
    "id": "p2AUN-F8Abkc",
    "outputId": "6858cb9d-55df-475f-fe8a-5c9bdb21b6e0"
   },
   "outputs": [
    {
     "name": "stdout",
     "output_type": "stream",
     "text": [
      "Rocket_Status\n",
      "StatusActive     0.954545\n",
      "StatusRetired    0.924731\n",
      "dtype: float64\n"
     ]
    }
   ],
   "source": [
    "# Calcular las frecuencias conjuntas de Rocket_Status y Mission_Status\n",
    "frecuencias_conjuntas = pd.crosstab(df_mission_launches['Rocket_Status'], df_mission_launches['Mission_Status'])\n",
    "\n",
    "# Calcular la probabilidad condicional de Mission_Status dado Rocket_Status\n",
    "probabilidad_exitosa_dado_estado_cohete = frecuencias_conjuntas['Success'] / frecuencias_conjuntas.sum(axis=1)\n",
    "\n",
    "# Mostrar las probabilidades condicionales\n",
    "print(probabilidad_exitosa_dado_estado_cohete)"
   ]
  },
  {
   "cell_type": "markdown",
   "metadata": {
    "id": "exlNWhIYBYxM"
   },
   "source": [
    "¿Cuál es la probabilidad de que una misión espacial sea exitosa para cada organización?"
   ]
  },
  {
   "cell_type": "code",
   "execution_count": null,
   "metadata": {
    "colab": {
     "background_save": true,
     "base_uri": "https://localhost:8080/"
    },
    "id": "ndipNJxmBbAR",
    "outputId": "23a51a88-3417-49c2-d6be-e91f422dddbc"
   },
   "outputs": [
    {
     "name": "stdout",
     "output_type": "stream",
     "text": [
      "Organisation\n",
      "Arianespace        0.968085\n",
      "Boeing             0.857143\n",
      "CASC               0.958904\n",
      "EER                0.000000\n",
      "ESA                1.000000\n",
      "Eurockot           0.923077\n",
      "ExPace             0.000000\n",
      "ILS                1.000000\n",
      "ISRO               0.868852\n",
      "JAXA               1.000000\n",
      "Kosmotras          0.952381\n",
      "Lockheed           1.000000\n",
      "MHI                1.000000\n",
      "Martin Marietta    0.777778\n",
      "NASA               0.979866\n",
      "Northrop           0.891566\n",
      "RVSN USSR          1.000000\n",
      "Rocket Lab         0.888889\n",
      "Roscosmos          0.952381\n",
      "Sandia             0.000000\n",
      "SpaceX             0.937500\n",
      "ULA                0.989247\n",
      "US Air Force       0.880000\n",
      "VKS RF             0.900000\n",
      "Virgin Orbit       0.000000\n",
      "Name: Probabilidad_Exito, dtype: float64\n"
     ]
    }
   ],
   "source": [
    "# Agrupa los datos por organización y cuenta el número de misiones y el número de misiones exitosas\n",
    "grouped_data = df_mission_launches.groupby('Organisation')['Mission_Status'].value_counts().unstack().fillna(0)\n",
    "\n",
    "# Calcula la probabilidad de éxito para cada organización\n",
    "grouped_data['Probabilidad_Exito'] = grouped_data['Success'] / grouped_data.sum(axis=1)\n",
    "\n",
    "# Muestra la probabilidad de éxito para cada organización\n",
    "print(grouped_data['Probabilidad_Exito'])"
   ]
  },
  {
   "cell_type": "code",
   "execution_count": null,
   "metadata": {
    "colab": {
     "background_save": true,
     "base_uri": "https://localhost:8080/"
    },
    "id": "U_N35WO3D30Y",
    "outputId": "ead5a098-cc01-4adc-f7a3-055decc5c69e"
   },
   "outputs": [
    {
     "name": "stdout",
     "output_type": "stream",
     "text": [
      "Rocket_Status\n",
      "StatusActive     0.300000\n",
      "StatusRetired    0.494624\n",
      "Name: Probabilidad_Precio_Superior, dtype: float64\n"
     ]
    }
   ],
   "source": [
    "# Definir el umbral de precio deseado\n",
    "umbral = 100  # Por ejemplo, $1,000,000\n",
    "\n",
    "# Agrupar los datos por estado del cohete y contar el número total de misiones y el número de misiones con precio superior al umbral\n",
    "grouped_data = df_mission_launches.groupby('Rocket_Status')['Price'].agg(['count', lambda x: (x > umbral).sum()])\n",
    "\n",
    "# Renombrar las columnas para mayor claridad\n",
    "grouped_data.columns = ['Total_Misiones', 'Misiones_Precio_Superior']\n",
    "\n",
    "# Calcular la probabilidad de que una misión tenga un precio superior al umbral dado el estado del cohete\n",
    "grouped_data['Probabilidad_Precio_Superior'] = grouped_data['Misiones_Precio_Superior'] / grouped_data['Total_Misiones']\n",
    "\n",
    "# Mostrar la probabilidad de precio superior para cada estado del cohete\n",
    "print(grouped_data['Probabilidad_Precio_Superior'])"
   ]
  },
  {
   "cell_type": "code",
   "execution_count": null,
   "metadata": {
    "colab": {
     "background_save": true,
     "base_uri": "https://localhost:8080/"
    },
    "id": "L-PAu5OWFAMr",
    "outputId": "40bb87a0-92aa-485e-95b3-1ca2f78b0aa2"
   },
   "outputs": [
    {
     "name": "stdout",
     "output_type": "stream",
     "text": [
      "Location\n",
      "Cosmic Girl, Mojave Air and Space Port, California, USA                                    0.000000\n",
      "ELA-3, Guiana Space Centre, French Guiana, France                                          0.974026\n",
      "ELS, Guiana Space Centre, French Guiana, France                                            1.000000\n",
      "ELV-1 (SLV), Guiana Space Centre, French Guiana, France                                    0.928571\n",
      "First Launch Pad, Satish Dhawan Space Centre, India                                        0.891892\n",
      "LA-Y1, Tanegashima Space Center, Japan                                                     1.000000\n",
      "LA-Y2, Tanegashima Space Center, Japan                                                     1.000000\n",
      "LC-2, Xichang Satellite Launch Center, China                                               0.906250\n",
      "LC-3, Xichang Satellite Launch Center, China                                               1.000000\n",
      "LC-39A, Kennedy Space Center, Florida, USA                                                 0.975000\n",
      "LC-39B, Kennedy Space Center, Florida, USA                                                 1.000000\n",
      "LC-7, Taiyuan Satellite Launch Center, China                                               1.000000\n",
      "LC-9, Taiyuan Satellite Launch Center, China                                               0.857143\n",
      "LP-0A, Wallops Flight Facility, Virginia, USA                                              0.846154\n",
      "LP-0B, Wallops Flight Facility, Virginia, USA                                              1.000000\n",
      "LP-1, Pacific Spaceport Complex, Alaska, USA                                               1.000000\n",
      "LP-41, Kauai, Pacific Missile Range Facility                                               0.000000\n",
      "Mu Pad, Uchinoura Space Center, Japan                                                      1.000000\n",
      "NB-52B Carrier, Cape Canaveral AFS, Florida, USA                                           1.000000\n",
      "NB-52B Carrier, Edwards AFB, California, USA                                               0.600000\n",
      "Omelek Island, Ronald Reagan Ballistic Missile Defense Test Site, Marshall Islands, USA    0.400000\n",
      "Rocket Lab LC-1A, M?hia Peninsula, New Zealand                                            0.888889\n",
      "SLC-20, Cape Canaveral AFS, Florida, USA                                                   0.750000\n",
      "SLC-37B, Cape Canaveral AFS, Florida, USA                                                  0.954545\n",
      "SLC-3E, Vandenberg AFB, California, USA                                                    1.000000\n",
      "SLC-40, Cape Canaveral AFS, Florida, USA                                                   0.932203\n",
      "SLC-41, Cape Canaveral AFS, Florida, USA                                                   0.985075\n",
      "SLC-46, Cape Canaveral AFS, Florida, USA                                                   1.000000\n",
      "SLC-4E, Vandenberg AFB, California, USA                                                    1.000000\n",
      "SLC-4W, Vandenberg AFB, California, USA                                                    0.909091\n",
      "SLC-576E, Vandenberg AFB, California, USA                                                  0.700000\n",
      "SLC-6, Vandenberg AFB, California, USA                                                     1.000000\n",
      "SLC-8, Vandenberg AFB, California, USA                                                     1.000000\n",
      "Second Launch Pad, Satish Dhawan Space Centre, India                                       0.833333\n",
      "Site 109/95, Baikonur Cosmodrome, Kazakhstan                                               0.909091\n",
      "Site 110/37, Baikonur Cosmodrome, Kazakhstan                                               1.000000\n",
      "Site 133/3, Plesetsk Cosmodrome, Russia                                                    0.903226\n",
      "Site 138 (LA-2B), Jiuquan Satellite Launch Center, China                                   1.000000\n",
      "Site 1S, Vostochny Cosmodrome, Russia                                                      1.000000\n",
      "Site 200/39, Baikonur Cosmodrome, Kazakhstan                                               1.000000\n",
      "Site 250, Baikonur Cosmodrome, Kazakhstan                                                  1.000000\n",
      "Site 31/6, Baikonur Cosmodrome, Kazakhstan                                                 0.928571\n",
      "Site 370/13, Yasny Cosmodrome, Russia                                                      1.000000\n",
      "Site 43/3, Plesetsk Cosmodrome, Russia                                                     1.000000\n",
      "Site 43/4, Plesetsk Cosmodrome, Russia                                                     1.000000\n",
      "Site 81/24, Baikonur Cosmodrome, Kazakhstan                                                0.857143\n",
      "Site 9401 (SLS-2), Jiuquan Satellite Launch Center, China                                  1.000000\n",
      "Site 95, Jiuquan Satellite Launch Center, China                                            0.888889\n",
      "Stargazer, Base Aerea de Gando, Gran Canaria                                               1.000000\n",
      "Stargazer, Cape Canaveral AFS, Florida, USA                                                1.000000\n",
      "Stargazer, Ronald Reagan Ballistic Missile Defense Test Site, Marshall Islands, USA        1.000000\n",
      "Stargazer, Vandenberg AFB, California, USA                                                 0.857143\n",
      "Stargazer, Wallops Flight Facility, Virginia, USA                                          1.000000\n",
      "Tai Rui Barge, Yellow Sea                                                                  1.000000\n",
      "Taiyuan Satellite Launch Center, China                                                     1.000000\n",
      "Xichang Satellite Launch Center, China                                                     1.000000\n",
      "Name: Probabilidad_Exito, dtype: float64\n"
     ]
    }
   ],
   "source": [
    "# Agrupar los datos por ubicación de lanzamiento y contar el número total de misiones y el número de misiones exitosas\n",
    "grouped_data = df_mission_launches.groupby('Location')['Mission_Status'].value_counts().unstack().fillna(0)\n",
    "\n",
    "# Calcular la probabilidad de que una misión sea exitosa dado que fue lanzada desde una ubicación específica\n",
    "grouped_data['Probabilidad_Exito'] = grouped_data['Success'] / grouped_data.sum(axis=1)\n",
    "\n",
    "# Mostrar la probabilidad de éxito para cada ubicación de lanzamiento\n",
    "print(grouped_data['Probabilidad_Exito'])"
   ]
  },
  {
   "cell_type": "code",
   "execution_count": null,
   "metadata": {
    "colab": {
     "background_save": true,
     "base_uri": "https://localhost:8080/"
    },
    "id": "MMU786oAFbY6",
    "outputId": "6a86262a-983f-4c62-b10b-2538ff8a314a"
   },
   "outputs": [
    {
     "name": "stdout",
     "output_type": "stream",
     "text": [
      "Year\n",
      "1964    0.500000\n",
      "1965    1.000000\n",
      "1966    1.000000\n",
      "1967    0.857143\n",
      "1968    1.000000\n",
      "1969    1.000000\n",
      "1970    1.000000\n",
      "1971    1.000000\n",
      "1972    1.000000\n",
      "1973    1.000000\n",
      "1981    1.000000\n",
      "1982    1.000000\n",
      "1983    1.000000\n",
      "1984    1.000000\n",
      "1985    1.000000\n",
      "1986    0.666667\n",
      "1987    1.000000\n",
      "1988    1.000000\n",
      "1989    1.000000\n",
      "1990    0.909091\n",
      "1991    1.000000\n",
      "1992    1.000000\n",
      "1993    0.833333\n",
      "1994    0.928571\n",
      "1995    0.800000\n",
      "1996    0.928571\n",
      "1997    1.000000\n",
      "1998    1.000000\n",
      "1999    1.000000\n",
      "2000    1.000000\n",
      "2001    0.888889\n",
      "2002    0.941176\n",
      "2003    0.950000\n",
      "2004    1.000000\n",
      "2005    0.933333\n",
      "2006    0.880000\n",
      "2007    0.960000\n",
      "2008    0.962963\n",
      "2009    0.967742\n",
      "2010    0.931034\n",
      "2011    0.964286\n",
      "2012    1.000000\n",
      "2013    0.968750\n",
      "2014    0.975000\n",
      "2015    0.944444\n",
      "2016    0.983051\n",
      "2017    0.964912\n",
      "2018    1.000000\n",
      "2019    0.969231\n",
      "2020    0.936170\n",
      "Name: Success Probability, dtype: float64\n"
     ]
    }
   ],
   "source": [
    "# Extraer el año de la columna de fechas 'Date'\n",
    "df_mission_launches['Year'] = df_mission_launches['Date'].dt.year\n",
    "\n",
    "# Contar el número total de misiones y el número de misiones exitosas para cada año\n",
    "missions_by_year = df_mission_launches.groupby('Year')['Mission_Status'].value_counts().unstack().fillna(0)\n",
    "\n",
    "# Calcular la probabilidad de éxito para cada año\n",
    "missions_by_year['Success Probability'] = missions_by_year['Success'] / (missions_by_year['Success'] + missions_by_year['Failure'])\n",
    "\n",
    "# Mostrar la probabilidad de éxito para cada año\n",
    "print(missions_by_year['Success Probability'])"
   ]
  },
  {
   "cell_type": "code",
   "execution_count": null,
   "metadata": {
    "colab": {
     "background_save": true,
     "base_uri": "https://localhost:8080/"
    },
    "id": "ms6v1w_RFyAK",
    "outputId": "714e4215-20d8-4e0f-d717-81818b4c60be"
   },
   "outputs": [
    {
     "name": "stdout",
     "output_type": "stream",
     "text": [
      "Mission_Status\n",
      "Failure              0.114286\n",
      "Partial Failure      0.235294\n",
      "Prelaunch Failure    0.000000\n",
      "Success              0.390104\n",
      "Name: Probabilidad_Precio_En_Rango, dtype: float64\n"
     ]
    }
   ],
   "source": [
    "# Define el rango de precios\n",
    "rango = (100, 2000)  # Por ejemplo, entre $1,000,000 y $2,000,000\n",
    "\n",
    "# Agrupa los datos por estado de la misión (éxito o fracaso) y cuenta el número total de misiones y el número de misiones dentro del rango de precios\n",
    "grouped_data = df_mission_launches.groupby('Mission_Status')['Price'].agg(['count', lambda x: ((x >= rango[0]) & (x <= rango[1])).sum()])\n",
    "\n",
    "# Renombra las columnas para mayor claridad\n",
    "grouped_data.columns = ['Total_Misiones', 'Misiones_Precio_En_Rango']\n",
    "\n",
    "# Calcula la probabilidad de que una misión tenga un precio dentro del rango dado el estado de la misión\n",
    "grouped_data['Probabilidad_Precio_En_Rango'] = grouped_data['Misiones_Precio_En_Rango'] / grouped_data['Total_Misiones']\n",
    "\n",
    "# Muestra la probabilidad de precio en rango para cada estado de la misión\n",
    "print(grouped_data['Probabilidad_Precio_En_Rango'])"
   ]
  }
 ],
 "metadata": {
  "colab": {
   "provenance": []
  },
  "kernelspec": {
   "display_name": "Python 3 (ipykernel)",
   "language": "python",
   "name": "python3"
  },
  "language_info": {
   "codemirror_mode": {
    "name": "ipython",
    "version": 3
   },
   "file_extension": ".py",
   "mimetype": "text/x-python",
   "name": "python",
   "nbconvert_exporter": "python",
   "pygments_lexer": "ipython3",
   "version": "3.10.9"
  }
 },
 "nbformat": 4,
 "nbformat_minor": 1
}
