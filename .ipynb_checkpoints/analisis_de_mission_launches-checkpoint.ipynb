{
 "cells": [
  {
   "cell_type": "markdown",
   "metadata": {
    "id": "Dgu1TuVuOkH5"
   },
   "source": []
  },
  {
   "cell_type": "markdown",
   "metadata": {
    "id": "4wCdS3R9ZcOw"
   },
   "source": [
    "# **Preguntas de análisis**\n",
    "\n",
    "1. ¿Cuál es la distribución temporal de los lanzamientos de misiones espaciales a lo largo de los años?\n",
    "\n",
    "Esta pregunta te ayudará a comprender la evolución de las misiones espaciales con el tiempo y si ha habido algún patrón o tendencia en el número de lanzamientos.\n",
    "\n",
    "2. ¿Cuál es la distribución de los lanzamientos por organización?\n",
    "\n",
    "Esta pregunta te permitirá entender qué organizaciones han sido las más activas en lanzamientos de misiones espaciales y cómo se comparan entre sí.\n",
    "\n",
    "3. ¿Cuál es la ubicación geográfica más común para los lanzamientos de misiones espaciales?\n",
    "\n",
    "Investigar la distribución geográfica de los lanzamientos puede revelar patrones de preferencia por ciertos lugares para realizar misiones espaciales.\n",
    "\n",
    "4. ¿Existe alguna correlación entre el estado del cohete y el éxito de la misión?\n",
    "\n",
    "Analizar si existe una relación entre el estado del cohete en el momento del lanzamiento y el éxito o fracaso de la misión puede proporcionar información importante sobre la confiabilidad de los sistemas de lanzamiento.\n",
    "\n",
    "5. ¿Cómo varía el precio de las misiones espaciales a lo largo del tiempo?\n",
    "\n",
    "Este análisis puede arrojar luz sobre las tendencias de costos en el ámbito de las misiones espaciales y si ha habido cambios significativos en el precio de lanzamiento con el tiempo.\n",
    "\n",
    "6. ¿Cuál es la proporción de misiones exitosas respecto al total de misiones lanzadas?\n",
    "\n",
    "Este análisis te permitirá evaluar la tasa de éxito general de las misiones espaciales en tu dataset y si hay factores comunes asociados con el éxito o el fracaso.\n"
   ]
  },
  {
   "cell_type": "markdown",
   "metadata": {
    "id": "OIUtlDdgJutB"
   },
   "source": [
    "\n",
    "# **Preguntas de probabilidad para analizar el dataset:**\n",
    "\n",
    "1. ¿Cuál es la probabilidad de que una misión espacial sea exitosa dado el estado del cohete?\n",
    "\n",
    "Puedes calcular la proporción de misiones exitosas para cada estado del cohete (por ejemplo, en buen estado, dañado, etc.).\n",
    "\n",
    "2. ¿Cuál es la probabilidad de que una misión espacial sea exitosa para cada organización?\n",
    "\n",
    "Calcula la probabilidad de éxito de las misiones para cada organización que haya lanzado cohetes.\n",
    "\n",
    "3. ¿Cuál es la probabilidad de que una misión espacial tenga un precio superior a cierto umbral dado el estado del cohete?\n",
    "\n",
    "Puedes calcular la probabilidad de que el precio de una misión supere cierto límite condicionado al estado del cohete.\n",
    "\n",
    "4. ¿Cuál es la probabilidad de que una misión espacial sea lanzada desde una ubicación específica dado el éxito de la misión?\n",
    "\n",
    "Analiza la probabilidad de que una misión sea lanzada desde una ubicación determinada, dada su exitosidad.\n",
    "\n",
    "5. ¿Cuál es la probabilidad de que una misión espacial sea exitosa en un año determinado?\n",
    "\n",
    "Calcula la probabilidad de éxito de las misiones en un año específico en comparación con otros años.\n",
    "\n",
    "6. ¿Cuál es la probabilidad de que una misión espacial tenga un precio dentro de cierto rango dado el éxito de la misión?\n",
    "\n",
    "Analiza la probabilidad de que el precio de una misión esté dentro de cierto rango, condicionado a si la misión fue exitosa o no."
   ]
  },
  {
   "cell_type": "code",
   "execution_count": 1,
   "metadata": {
    "id": "J0QVoFdTZpO8"
   },
   "outputs": [],
   "source": [
    "import pandas as pd\n",
    "import numpy as np\n",
    "import matplotlib as plt"
   ]
  },
  {
   "cell_type": "code",
   "execution_count": 2,
   "metadata": {
    "colab": {
     "base_uri": "https://localhost:8080/",
     "height": 287
    },
    "id": "vnS0_6r2Z0k-",
    "outputId": "9c77c5d7-07f1-41e0-842d-3a386d0e7746"
   },
   "outputs": [],
   "source": [
    "df_mission_launches = pd.read_csv('mission_launches.csv')"
   ]
  },
  {
   "cell_type": "code",
   "execution_count": 3,
   "metadata": {
    "colab": {
     "base_uri": "https://localhost:8080/",
     "height": 310
    },
    "id": "xLm9XZcNafgg",
    "outputId": "a83180d0-12c6-4198-ab82-73210fff7e23"
   },
   "outputs": [
    {
     "data": {
      "text/html": [
       "<div>\n",
       "<style scoped>\n",
       "    .dataframe tbody tr th:only-of-type {\n",
       "        vertical-align: middle;\n",
       "    }\n",
       "\n",
       "    .dataframe tbody tr th {\n",
       "        vertical-align: top;\n",
       "    }\n",
       "\n",
       "    .dataframe thead th {\n",
       "        text-align: right;\n",
       "    }\n",
       "</style>\n",
       "<table border=\"1\" class=\"dataframe\">\n",
       "  <thead>\n",
       "    <tr style=\"text-align: right;\">\n",
       "      <th></th>\n",
       "      <th>Unnamed: 0.1</th>\n",
       "      <th>Unnamed: 0</th>\n",
       "      <th>Organisation</th>\n",
       "      <th>Location</th>\n",
       "      <th>Date</th>\n",
       "      <th>Detail</th>\n",
       "      <th>Rocket_Status</th>\n",
       "      <th>Price</th>\n",
       "      <th>Mission_Status</th>\n",
       "    </tr>\n",
       "  </thead>\n",
       "  <tbody>\n",
       "    <tr>\n",
       "      <th>0</th>\n",
       "      <td>0</td>\n",
       "      <td>0</td>\n",
       "      <td>SpaceX</td>\n",
       "      <td>LC-39A, Kennedy Space Center, Florida, USA</td>\n",
       "      <td>Fri Aug 07, 2020 05:12 UTC</td>\n",
       "      <td>Falcon 9 Block 5 | Starlink V1 L9 &amp; BlackSky</td>\n",
       "      <td>StatusActive</td>\n",
       "      <td>50.0</td>\n",
       "      <td>Success</td>\n",
       "    </tr>\n",
       "    <tr>\n",
       "      <th>1</th>\n",
       "      <td>1</td>\n",
       "      <td>1</td>\n",
       "      <td>CASC</td>\n",
       "      <td>Site 9401 (SLS-2), Jiuquan Satellite Launch Ce...</td>\n",
       "      <td>Thu Aug 06, 2020 04:01 UTC</td>\n",
       "      <td>Long March 2D | Gaofen-9 04 &amp; Q-SAT</td>\n",
       "      <td>StatusActive</td>\n",
       "      <td>29.75</td>\n",
       "      <td>Success</td>\n",
       "    </tr>\n",
       "    <tr>\n",
       "      <th>2</th>\n",
       "      <td>2</td>\n",
       "      <td>2</td>\n",
       "      <td>SpaceX</td>\n",
       "      <td>Pad A, Boca Chica, Texas, USA</td>\n",
       "      <td>Tue Aug 04, 2020 23:57 UTC</td>\n",
       "      <td>Starship Prototype | 150 Meter Hop</td>\n",
       "      <td>StatusActive</td>\n",
       "      <td>NaN</td>\n",
       "      <td>Success</td>\n",
       "    </tr>\n",
       "    <tr>\n",
       "      <th>3</th>\n",
       "      <td>3</td>\n",
       "      <td>3</td>\n",
       "      <td>Roscosmos</td>\n",
       "      <td>Site 200/39, Baikonur Cosmodrome, Kazakhstan</td>\n",
       "      <td>Thu Jul 30, 2020 21:25 UTC</td>\n",
       "      <td>Proton-M/Briz-M | Ekspress-80 &amp; Ekspress-103</td>\n",
       "      <td>StatusActive</td>\n",
       "      <td>65.0</td>\n",
       "      <td>Success</td>\n",
       "    </tr>\n",
       "    <tr>\n",
       "      <th>4</th>\n",
       "      <td>4</td>\n",
       "      <td>4</td>\n",
       "      <td>ULA</td>\n",
       "      <td>SLC-41, Cape Canaveral AFS, Florida, USA</td>\n",
       "      <td>Thu Jul 30, 2020 11:50 UTC</td>\n",
       "      <td>Atlas V 541 | Perseverance</td>\n",
       "      <td>StatusActive</td>\n",
       "      <td>145.0</td>\n",
       "      <td>Success</td>\n",
       "    </tr>\n",
       "  </tbody>\n",
       "</table>\n",
       "</div>"
      ],
      "text/plain": [
       "   Unnamed: 0.1  Unnamed: 0 Organisation  \\\n",
       "0             0           0       SpaceX   \n",
       "1             1           1         CASC   \n",
       "2             2           2       SpaceX   \n",
       "3             3           3    Roscosmos   \n",
       "4             4           4          ULA   \n",
       "\n",
       "                                            Location  \\\n",
       "0         LC-39A, Kennedy Space Center, Florida, USA   \n",
       "1  Site 9401 (SLS-2), Jiuquan Satellite Launch Ce...   \n",
       "2                      Pad A, Boca Chica, Texas, USA   \n",
       "3       Site 200/39, Baikonur Cosmodrome, Kazakhstan   \n",
       "4           SLC-41, Cape Canaveral AFS, Florida, USA   \n",
       "\n",
       "                         Date                                        Detail  \\\n",
       "0  Fri Aug 07, 2020 05:12 UTC  Falcon 9 Block 5 | Starlink V1 L9 & BlackSky   \n",
       "1  Thu Aug 06, 2020 04:01 UTC           Long March 2D | Gaofen-9 04 & Q-SAT   \n",
       "2  Tue Aug 04, 2020 23:57 UTC            Starship Prototype | 150 Meter Hop   \n",
       "3  Thu Jul 30, 2020 21:25 UTC  Proton-M/Briz-M | Ekspress-80 & Ekspress-103   \n",
       "4  Thu Jul 30, 2020 11:50 UTC                    Atlas V 541 | Perseverance   \n",
       "\n",
       "  Rocket_Status  Price Mission_Status  \n",
       "0  StatusActive   50.0        Success  \n",
       "1  StatusActive  29.75        Success  \n",
       "2  StatusActive    NaN        Success  \n",
       "3  StatusActive   65.0        Success  \n",
       "4  StatusActive  145.0        Success  "
      ]
     },
     "execution_count": 3,
     "metadata": {},
     "output_type": "execute_result"
    }
   ],
   "source": [
    "df_mission_launches.head()"
   ]
  },
  {
   "cell_type": "code",
   "execution_count": 4,
   "metadata": {
    "colab": {
     "base_uri": "https://localhost:8080/"
    },
    "id": "WlUD335MbGcF",
    "outputId": "1b69ccd1-f96a-4647-853b-9f075e0569d7"
   },
   "outputs": [
    {
     "data": {
      "text/plain": [
       "(4324, 9)"
      ]
     },
     "execution_count": 4,
     "metadata": {},
     "output_type": "execute_result"
    }
   ],
   "source": [
    "df_mission_launches.shape"
   ]
  },
  {
   "cell_type": "code",
   "execution_count": 5,
   "metadata": {
    "colab": {
     "base_uri": "https://localhost:8080/"
    },
    "id": "2GCN9e5nchbP",
    "outputId": "90dd46fa-9cee-4de1-9be0-d0f7648dfcd4"
   },
   "outputs": [
    {
     "data": {
      "text/plain": [
       "Unnamed: 0.1       int64\n",
       "Unnamed: 0         int64\n",
       "Organisation      object\n",
       "Location          object\n",
       "Date              object\n",
       "Detail            object\n",
       "Rocket_Status     object\n",
       "Price             object\n",
       "Mission_Status    object\n",
       "dtype: object"
      ]
     },
     "execution_count": 5,
     "metadata": {},
     "output_type": "execute_result"
    }
   ],
   "source": [
    "df_mission_launches.dtypes"
   ]
  },
  {
   "cell_type": "code",
   "execution_count": 6,
   "metadata": {
    "colab": {
     "base_uri": "https://localhost:8080/"
    },
    "id": "kBLGhAv-dUr-",
    "outputId": "d3ef28fc-8bfd-44fe-f933-ce246dc2f77d"
   },
   "outputs": [
    {
     "data": {
      "text/plain": [
       "Unnamed: 0.1         0\n",
       "Unnamed: 0           0\n",
       "Organisation         0\n",
       "Location             0\n",
       "Date                 0\n",
       "Detail               0\n",
       "Rocket_Status        0\n",
       "Price             3360\n",
       "Mission_Status       0\n",
       "dtype: int64"
      ]
     },
     "execution_count": 6,
     "metadata": {},
     "output_type": "execute_result"
    }
   ],
   "source": [
    "df_mission_launches.isnull().sum()"
   ]
  },
  {
   "cell_type": "code",
   "execution_count": 7,
   "metadata": {
    "colab": {
     "base_uri": "https://localhost:8080/"
    },
    "id": "dLbge3LBdhZ8",
    "outputId": "73e3c60c-c553-4f1c-8129-307967d84e7c"
   },
   "outputs": [
    {
     "data": {
      "text/plain": [
       "False    4324\n",
       "dtype: int64"
      ]
     },
     "execution_count": 7,
     "metadata": {},
     "output_type": "execute_result"
    }
   ],
   "source": [
    "df_mission_launches.duplicated().value_counts()"
   ]
  },
  {
   "cell_type": "code",
   "execution_count": 8,
   "metadata": {
    "colab": {
     "base_uri": "https://localhost:8080/",
     "height": 615
    },
    "id": "q6a6gO7gdugL",
    "outputId": "b282b90b-0d6e-481a-a80e-a73c887581dc"
   },
   "outputs": [
    {
     "data": {
      "text/html": [
       "<div>\n",
       "<style scoped>\n",
       "    .dataframe tbody tr th:only-of-type {\n",
       "        vertical-align: middle;\n",
       "    }\n",
       "\n",
       "    .dataframe tbody tr th {\n",
       "        vertical-align: top;\n",
       "    }\n",
       "\n",
       "    .dataframe thead th {\n",
       "        text-align: right;\n",
       "    }\n",
       "</style>\n",
       "<table border=\"1\" class=\"dataframe\">\n",
       "  <thead>\n",
       "    <tr style=\"text-align: right;\">\n",
       "      <th></th>\n",
       "      <th>Unnamed: 0.1</th>\n",
       "      <th>Unnamed: 0</th>\n",
       "      <th>Organisation</th>\n",
       "      <th>Location</th>\n",
       "      <th>Date</th>\n",
       "      <th>Detail</th>\n",
       "      <th>Rocket_Status</th>\n",
       "      <th>Price</th>\n",
       "      <th>Mission_Status</th>\n",
       "    </tr>\n",
       "  </thead>\n",
       "  <tbody>\n",
       "    <tr>\n",
       "      <th>2</th>\n",
       "      <td>2</td>\n",
       "      <td>2</td>\n",
       "      <td>SpaceX</td>\n",
       "      <td>Pad A, Boca Chica, Texas, USA</td>\n",
       "      <td>Tue Aug 04, 2020 23:57 UTC</td>\n",
       "      <td>Starship Prototype | 150 Meter Hop</td>\n",
       "      <td>StatusActive</td>\n",
       "      <td>NaN</td>\n",
       "      <td>Success</td>\n",
       "    </tr>\n",
       "    <tr>\n",
       "      <th>7</th>\n",
       "      <td>7</td>\n",
       "      <td>7</td>\n",
       "      <td>CASC</td>\n",
       "      <td>LC-101, Wenchang Satellite Launch Center, China</td>\n",
       "      <td>Thu Jul 23, 2020 04:41 UTC</td>\n",
       "      <td>Long March 5 | Tianwen-1</td>\n",
       "      <td>StatusActive</td>\n",
       "      <td>NaN</td>\n",
       "      <td>Success</td>\n",
       "    </tr>\n",
       "    <tr>\n",
       "      <th>13</th>\n",
       "      <td>13</td>\n",
       "      <td>13</td>\n",
       "      <td>IAI</td>\n",
       "      <td>Pad 1, Palmachim Airbase, Israel</td>\n",
       "      <td>Mon Jul 06, 2020 01:00 UTC</td>\n",
       "      <td>Shavit-2 | Ofek-16</td>\n",
       "      <td>StatusActive</td>\n",
       "      <td>NaN</td>\n",
       "      <td>Success</td>\n",
       "    </tr>\n",
       "    <tr>\n",
       "      <th>28</th>\n",
       "      <td>28</td>\n",
       "      <td>28</td>\n",
       "      <td>VKS RF</td>\n",
       "      <td>Site 43/4, Plesetsk Cosmodrome, Russia</td>\n",
       "      <td>Fri May 22, 2020 07:31 UTC</td>\n",
       "      <td>Soyuz 2.1b/Fregat-M | Cosmos 2546</td>\n",
       "      <td>StatusActive</td>\n",
       "      <td>NaN</td>\n",
       "      <td>Success</td>\n",
       "    </tr>\n",
       "    <tr>\n",
       "      <th>31</th>\n",
       "      <td>31</td>\n",
       "      <td>31</td>\n",
       "      <td>ExPace</td>\n",
       "      <td>Site 95, Jiuquan Satellite Launch Center, China</td>\n",
       "      <td>Tue May 12, 2020 01:16 UTC</td>\n",
       "      <td>Kuaizhou 1A | Xingyun-2 01 (Wuhan) &amp; 02</td>\n",
       "      <td>StatusActive</td>\n",
       "      <td>NaN</td>\n",
       "      <td>Success</td>\n",
       "    </tr>\n",
       "    <tr>\n",
       "      <th>...</th>\n",
       "      <td>...</td>\n",
       "      <td>...</td>\n",
       "      <td>...</td>\n",
       "      <td>...</td>\n",
       "      <td>...</td>\n",
       "      <td>...</td>\n",
       "      <td>...</td>\n",
       "      <td>...</td>\n",
       "      <td>...</td>\n",
       "    </tr>\n",
       "    <tr>\n",
       "      <th>4319</th>\n",
       "      <td>4319</td>\n",
       "      <td>4319</td>\n",
       "      <td>US Navy</td>\n",
       "      <td>LC-18A, Cape Canaveral AFS, Florida, USA</td>\n",
       "      <td>Wed Feb 05, 1958 07:33 UTC</td>\n",
       "      <td>Vanguard | Vanguard TV3BU</td>\n",
       "      <td>StatusRetired</td>\n",
       "      <td>NaN</td>\n",
       "      <td>Failure</td>\n",
       "    </tr>\n",
       "    <tr>\n",
       "      <th>4320</th>\n",
       "      <td>4320</td>\n",
       "      <td>4320</td>\n",
       "      <td>AMBA</td>\n",
       "      <td>LC-26A, Cape Canaveral AFS, Florida, USA</td>\n",
       "      <td>Sat Feb 01, 1958 03:48 UTC</td>\n",
       "      <td>Juno I | Explorer 1</td>\n",
       "      <td>StatusRetired</td>\n",
       "      <td>NaN</td>\n",
       "      <td>Success</td>\n",
       "    </tr>\n",
       "    <tr>\n",
       "      <th>4321</th>\n",
       "      <td>4321</td>\n",
       "      <td>4321</td>\n",
       "      <td>US Navy</td>\n",
       "      <td>LC-18A, Cape Canaveral AFS, Florida, USA</td>\n",
       "      <td>Fri Dec 06, 1957 16:44 UTC</td>\n",
       "      <td>Vanguard | Vanguard TV3</td>\n",
       "      <td>StatusRetired</td>\n",
       "      <td>NaN</td>\n",
       "      <td>Failure</td>\n",
       "    </tr>\n",
       "    <tr>\n",
       "      <th>4322</th>\n",
       "      <td>4322</td>\n",
       "      <td>4322</td>\n",
       "      <td>RVSN USSR</td>\n",
       "      <td>Site 1/5, Baikonur Cosmodrome, Kazakhstan</td>\n",
       "      <td>Sun Nov 03, 1957 02:30 UTC</td>\n",
       "      <td>Sputnik 8K71PS | Sputnik-2</td>\n",
       "      <td>StatusRetired</td>\n",
       "      <td>NaN</td>\n",
       "      <td>Success</td>\n",
       "    </tr>\n",
       "    <tr>\n",
       "      <th>4323</th>\n",
       "      <td>4323</td>\n",
       "      <td>4323</td>\n",
       "      <td>RVSN USSR</td>\n",
       "      <td>Site 1/5, Baikonur Cosmodrome, Kazakhstan</td>\n",
       "      <td>Fri Oct 04, 1957 19:28 UTC</td>\n",
       "      <td>Sputnik 8K71PS | Sputnik-1</td>\n",
       "      <td>StatusRetired</td>\n",
       "      <td>NaN</td>\n",
       "      <td>Success</td>\n",
       "    </tr>\n",
       "  </tbody>\n",
       "</table>\n",
       "<p>3360 rows × 9 columns</p>\n",
       "</div>"
      ],
      "text/plain": [
       "      Unnamed: 0.1  Unnamed: 0 Organisation  \\\n",
       "2                2           2       SpaceX   \n",
       "7                7           7         CASC   \n",
       "13              13          13          IAI   \n",
       "28              28          28       VKS RF   \n",
       "31              31          31       ExPace   \n",
       "...            ...         ...          ...   \n",
       "4319          4319        4319      US Navy   \n",
       "4320          4320        4320         AMBA   \n",
       "4321          4321        4321      US Navy   \n",
       "4322          4322        4322    RVSN USSR   \n",
       "4323          4323        4323    RVSN USSR   \n",
       "\n",
       "                                             Location  \\\n",
       "2                       Pad A, Boca Chica, Texas, USA   \n",
       "7     LC-101, Wenchang Satellite Launch Center, China   \n",
       "13                   Pad 1, Palmachim Airbase, Israel   \n",
       "28             Site 43/4, Plesetsk Cosmodrome, Russia   \n",
       "31    Site 95, Jiuquan Satellite Launch Center, China   \n",
       "...                                               ...   \n",
       "4319         LC-18A, Cape Canaveral AFS, Florida, USA   \n",
       "4320         LC-26A, Cape Canaveral AFS, Florida, USA   \n",
       "4321         LC-18A, Cape Canaveral AFS, Florida, USA   \n",
       "4322        Site 1/5, Baikonur Cosmodrome, Kazakhstan   \n",
       "4323        Site 1/5, Baikonur Cosmodrome, Kazakhstan   \n",
       "\n",
       "                            Date                                   Detail  \\\n",
       "2     Tue Aug 04, 2020 23:57 UTC       Starship Prototype | 150 Meter Hop   \n",
       "7     Thu Jul 23, 2020 04:41 UTC                 Long March 5 | Tianwen-1   \n",
       "13    Mon Jul 06, 2020 01:00 UTC                       Shavit-2 | Ofek-16   \n",
       "28    Fri May 22, 2020 07:31 UTC        Soyuz 2.1b/Fregat-M | Cosmos 2546   \n",
       "31    Tue May 12, 2020 01:16 UTC  Kuaizhou 1A | Xingyun-2 01 (Wuhan) & 02   \n",
       "...                          ...                                      ...   \n",
       "4319  Wed Feb 05, 1958 07:33 UTC                Vanguard | Vanguard TV3BU   \n",
       "4320  Sat Feb 01, 1958 03:48 UTC                      Juno I | Explorer 1   \n",
       "4321  Fri Dec 06, 1957 16:44 UTC                  Vanguard | Vanguard TV3   \n",
       "4322  Sun Nov 03, 1957 02:30 UTC               Sputnik 8K71PS | Sputnik-2   \n",
       "4323  Fri Oct 04, 1957 19:28 UTC               Sputnik 8K71PS | Sputnik-1   \n",
       "\n",
       "      Rocket_Status Price Mission_Status  \n",
       "2      StatusActive   NaN        Success  \n",
       "7      StatusActive   NaN        Success  \n",
       "13     StatusActive   NaN        Success  \n",
       "28     StatusActive   NaN        Success  \n",
       "31     StatusActive   NaN        Success  \n",
       "...             ...   ...            ...  \n",
       "4319  StatusRetired   NaN        Failure  \n",
       "4320  StatusRetired   NaN        Success  \n",
       "4321  StatusRetired   NaN        Failure  \n",
       "4322  StatusRetired   NaN        Success  \n",
       "4323  StatusRetired   NaN        Success  \n",
       "\n",
       "[3360 rows x 9 columns]"
      ]
     },
     "execution_count": 8,
     "metadata": {},
     "output_type": "execute_result"
    }
   ],
   "source": [
    "df_mission_launches[df_mission_launches['Price'].isnull()]"
   ]
  },
  {
   "cell_type": "code",
   "execution_count": 9,
   "metadata": {
    "id": "iOI65zfkefzk"
   },
   "outputs": [],
   "source": [
    "df_mission_launches['Price'] = df_mission_launches['Price'].fillna('0')"
   ]
  },
  {
   "cell_type": "code",
   "execution_count": 10,
   "metadata": {
    "colab": {
     "base_uri": "https://localhost:8080/"
    },
    "id": "hhyEGbL_k_FV",
    "outputId": "6f7a9cb4-9e60-434a-d51a-0c7ae5257843"
   },
   "outputs": [
    {
     "data": {
      "text/plain": [
       "0"
      ]
     },
     "execution_count": 10,
     "metadata": {},
     "output_type": "execute_result"
    }
   ],
   "source": [
    "df_mission_launches['Price'].isnull().sum()"
   ]
  },
  {
   "cell_type": "code",
   "execution_count": 11,
   "metadata": {
    "colab": {
     "base_uri": "https://localhost:8080/"
    },
    "id": "-GEml60OGAox",
    "outputId": "1df5a0be-3d98-4eb4-a6af-cc63dd89fc3c"
   },
   "outputs": [
    {
     "data": {
      "text/plain": [
       "4324"
      ]
     },
     "execution_count": 11,
     "metadata": {},
     "output_type": "execute_result"
    }
   ],
   "source": [
    "df_mission_launches['Price'].value_counts().sum()"
   ]
  },
  {
   "cell_type": "code",
   "execution_count": 12,
   "metadata": {
    "colab": {
     "base_uri": "https://localhost:8080/"
    },
    "id": "hGSmwVzukuWG",
    "outputId": "9f4ca297-af53-4e49-9b50-711e0689bef7"
   },
   "outputs": [
    {
     "data": {
      "text/plain": [
       "array(['50.0', '29.75', '0', '65.0', '145.0', '64.68', '48.5', '90.0',\n",
       "       '46.0', '28.3', '29.15', '7.5', '30.8', '5.3', '12.0', '112.5',\n",
       "       '120.0', '153.0', '200.0', '85.0', '115.0', '41.8', '21.0', '31.0',\n",
       "       '40.0', '164.0', '62.0', '37.0', '350.0', '39.0', '47.0', '35.0',\n",
       "       '69.7', '109.0', '45.0', '123.0', '130.0', '25.0', '56.5', '15.0',\n",
       "       '29.0', '80.0', '140.0', '55.0', '59.5', '450.0', '7.0', '20.14',\n",
       "       '133.0', '190.0', '135.0', '20.0', '136.6', '5,000.0', '1,160.0',\n",
       "       '59.0', '63.23'], dtype=object)"
      ]
     },
     "execution_count": 12,
     "metadata": {},
     "output_type": "execute_result"
    }
   ],
   "source": [
    "df_mission_launches['Price'].unique()"
   ]
  },
  {
   "cell_type": "code",
   "execution_count": 13,
   "metadata": {
    "id": "3MA_PMuDMRKe"
   },
   "outputs": [],
   "source": [
    "df_mission_launches['Price'] = [float(x.replace(',', '')) for x in df_mission_launches['Price']]"
   ]
  },
  {
   "cell_type": "code",
   "execution_count": 14,
   "metadata": {
    "colab": {
     "base_uri": "https://localhost:8080/"
    },
    "id": "gHKly1TxPKQ2",
    "outputId": "f5315346-2c1c-45fc-d10d-a8c288f13de2"
   },
   "outputs": [
    {
     "data": {
      "text/plain": [
       "array([  50.  ,   29.75,    0.  ,   65.  ,  145.  ,   64.68,   48.5 ,\n",
       "         90.  ,   46.  ,   28.3 ,   29.15,    7.5 ,   30.8 ,    5.3 ,\n",
       "         12.  ,  112.5 ,  120.  ,  153.  ,  200.  ,   85.  ,  115.  ,\n",
       "         41.8 ,   21.  ,   31.  ,   40.  ,  164.  ,   62.  ,   37.  ,\n",
       "        350.  ,   39.  ,   47.  ,   35.  ,   69.7 ,  109.  ,   45.  ,\n",
       "        123.  ,  130.  ,   25.  ,   56.5 ,   15.  ,   29.  ,   80.  ,\n",
       "        140.  ,   55.  ,   59.5 ,  450.  ,    7.  ,   20.14,  133.  ,\n",
       "        190.  ,  135.  ,   20.  ,  136.6 , 5000.  , 1160.  ,   59.  ,\n",
       "         63.23])"
      ]
     },
     "execution_count": 14,
     "metadata": {},
     "output_type": "execute_result"
    }
   ],
   "source": [
    "df_mission_launches['Price'].unique()"
   ]
  },
  {
   "cell_type": "code",
   "execution_count": 15,
   "metadata": {
    "id": "e8qi8JzgVKWi"
   },
   "outputs": [],
   "source": [
    "df_mission_launches['Price'] = df_mission_launches['Price'].round(2)"
   ]
  },
  {
   "cell_type": "code",
   "execution_count": 16,
   "metadata": {
    "colab": {
     "base_uri": "https://localhost:8080/"
    },
    "id": "65geI27lXZ00",
    "outputId": "2e1ddedc-19be-45d6-ac2c-7fea9322c5c1"
   },
   "outputs": [
    {
     "data": {
      "text/plain": [
       "array(['Fri Aug 07, 2020 05:12 UTC', 'Thu Aug 06, 2020 04:01 UTC',\n",
       "       'Tue Aug 04, 2020 23:57 UTC', ..., 'Fri Dec 06, 1957 16:44 UTC',\n",
       "       'Sun Nov 03, 1957 02:30 UTC', 'Fri Oct 04, 1957 19:28 UTC'],\n",
       "      dtype=object)"
      ]
     },
     "execution_count": 16,
     "metadata": {},
     "output_type": "execute_result"
    }
   ],
   "source": [
    "df_mission_launches['Date'].unique()"
   ]
  },
  {
   "cell_type": "code",
   "execution_count": 17,
   "metadata": {
    "id": "mXBVOafRjK8U"
   },
   "outputs": [],
   "source": [
    "df_mission_launches['Date'] = pd.to_datetime(df_mission_launches['Date'])"
   ]
  },
  {
   "cell_type": "code",
   "execution_count": 18,
   "metadata": {
    "id": "KQLfSruil5EQ"
   },
   "outputs": [],
   "source": [
    "df_mission_launches['Date'] = df_mission_launches['Date'].astype(str)"
   ]
  },
  {
   "cell_type": "code",
   "execution_count": 19,
   "metadata": {
    "colab": {
     "base_uri": "https://localhost:8080/"
    },
    "id": "jCu18jD0j_e6",
    "outputId": "7494b98e-8936-4399-be24-ee6460fb329b"
   },
   "outputs": [],
   "source": [
    "df_mission_launches[['Fecha', 'Hora']] = df_mission_launches['Date'].str.split(' ', 1, expand=True)"
   ]
  },
  {
   "cell_type": "code",
   "execution_count": 20,
   "metadata": {
    "id": "mc1uo410nKON"
   },
   "outputs": [],
   "source": [
    "df_mission_launches['Date'] = df_mission_launches['Fecha']"
   ]
  },
  {
   "cell_type": "code",
   "execution_count": 21,
   "metadata": {
    "id": "_r3QDrYBr9Ea"
   },
   "outputs": [],
   "source": [
    "df_mission_launches = df_mission_launches.drop(['Fecha', 'Hora'], axis=1)"
   ]
  },
  {
   "cell_type": "markdown",
   "metadata": {
    "id": "K-pn3BT_WiKm"
   },
   "source": [
    "# 1. ¿Cuál es la distribución temporal de los lanzamientos de misiones espaciales a lo largo de los años?"
   ]
  },
  {
   "cell_type": "code",
   "execution_count": 22,
   "metadata": {
    "id": "N6WrJobaVtP4"
   },
   "outputs": [
    {
     "data": {
      "text/plain": [
       "Index(['Unnamed: 0.1', 'Unnamed: 0', 'Organisation', 'Location', 'Date',\n",
       "       'Detail', 'Rocket_Status', 'Price', 'Mission_Status'],\n",
       "      dtype='object')"
      ]
     },
     "execution_count": 22,
     "metadata": {},
     "output_type": "execute_result"
    }
   ],
   "source": [
    "df_mission_launches.columns"
   ]
  }
 ],
 "metadata": {
  "colab": {
   "provenance": []
  },
  "kernelspec": {
   "display_name": "Python 3 (ipykernel)",
   "language": "python",
   "name": "python3"
  },
  "language_info": {
   "codemirror_mode": {
    "name": "ipython",
    "version": 3
   },
   "file_extension": ".py",
   "mimetype": "text/x-python",
   "name": "python",
   "nbconvert_exporter": "python",
   "pygments_lexer": "ipython3",
   "version": "3.9.13"
  }
 },
 "nbformat": 4,
 "nbformat_minor": 1
}
