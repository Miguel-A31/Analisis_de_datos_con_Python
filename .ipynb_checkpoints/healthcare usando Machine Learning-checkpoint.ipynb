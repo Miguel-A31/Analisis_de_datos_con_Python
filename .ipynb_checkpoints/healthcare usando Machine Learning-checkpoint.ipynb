{
 "cells": [
  {
   "cell_type": "markdown",
   "id": "dc63c4db",
   "metadata": {},
   "source": [
    "Por supuesto, basándome en el conjunto de datos de Healthcare que proporcionaste, aquí tienes cinco ideas de proyectos de Machine Learning utilizando modelos supervisados:\n",
    "\n",
    "1. **Predicción de la duración de la estancia hospitalaria:**\n",
    "   Utiliza características como la edad del paciente, el tipo de sangre, la condición médica, el tipo de admisión, entre otros, para predecir la duración de la estancia hospitalaria de un paciente. Puedes entrenar un modelo de regresión, como Random Forest o Gradient Boosting, para realizar estas predicciones.\n",
    "\n",
    "2. **Clasificación de la condición médica:**\n",
    "   Desarrolla un modelo que pueda clasificar automáticamente la condición médica de un paciente en diferentes categorías, como enfermedades cardiovasculares, respiratorias, infecciosas, etc., utilizando características como la edad, el género, los resultados de las pruebas, etc. Puedes utilizar algoritmos de clasificación como Support Vector Machines (SVM) o redes neuronales.\n",
    "\n",
    "3. **Predicción del monto de facturación hospitalaria:**\n",
    "   Entrena un modelo para predecir el monto de la facturación hospitalaria de un paciente utilizando características como la edad, el tipo de admisión, la condición médica, el tipo de habitación, etc. Puedes utilizar técnicas de regresión, como regresión lineal o regresión de Lasso, para este propósito.\n",
    "\n",
    "4. **Recomendación de medicamentos:**\n",
    "   Construye un sistema de recomendación que pueda sugerir medicamentos apropiados para un paciente en función de su condición médica, edad, género, etc. Puedes utilizar técnicas de filtrado colaborativo o procesamiento de lenguaje natural (NLP) para este fin.\n",
    "\n",
    "5. **Predicción de resultados de pruebas médicas:**\n",
    "   Desarrolla un modelo que pueda predecir los resultados de las pruebas médicas de un paciente, como pruebas de laboratorio o imágenes médicas, utilizando características como la edad, la condición médica, los síntomas reportados, etc. Puedes utilizar algoritmos de clasificación o regresión, dependiendo del tipo de prueba y los resultados esperados.\n",
    "\n",
    "Estas son solo algunas ideas para proyectos de Machine Learning utilizando el conjunto de datos de Healthcare que proporcionaste. Dependiendo de tus intereses y objetivos específicos, puedes explorar aún más aplicaciones y casos de uso utilizando este conjunto de datos."
   ]
  },
  {
   "cell_type": "code",
   "execution_count": 107,
   "id": "b429cf5d",
   "metadata": {},
   "outputs": [],
   "source": [
    "import pandas as pd\n",
    "import numpy as np\n",
    "import seaborn as sns\n",
    "import matplotlib.pyplot as plt \n",
    "from sklearn.model_selection import train_test_split\n",
    "from sklearn.preprocessing import RobustScaler\n",
    "from sklearn.metrics import f1_score"
   ]
  },
  {
   "cell_type": "code",
   "execution_count": 108,
   "id": "25ecd1ca",
   "metadata": {},
   "outputs": [],
   "source": [
    "df = pd.read_csv(\"C:\\\\Users\\\\Usuario\\\\Desktop\\\\MIGUEL\\\\LIBROS DE ESTUDIO\\\\PROGRAMACIÓN\\\\CURSO DE PYTHON\\\\proyectos de practica de analisis de datos\\\\Datasets\\\\healthcare_dataset.csv\")\n"
   ]
  },
  {
   "cell_type": "code",
   "execution_count": 109,
   "id": "3665d4ce",
   "metadata": {},
   "outputs": [
    {
     "data": {
      "text/html": [
       "<div>\n",
       "<style scoped>\n",
       "    .dataframe tbody tr th:only-of-type {\n",
       "        vertical-align: middle;\n",
       "    }\n",
       "\n",
       "    .dataframe tbody tr th {\n",
       "        vertical-align: top;\n",
       "    }\n",
       "\n",
       "    .dataframe thead th {\n",
       "        text-align: right;\n",
       "    }\n",
       "</style>\n",
       "<table border=\"1\" class=\"dataframe\">\n",
       "  <thead>\n",
       "    <tr style=\"text-align: right;\">\n",
       "      <th></th>\n",
       "      <th>Name</th>\n",
       "      <th>Age</th>\n",
       "      <th>Gender</th>\n",
       "      <th>Blood Type</th>\n",
       "      <th>Medical Condition</th>\n",
       "      <th>Date of Admission</th>\n",
       "      <th>Doctor</th>\n",
       "      <th>Hospital</th>\n",
       "      <th>Insurance Provider</th>\n",
       "      <th>Billing Amount</th>\n",
       "      <th>Room Number</th>\n",
       "      <th>Admission Type</th>\n",
       "      <th>Discharge Date</th>\n",
       "      <th>Medication</th>\n",
       "      <th>Test Results</th>\n",
       "    </tr>\n",
       "  </thead>\n",
       "  <tbody>\n",
       "    <tr>\n",
       "      <th>0</th>\n",
       "      <td>Tiffany Ramirez</td>\n",
       "      <td>81</td>\n",
       "      <td>Female</td>\n",
       "      <td>O-</td>\n",
       "      <td>Diabetes</td>\n",
       "      <td>2022-11-17</td>\n",
       "      <td>Patrick Parker</td>\n",
       "      <td>Wallace-Hamilton</td>\n",
       "      <td>Medicare</td>\n",
       "      <td>37490.983364</td>\n",
       "      <td>146</td>\n",
       "      <td>Elective</td>\n",
       "      <td>2022-12-01</td>\n",
       "      <td>Aspirin</td>\n",
       "      <td>Inconclusive</td>\n",
       "    </tr>\n",
       "    <tr>\n",
       "      <th>1</th>\n",
       "      <td>Ruben Burns</td>\n",
       "      <td>35</td>\n",
       "      <td>Male</td>\n",
       "      <td>O+</td>\n",
       "      <td>Asthma</td>\n",
       "      <td>2023-06-01</td>\n",
       "      <td>Diane Jackson</td>\n",
       "      <td>Burke, Griffin and Cooper</td>\n",
       "      <td>UnitedHealthcare</td>\n",
       "      <td>47304.064845</td>\n",
       "      <td>404</td>\n",
       "      <td>Emergency</td>\n",
       "      <td>2023-06-15</td>\n",
       "      <td>Lipitor</td>\n",
       "      <td>Normal</td>\n",
       "    </tr>\n",
       "    <tr>\n",
       "      <th>2</th>\n",
       "      <td>Chad Byrd</td>\n",
       "      <td>61</td>\n",
       "      <td>Male</td>\n",
       "      <td>B-</td>\n",
       "      <td>Obesity</td>\n",
       "      <td>2019-01-09</td>\n",
       "      <td>Paul Baker</td>\n",
       "      <td>Walton LLC</td>\n",
       "      <td>Medicare</td>\n",
       "      <td>36874.896997</td>\n",
       "      <td>292</td>\n",
       "      <td>Emergency</td>\n",
       "      <td>2019-02-08</td>\n",
       "      <td>Lipitor</td>\n",
       "      <td>Normal</td>\n",
       "    </tr>\n",
       "    <tr>\n",
       "      <th>3</th>\n",
       "      <td>Antonio Frederick</td>\n",
       "      <td>49</td>\n",
       "      <td>Male</td>\n",
       "      <td>B-</td>\n",
       "      <td>Asthma</td>\n",
       "      <td>2020-05-02</td>\n",
       "      <td>Brian Chandler</td>\n",
       "      <td>Garcia Ltd</td>\n",
       "      <td>Medicare</td>\n",
       "      <td>23303.322092</td>\n",
       "      <td>480</td>\n",
       "      <td>Urgent</td>\n",
       "      <td>2020-05-03</td>\n",
       "      <td>Penicillin</td>\n",
       "      <td>Abnormal</td>\n",
       "    </tr>\n",
       "    <tr>\n",
       "      <th>4</th>\n",
       "      <td>Mrs. Brandy Flowers</td>\n",
       "      <td>51</td>\n",
       "      <td>Male</td>\n",
       "      <td>O-</td>\n",
       "      <td>Arthritis</td>\n",
       "      <td>2021-07-09</td>\n",
       "      <td>Dustin Griffin</td>\n",
       "      <td>Jones, Brown and Murray</td>\n",
       "      <td>UnitedHealthcare</td>\n",
       "      <td>18086.344184</td>\n",
       "      <td>477</td>\n",
       "      <td>Urgent</td>\n",
       "      <td>2021-08-02</td>\n",
       "      <td>Paracetamol</td>\n",
       "      <td>Normal</td>\n",
       "    </tr>\n",
       "  </tbody>\n",
       "</table>\n",
       "</div>"
      ],
      "text/plain": [
       "                  Name  Age  Gender Blood Type Medical Condition  \\\n",
       "0      Tiffany Ramirez   81  Female         O-          Diabetes   \n",
       "1          Ruben Burns   35    Male         O+            Asthma   \n",
       "2            Chad Byrd   61    Male         B-           Obesity   \n",
       "3    Antonio Frederick   49    Male         B-            Asthma   \n",
       "4  Mrs. Brandy Flowers   51    Male         O-         Arthritis   \n",
       "\n",
       "  Date of Admission          Doctor                   Hospital  \\\n",
       "0        2022-11-17  Patrick Parker           Wallace-Hamilton   \n",
       "1        2023-06-01   Diane Jackson  Burke, Griffin and Cooper   \n",
       "2        2019-01-09      Paul Baker                 Walton LLC   \n",
       "3        2020-05-02  Brian Chandler                 Garcia Ltd   \n",
       "4        2021-07-09  Dustin Griffin    Jones, Brown and Murray   \n",
       "\n",
       "  Insurance Provider  Billing Amount  Room Number Admission Type  \\\n",
       "0           Medicare    37490.983364          146       Elective   \n",
       "1   UnitedHealthcare    47304.064845          404      Emergency   \n",
       "2           Medicare    36874.896997          292      Emergency   \n",
       "3           Medicare    23303.322092          480         Urgent   \n",
       "4   UnitedHealthcare    18086.344184          477         Urgent   \n",
       "\n",
       "  Discharge Date   Medication  Test Results  \n",
       "0     2022-12-01      Aspirin  Inconclusive  \n",
       "1     2023-06-15      Lipitor        Normal  \n",
       "2     2019-02-08      Lipitor        Normal  \n",
       "3     2020-05-03   Penicillin      Abnormal  \n",
       "4     2021-08-02  Paracetamol        Normal  "
      ]
     },
     "execution_count": 109,
     "metadata": {},
     "output_type": "execute_result"
    }
   ],
   "source": [
    "df.head()"
   ]
  },
  {
   "cell_type": "code",
   "execution_count": 97,
   "id": "1d23b34e",
   "metadata": {},
   "outputs": [
    {
     "data": {
      "text/plain": [
       "(10000, 15)"
      ]
     },
     "execution_count": 97,
     "metadata": {},
     "output_type": "execute_result"
    }
   ],
   "source": [
    "df.shape"
   ]
  },
  {
   "cell_type": "code",
   "execution_count": 99,
   "id": "71e12166",
   "metadata": {},
   "outputs": [
    {
     "data": {
      "text/plain": [
       "Name                   object\n",
       "Age                     int64\n",
       "Gender                 object\n",
       "Blood Type             object\n",
       "Medical Condition      object\n",
       "Date of Admission      object\n",
       "Doctor                 object\n",
       "Hospital               object\n",
       "Insurance Provider     object\n",
       "Billing Amount        float64\n",
       "Room Number             int64\n",
       "Admission Type         object\n",
       "Discharge Date         object\n",
       "Medication             object\n",
       "Test Results           object\n",
       "dtype: object"
      ]
     },
     "execution_count": 99,
     "metadata": {},
     "output_type": "execute_result"
    }
   ],
   "source": [
    "df.dtypes"
   ]
  },
  {
   "cell_type": "code",
   "execution_count": 100,
   "id": "273bd7eb",
   "metadata": {},
   "outputs": [
    {
     "data": {
      "text/plain": [
       "Name                  0\n",
       "Age                   0\n",
       "Gender                0\n",
       "Blood Type            0\n",
       "Medical Condition     0\n",
       "Date of Admission     0\n",
       "Doctor                0\n",
       "Hospital              0\n",
       "Insurance Provider    0\n",
       "Billing Amount        0\n",
       "Room Number           0\n",
       "Admission Type        0\n",
       "Discharge Date        0\n",
       "Medication            0\n",
       "Test Results          0\n",
       "dtype: int64"
      ]
     },
     "execution_count": 100,
     "metadata": {},
     "output_type": "execute_result"
    }
   ],
   "source": [
    "df.isnull().sum()"
   ]
  },
  {
   "cell_type": "code",
   "execution_count": 103,
   "id": "8bbb874f",
   "metadata": {},
   "outputs": [
    {
     "data": {
      "text/plain": [
       "False    10000\n",
       "dtype: int64"
      ]
     },
     "execution_count": 103,
     "metadata": {},
     "output_type": "execute_result"
    }
   ],
   "source": [
    "df.duplicated().value_counts()"
   ]
  },
  {
   "cell_type": "code",
   "execution_count": 7,
   "id": "3f677101",
   "metadata": {},
   "outputs": [
    {
     "data": {
      "text/html": [
       "<div>\n",
       "<style scoped>\n",
       "    .dataframe tbody tr th:only-of-type {\n",
       "        vertical-align: middle;\n",
       "    }\n",
       "\n",
       "    .dataframe tbody tr th {\n",
       "        vertical-align: top;\n",
       "    }\n",
       "\n",
       "    .dataframe thead th {\n",
       "        text-align: right;\n",
       "    }\n",
       "</style>\n",
       "<table border=\"1\" class=\"dataframe\">\n",
       "  <thead>\n",
       "    <tr style=\"text-align: right;\">\n",
       "      <th></th>\n",
       "      <th>Age</th>\n",
       "      <th>Blood Type</th>\n",
       "      <th>Medical Condition</th>\n",
       "      <th>Admission Type</th>\n",
       "      <th>Medication</th>\n",
       "      <th>Test Results</th>\n",
       "    </tr>\n",
       "  </thead>\n",
       "  <tbody>\n",
       "    <tr>\n",
       "      <th>0</th>\n",
       "      <td>81</td>\n",
       "      <td>O-</td>\n",
       "      <td>Diabetes</td>\n",
       "      <td>Elective</td>\n",
       "      <td>Aspirin</td>\n",
       "      <td>Inconclusive</td>\n",
       "    </tr>\n",
       "    <tr>\n",
       "      <th>1</th>\n",
       "      <td>35</td>\n",
       "      <td>O+</td>\n",
       "      <td>Asthma</td>\n",
       "      <td>Emergency</td>\n",
       "      <td>Lipitor</td>\n",
       "      <td>Normal</td>\n",
       "    </tr>\n",
       "    <tr>\n",
       "      <th>2</th>\n",
       "      <td>61</td>\n",
       "      <td>B-</td>\n",
       "      <td>Obesity</td>\n",
       "      <td>Emergency</td>\n",
       "      <td>Lipitor</td>\n",
       "      <td>Normal</td>\n",
       "    </tr>\n",
       "    <tr>\n",
       "      <th>3</th>\n",
       "      <td>49</td>\n",
       "      <td>B-</td>\n",
       "      <td>Asthma</td>\n",
       "      <td>Urgent</td>\n",
       "      <td>Penicillin</td>\n",
       "      <td>Abnormal</td>\n",
       "    </tr>\n",
       "    <tr>\n",
       "      <th>4</th>\n",
       "      <td>51</td>\n",
       "      <td>O-</td>\n",
       "      <td>Arthritis</td>\n",
       "      <td>Urgent</td>\n",
       "      <td>Paracetamol</td>\n",
       "      <td>Normal</td>\n",
       "    </tr>\n",
       "    <tr>\n",
       "      <th>...</th>\n",
       "      <td>...</td>\n",
       "      <td>...</td>\n",
       "      <td>...</td>\n",
       "      <td>...</td>\n",
       "      <td>...</td>\n",
       "      <td>...</td>\n",
       "    </tr>\n",
       "    <tr>\n",
       "      <th>9995</th>\n",
       "      <td>83</td>\n",
       "      <td>A+</td>\n",
       "      <td>Obesity</td>\n",
       "      <td>Elective</td>\n",
       "      <td>Ibuprofen</td>\n",
       "      <td>Abnormal</td>\n",
       "    </tr>\n",
       "    <tr>\n",
       "      <th>9996</th>\n",
       "      <td>47</td>\n",
       "      <td>AB+</td>\n",
       "      <td>Arthritis</td>\n",
       "      <td>Emergency</td>\n",
       "      <td>Ibuprofen</td>\n",
       "      <td>Normal</td>\n",
       "    </tr>\n",
       "    <tr>\n",
       "      <th>9997</th>\n",
       "      <td>54</td>\n",
       "      <td>B-</td>\n",
       "      <td>Arthritis</td>\n",
       "      <td>Elective</td>\n",
       "      <td>Ibuprofen</td>\n",
       "      <td>Normal</td>\n",
       "    </tr>\n",
       "    <tr>\n",
       "      <th>9998</th>\n",
       "      <td>84</td>\n",
       "      <td>A+</td>\n",
       "      <td>Arthritis</td>\n",
       "      <td>Urgent</td>\n",
       "      <td>Penicillin</td>\n",
       "      <td>Normal</td>\n",
       "    </tr>\n",
       "    <tr>\n",
       "      <th>9999</th>\n",
       "      <td>20</td>\n",
       "      <td>B-</td>\n",
       "      <td>Arthritis</td>\n",
       "      <td>Emergency</td>\n",
       "      <td>Penicillin</td>\n",
       "      <td>Abnormal</td>\n",
       "    </tr>\n",
       "  </tbody>\n",
       "</table>\n",
       "<p>10000 rows × 6 columns</p>\n",
       "</div>"
      ],
      "text/plain": [
       "      Age Blood Type Medical Condition Admission Type   Medication  \\\n",
       "0      81         O-          Diabetes       Elective      Aspirin   \n",
       "1      35         O+            Asthma      Emergency      Lipitor   \n",
       "2      61         B-           Obesity      Emergency      Lipitor   \n",
       "3      49         B-            Asthma         Urgent   Penicillin   \n",
       "4      51         O-         Arthritis         Urgent  Paracetamol   \n",
       "...   ...        ...               ...            ...          ...   \n",
       "9995   83         A+           Obesity       Elective    Ibuprofen   \n",
       "9996   47        AB+         Arthritis      Emergency    Ibuprofen   \n",
       "9997   54         B-         Arthritis       Elective    Ibuprofen   \n",
       "9998   84         A+         Arthritis         Urgent   Penicillin   \n",
       "9999   20         B-         Arthritis      Emergency   Penicillin   \n",
       "\n",
       "      Test Results  \n",
       "0     Inconclusive  \n",
       "1           Normal  \n",
       "2           Normal  \n",
       "3         Abnormal  \n",
       "4           Normal  \n",
       "...            ...  \n",
       "9995      Abnormal  \n",
       "9996        Normal  \n",
       "9997        Normal  \n",
       "9998        Normal  \n",
       "9999      Abnormal  \n",
       "\n",
       "[10000 rows x 6 columns]"
      ]
     },
     "execution_count": 7,
     "metadata": {},
     "output_type": "execute_result"
    }
   ],
   "source": [
    "df[['Age','Blood Type','Medical Condition', 'Admission Type', 'Medication', 'Test Results']]"
   ]
  },
  {
   "cell_type": "code",
   "execution_count": 8,
   "id": "4a049275",
   "metadata": {},
   "outputs": [
    {
     "data": {
      "text/html": [
       "<div>\n",
       "<style scoped>\n",
       "    .dataframe tbody tr th:only-of-type {\n",
       "        vertical-align: middle;\n",
       "    }\n",
       "\n",
       "    .dataframe tbody tr th {\n",
       "        vertical-align: top;\n",
       "    }\n",
       "\n",
       "    .dataframe thead th {\n",
       "        text-align: right;\n",
       "    }\n",
       "</style>\n",
       "<table border=\"1\" class=\"dataframe\">\n",
       "  <thead>\n",
       "    <tr style=\"text-align: right;\">\n",
       "      <th></th>\n",
       "      <th>Date of Admission</th>\n",
       "      <th>Discharge Date</th>\n",
       "    </tr>\n",
       "  </thead>\n",
       "  <tbody>\n",
       "    <tr>\n",
       "      <th>0</th>\n",
       "      <td>2022-11-17</td>\n",
       "      <td>2022-12-01</td>\n",
       "    </tr>\n",
       "    <tr>\n",
       "      <th>1</th>\n",
       "      <td>2023-06-01</td>\n",
       "      <td>2023-06-15</td>\n",
       "    </tr>\n",
       "    <tr>\n",
       "      <th>2</th>\n",
       "      <td>2019-01-09</td>\n",
       "      <td>2019-02-08</td>\n",
       "    </tr>\n",
       "    <tr>\n",
       "      <th>3</th>\n",
       "      <td>2020-05-02</td>\n",
       "      <td>2020-05-03</td>\n",
       "    </tr>\n",
       "    <tr>\n",
       "      <th>4</th>\n",
       "      <td>2021-07-09</td>\n",
       "      <td>2021-08-02</td>\n",
       "    </tr>\n",
       "    <tr>\n",
       "      <th>...</th>\n",
       "      <td>...</td>\n",
       "      <td>...</td>\n",
       "    </tr>\n",
       "    <tr>\n",
       "      <th>9995</th>\n",
       "      <td>2022-07-29</td>\n",
       "      <td>2022-08-02</td>\n",
       "    </tr>\n",
       "    <tr>\n",
       "      <th>9996</th>\n",
       "      <td>2022-01-06</td>\n",
       "      <td>2022-01-29</td>\n",
       "    </tr>\n",
       "    <tr>\n",
       "      <th>9997</th>\n",
       "      <td>2022-07-01</td>\n",
       "      <td>2022-07-15</td>\n",
       "    </tr>\n",
       "    <tr>\n",
       "      <th>9998</th>\n",
       "      <td>2020-02-06</td>\n",
       "      <td>2020-02-26</td>\n",
       "    </tr>\n",
       "    <tr>\n",
       "      <th>9999</th>\n",
       "      <td>2023-03-22</td>\n",
       "      <td>2023-04-15</td>\n",
       "    </tr>\n",
       "  </tbody>\n",
       "</table>\n",
       "<p>10000 rows × 2 columns</p>\n",
       "</div>"
      ],
      "text/plain": [
       "     Date of Admission Discharge Date\n",
       "0           2022-11-17     2022-12-01\n",
       "1           2023-06-01     2023-06-15\n",
       "2           2019-01-09     2019-02-08\n",
       "3           2020-05-02     2020-05-03\n",
       "4           2021-07-09     2021-08-02\n",
       "...                ...            ...\n",
       "9995        2022-07-29     2022-08-02\n",
       "9996        2022-01-06     2022-01-29\n",
       "9997        2022-07-01     2022-07-15\n",
       "9998        2020-02-06     2020-02-26\n",
       "9999        2023-03-22     2023-04-15\n",
       "\n",
       "[10000 rows x 2 columns]"
      ]
     },
     "execution_count": 8,
     "metadata": {},
     "output_type": "execute_result"
    }
   ],
   "source": [
    "df[['Date of Admission', 'Discharge Date']]"
   ]
  },
  {
   "cell_type": "code",
   "execution_count": 110,
   "id": "3f888bea",
   "metadata": {},
   "outputs": [
    {
     "data": {
      "text/html": [
       "<div>\n",
       "<style scoped>\n",
       "    .dataframe tbody tr th:only-of-type {\n",
       "        vertical-align: middle;\n",
       "    }\n",
       "\n",
       "    .dataframe tbody tr th {\n",
       "        vertical-align: top;\n",
       "    }\n",
       "\n",
       "    .dataframe thead th {\n",
       "        text-align: right;\n",
       "    }\n",
       "</style>\n",
       "<table border=\"1\" class=\"dataframe\">\n",
       "  <thead>\n",
       "    <tr style=\"text-align: right;\">\n",
       "      <th></th>\n",
       "      <th>Name</th>\n",
       "      <th>Age</th>\n",
       "      <th>Gender</th>\n",
       "      <th>Blood Type</th>\n",
       "      <th>Medical Condition</th>\n",
       "      <th>Date of Admission</th>\n",
       "      <th>Doctor</th>\n",
       "      <th>Hospital</th>\n",
       "      <th>Insurance Provider</th>\n",
       "      <th>Billing Amount</th>\n",
       "      <th>Room Number</th>\n",
       "      <th>Admission Type</th>\n",
       "      <th>Discharge Date</th>\n",
       "      <th>Medication</th>\n",
       "      <th>Test Results</th>\n",
       "      <th>Stay Duration</th>\n",
       "      <th>Stay Classification</th>\n",
       "    </tr>\n",
       "  </thead>\n",
       "  <tbody>\n",
       "    <tr>\n",
       "      <th>0</th>\n",
       "      <td>Tiffany Ramirez</td>\n",
       "      <td>81</td>\n",
       "      <td>Female</td>\n",
       "      <td>O-</td>\n",
       "      <td>Diabetes</td>\n",
       "      <td>2022-11-17</td>\n",
       "      <td>Patrick Parker</td>\n",
       "      <td>Wallace-Hamilton</td>\n",
       "      <td>Medicare</td>\n",
       "      <td>37490.983364</td>\n",
       "      <td>146</td>\n",
       "      <td>Elective</td>\n",
       "      <td>2022-12-01</td>\n",
       "      <td>Aspirin</td>\n",
       "      <td>Inconclusive</td>\n",
       "      <td>14</td>\n",
       "      <td>larga</td>\n",
       "    </tr>\n",
       "    <tr>\n",
       "      <th>1</th>\n",
       "      <td>Ruben Burns</td>\n",
       "      <td>35</td>\n",
       "      <td>Male</td>\n",
       "      <td>O+</td>\n",
       "      <td>Asthma</td>\n",
       "      <td>2023-06-01</td>\n",
       "      <td>Diane Jackson</td>\n",
       "      <td>Burke, Griffin and Cooper</td>\n",
       "      <td>UnitedHealthcare</td>\n",
       "      <td>47304.064845</td>\n",
       "      <td>404</td>\n",
       "      <td>Emergency</td>\n",
       "      <td>2023-06-15</td>\n",
       "      <td>Lipitor</td>\n",
       "      <td>Normal</td>\n",
       "      <td>14</td>\n",
       "      <td>larga</td>\n",
       "    </tr>\n",
       "    <tr>\n",
       "      <th>2</th>\n",
       "      <td>Chad Byrd</td>\n",
       "      <td>61</td>\n",
       "      <td>Male</td>\n",
       "      <td>B-</td>\n",
       "      <td>Obesity</td>\n",
       "      <td>2019-01-09</td>\n",
       "      <td>Paul Baker</td>\n",
       "      <td>Walton LLC</td>\n",
       "      <td>Medicare</td>\n",
       "      <td>36874.896997</td>\n",
       "      <td>292</td>\n",
       "      <td>Emergency</td>\n",
       "      <td>2019-02-08</td>\n",
       "      <td>Lipitor</td>\n",
       "      <td>Normal</td>\n",
       "      <td>30</td>\n",
       "      <td>larga</td>\n",
       "    </tr>\n",
       "    <tr>\n",
       "      <th>3</th>\n",
       "      <td>Antonio Frederick</td>\n",
       "      <td>49</td>\n",
       "      <td>Male</td>\n",
       "      <td>B-</td>\n",
       "      <td>Asthma</td>\n",
       "      <td>2020-05-02</td>\n",
       "      <td>Brian Chandler</td>\n",
       "      <td>Garcia Ltd</td>\n",
       "      <td>Medicare</td>\n",
       "      <td>23303.322092</td>\n",
       "      <td>480</td>\n",
       "      <td>Urgent</td>\n",
       "      <td>2020-05-03</td>\n",
       "      <td>Penicillin</td>\n",
       "      <td>Abnormal</td>\n",
       "      <td>1</td>\n",
       "      <td>corta</td>\n",
       "    </tr>\n",
       "    <tr>\n",
       "      <th>4</th>\n",
       "      <td>Mrs. Brandy Flowers</td>\n",
       "      <td>51</td>\n",
       "      <td>Male</td>\n",
       "      <td>O-</td>\n",
       "      <td>Arthritis</td>\n",
       "      <td>2021-07-09</td>\n",
       "      <td>Dustin Griffin</td>\n",
       "      <td>Jones, Brown and Murray</td>\n",
       "      <td>UnitedHealthcare</td>\n",
       "      <td>18086.344184</td>\n",
       "      <td>477</td>\n",
       "      <td>Urgent</td>\n",
       "      <td>2021-08-02</td>\n",
       "      <td>Paracetamol</td>\n",
       "      <td>Normal</td>\n",
       "      <td>24</td>\n",
       "      <td>larga</td>\n",
       "    </tr>\n",
       "  </tbody>\n",
       "</table>\n",
       "</div>"
      ],
      "text/plain": [
       "                  Name  Age  Gender Blood Type Medical Condition  \\\n",
       "0      Tiffany Ramirez   81  Female         O-          Diabetes   \n",
       "1          Ruben Burns   35    Male         O+            Asthma   \n",
       "2            Chad Byrd   61    Male         B-           Obesity   \n",
       "3    Antonio Frederick   49    Male         B-            Asthma   \n",
       "4  Mrs. Brandy Flowers   51    Male         O-         Arthritis   \n",
       "\n",
       "  Date of Admission          Doctor                   Hospital  \\\n",
       "0        2022-11-17  Patrick Parker           Wallace-Hamilton   \n",
       "1        2023-06-01   Diane Jackson  Burke, Griffin and Cooper   \n",
       "2        2019-01-09      Paul Baker                 Walton LLC   \n",
       "3        2020-05-02  Brian Chandler                 Garcia Ltd   \n",
       "4        2021-07-09  Dustin Griffin    Jones, Brown and Murray   \n",
       "\n",
       "  Insurance Provider  Billing Amount  Room Number Admission Type  \\\n",
       "0           Medicare    37490.983364          146       Elective   \n",
       "1   UnitedHealthcare    47304.064845          404      Emergency   \n",
       "2           Medicare    36874.896997          292      Emergency   \n",
       "3           Medicare    23303.322092          480         Urgent   \n",
       "4   UnitedHealthcare    18086.344184          477         Urgent   \n",
       "\n",
       "  Discharge Date   Medication  Test Results  Stay Duration Stay Classification  \n",
       "0     2022-12-01      Aspirin  Inconclusive             14               larga  \n",
       "1     2023-06-15      Lipitor        Normal             14               larga  \n",
       "2     2019-02-08      Lipitor        Normal             30               larga  \n",
       "3     2020-05-03   Penicillin      Abnormal              1               corta  \n",
       "4     2021-08-02  Paracetamol        Normal             24               larga  "
      ]
     },
     "execution_count": 110,
     "metadata": {},
     "output_type": "execute_result"
    }
   ],
   "source": [
    "df['Date of Admission'] = pd.to_datetime(df['Date of Admission'])\n",
    "df['Discharge Date'] = pd.to_datetime(df['Discharge Date'])\n",
    "\n",
    "# Calcula la duración de la estadía en días\n",
    "df['Stay Duration'] = (df['Discharge Date'] - df['Date of Admission']).dt.days\n",
    "\n",
    "# Define los umbrales para clasificar la duración de la estadía\n",
    "corta_threshold = 3\n",
    "moderada_threshold = 7\n",
    "\n",
    "# Función para clasificar la duración de la estadía\n",
    "def clasificar_estadia(duration):\n",
    "    if duration <= corta_threshold:\n",
    "        return 'corta'\n",
    "    elif duration <= moderada_threshold:\n",
    "        return 'moderada'\n",
    "    else:\n",
    "        return 'larga'\n",
    "\n",
    "# Aplica la función de clasificación a la columna Stay Duration y crea una nueva columna llamada 'Stay Classification'\n",
    "df['Stay Classification'] = df['Stay Duration'].apply(clasificar_estadia)\n",
    "\n",
    "# Muestra el DataFrame resultante\n",
    "df.head()"
   ]
  },
  {
   "cell_type": "code",
   "execution_count": 111,
   "id": "08ff0a22",
   "metadata": {},
   "outputs": [
    {
     "data": {
      "text/html": [
       "<div>\n",
       "<style scoped>\n",
       "    .dataframe tbody tr th:only-of-type {\n",
       "        vertical-align: middle;\n",
       "    }\n",
       "\n",
       "    .dataframe tbody tr th {\n",
       "        vertical-align: top;\n",
       "    }\n",
       "\n",
       "    .dataframe thead th {\n",
       "        text-align: right;\n",
       "    }\n",
       "</style>\n",
       "<table border=\"1\" class=\"dataframe\">\n",
       "  <thead>\n",
       "    <tr style=\"text-align: right;\">\n",
       "      <th></th>\n",
       "      <th>Age</th>\n",
       "      <th>Blood Type</th>\n",
       "      <th>Medical Condition</th>\n",
       "      <th>Admission Type</th>\n",
       "      <th>Medication</th>\n",
       "      <th>Test Results</th>\n",
       "      <th>Stay Classification</th>\n",
       "    </tr>\n",
       "  </thead>\n",
       "  <tbody>\n",
       "    <tr>\n",
       "      <th>0</th>\n",
       "      <td>81</td>\n",
       "      <td>O-</td>\n",
       "      <td>Diabetes</td>\n",
       "      <td>Elective</td>\n",
       "      <td>Aspirin</td>\n",
       "      <td>Inconclusive</td>\n",
       "      <td>larga</td>\n",
       "    </tr>\n",
       "    <tr>\n",
       "      <th>1</th>\n",
       "      <td>35</td>\n",
       "      <td>O+</td>\n",
       "      <td>Asthma</td>\n",
       "      <td>Emergency</td>\n",
       "      <td>Lipitor</td>\n",
       "      <td>Normal</td>\n",
       "      <td>larga</td>\n",
       "    </tr>\n",
       "    <tr>\n",
       "      <th>2</th>\n",
       "      <td>61</td>\n",
       "      <td>B-</td>\n",
       "      <td>Obesity</td>\n",
       "      <td>Emergency</td>\n",
       "      <td>Lipitor</td>\n",
       "      <td>Normal</td>\n",
       "      <td>larga</td>\n",
       "    </tr>\n",
       "    <tr>\n",
       "      <th>3</th>\n",
       "      <td>49</td>\n",
       "      <td>B-</td>\n",
       "      <td>Asthma</td>\n",
       "      <td>Urgent</td>\n",
       "      <td>Penicillin</td>\n",
       "      <td>Abnormal</td>\n",
       "      <td>corta</td>\n",
       "    </tr>\n",
       "    <tr>\n",
       "      <th>4</th>\n",
       "      <td>51</td>\n",
       "      <td>O-</td>\n",
       "      <td>Arthritis</td>\n",
       "      <td>Urgent</td>\n",
       "      <td>Paracetamol</td>\n",
       "      <td>Normal</td>\n",
       "      <td>larga</td>\n",
       "    </tr>\n",
       "    <tr>\n",
       "      <th>...</th>\n",
       "      <td>...</td>\n",
       "      <td>...</td>\n",
       "      <td>...</td>\n",
       "      <td>...</td>\n",
       "      <td>...</td>\n",
       "      <td>...</td>\n",
       "      <td>...</td>\n",
       "    </tr>\n",
       "    <tr>\n",
       "      <th>9995</th>\n",
       "      <td>83</td>\n",
       "      <td>A+</td>\n",
       "      <td>Obesity</td>\n",
       "      <td>Elective</td>\n",
       "      <td>Ibuprofen</td>\n",
       "      <td>Abnormal</td>\n",
       "      <td>moderada</td>\n",
       "    </tr>\n",
       "    <tr>\n",
       "      <th>9996</th>\n",
       "      <td>47</td>\n",
       "      <td>AB+</td>\n",
       "      <td>Arthritis</td>\n",
       "      <td>Emergency</td>\n",
       "      <td>Ibuprofen</td>\n",
       "      <td>Normal</td>\n",
       "      <td>larga</td>\n",
       "    </tr>\n",
       "    <tr>\n",
       "      <th>9997</th>\n",
       "      <td>54</td>\n",
       "      <td>B-</td>\n",
       "      <td>Arthritis</td>\n",
       "      <td>Elective</td>\n",
       "      <td>Ibuprofen</td>\n",
       "      <td>Normal</td>\n",
       "      <td>larga</td>\n",
       "    </tr>\n",
       "    <tr>\n",
       "      <th>9998</th>\n",
       "      <td>84</td>\n",
       "      <td>A+</td>\n",
       "      <td>Arthritis</td>\n",
       "      <td>Urgent</td>\n",
       "      <td>Penicillin</td>\n",
       "      <td>Normal</td>\n",
       "      <td>larga</td>\n",
       "    </tr>\n",
       "    <tr>\n",
       "      <th>9999</th>\n",
       "      <td>20</td>\n",
       "      <td>B-</td>\n",
       "      <td>Arthritis</td>\n",
       "      <td>Emergency</td>\n",
       "      <td>Penicillin</td>\n",
       "      <td>Abnormal</td>\n",
       "      <td>larga</td>\n",
       "    </tr>\n",
       "  </tbody>\n",
       "</table>\n",
       "<p>10000 rows × 7 columns</p>\n",
       "</div>"
      ],
      "text/plain": [
       "      Age Blood Type Medical Condition Admission Type   Medication  \\\n",
       "0      81         O-          Diabetes       Elective      Aspirin   \n",
       "1      35         O+            Asthma      Emergency      Lipitor   \n",
       "2      61         B-           Obesity      Emergency      Lipitor   \n",
       "3      49         B-            Asthma         Urgent   Penicillin   \n",
       "4      51         O-         Arthritis         Urgent  Paracetamol   \n",
       "...   ...        ...               ...            ...          ...   \n",
       "9995   83         A+           Obesity       Elective    Ibuprofen   \n",
       "9996   47        AB+         Arthritis      Emergency    Ibuprofen   \n",
       "9997   54         B-         Arthritis       Elective    Ibuprofen   \n",
       "9998   84         A+         Arthritis         Urgent   Penicillin   \n",
       "9999   20         B-         Arthritis      Emergency   Penicillin   \n",
       "\n",
       "      Test Results Stay Classification  \n",
       "0     Inconclusive               larga  \n",
       "1           Normal               larga  \n",
       "2           Normal               larga  \n",
       "3         Abnormal               corta  \n",
       "4           Normal               larga  \n",
       "...            ...                 ...  \n",
       "9995      Abnormal            moderada  \n",
       "9996        Normal               larga  \n",
       "9997        Normal               larga  \n",
       "9998        Normal               larga  \n",
       "9999      Abnormal               larga  \n",
       "\n",
       "[10000 rows x 7 columns]"
      ]
     },
     "execution_count": 111,
     "metadata": {},
     "output_type": "execute_result"
    }
   ],
   "source": [
    "df2 = df[['Age','Blood Type','Medical Condition', 'Admission Type', 'Medication', 'Test Results', 'Stay Classification']].copy()\n",
    "df2"
   ]
  },
  {
   "cell_type": "code",
   "execution_count": 30,
   "id": "039d767f",
   "metadata": {},
   "outputs": [
    {
     "name": "stdout",
     "output_type": "stream",
     "text": [
      "Variable: Age\n",
      "Valores únicos: [81 35 61 49 51 41 82 55 33 39 45 23 85 72 65 32 64 66 80 79 54 26 70 74\n",
      " 56 37 78 83 30 19 46 48 34 84 47 60 57 21 27 68 31 42 71 38 28 43 69 73\n",
      " 67 44 20 59 76 40 36 29 53 77 24 75 25 62 52 50 22 63 58 18]\n",
      "Conteo de valores:\n",
      "59    175\n",
      "78    174\n",
      "31    172\n",
      "20    169\n",
      "35    169\n",
      "     ... \n",
      "34    125\n",
      "47    125\n",
      "85    123\n",
      "22    123\n",
      "45    120\n",
      "Name: Age, Length: 68, dtype: int64\n",
      "\n",
      "Variable: Blood Type\n",
      "Valores únicos: ['O-' 'O+' 'B-' 'AB+' 'A+' 'AB-' 'A-' 'B+']\n",
      "Conteo de valores:\n",
      "AB-    1275\n",
      "AB+    1258\n",
      "B-     1252\n",
      "O+     1248\n",
      "O-     1244\n",
      "B+     1244\n",
      "A+     1241\n",
      "A-     1238\n",
      "Name: Blood Type, dtype: int64\n",
      "\n",
      "Variable: Medical Condition\n",
      "Valores únicos: ['Diabetes' 'Asthma' 'Obesity' 'Arthritis' 'Hypertension' 'Cancer']\n",
      "Conteo de valores:\n",
      "Asthma          1708\n",
      "Cancer          1703\n",
      "Hypertension    1688\n",
      "Arthritis       1650\n",
      "Obesity         1628\n",
      "Diabetes        1623\n",
      "Name: Medical Condition, dtype: int64\n",
      "\n",
      "Variable: Admission Type\n",
      "Valores únicos: ['Elective' 'Emergency' 'Urgent']\n",
      "Conteo de valores:\n",
      "Urgent       3391\n",
      "Emergency    3367\n",
      "Elective     3242\n",
      "Name: Admission Type, dtype: int64\n",
      "\n",
      "Variable: Medication\n",
      "Valores únicos: ['Aspirin' 'Lipitor' 'Penicillin' 'Paracetamol' 'Ibuprofen']\n",
      "Conteo de valores:\n",
      "Penicillin     2079\n",
      "Lipitor        2015\n",
      "Ibuprofen      1976\n",
      "Aspirin        1968\n",
      "Paracetamol    1962\n",
      "Name: Medication, dtype: int64\n",
      "\n",
      "Variable: Test Results\n",
      "Valores únicos: ['Inconclusive' 'Normal' 'Abnormal']\n",
      "Conteo de valores:\n",
      "Abnormal        3456\n",
      "Inconclusive    3277\n",
      "Normal          3267\n",
      "Name: Test Results, dtype: int64\n",
      "\n",
      "Variable: Stay Classification\n",
      "Valores únicos: ['larga' 'corta' 'moderada']\n",
      "Conteo de valores:\n",
      "larga       7688\n",
      "moderada    1357\n",
      "corta        955\n",
      "Name: Stay Classification, dtype: int64\n",
      "\n"
     ]
    }
   ],
   "source": [
    "# Lista de variables\n",
    "variables = df2\n",
    "# Bucle for para contar valores únicos\n",
    "for var in variables:\n",
    "    unique_values = df2[var].unique()\n",
    "    value_counts = df2[var].value_counts()\n",
    "    print(f\"Variable: {var}\")\n",
    "    print(f\"Valores únicos: {unique_values}\")\n",
    "    print(f\"Conteo de valores:\\n{value_counts}\\n\")\n"
   ]
  },
  {
   "cell_type": "code",
   "execution_count": 112,
   "id": "d297d2d9",
   "metadata": {},
   "outputs": [
    {
     "data": {
      "image/png": "[encoded data removed]",
      "text/plain": [
       "<Figure size 400x500 with 1 Axes>"
      ]
     },
     "metadata": {},
     "output_type": "display_data"
    }
   ],
   "source": [
    "# Grafico para 'Age' (histograma)\n",
    "plt.figure(figsize=(4, 5))\n",
    "sns.histplot(df2['Age'], bins=20)\n",
    "plt.title('Distribución de Edades')\n",
    "plt.xlabel('Edad')\n",
    "plt.ylabel('Frecuencia')\n",
    "plt.show()"
   ]
  },
  {
   "cell_type": "code",
   "execution_count": 44,
   "id": "6168e871",
   "metadata": {},
   "outputs": [
    {
     "data": {
      "image/png": "[encoded data removed]",
      "text/plain": [
       "<Figure size 400x500 with 1 Axes>"
      ]
     },
     "metadata": {},
     "output_type": "display_data"
    }
   ],
   "source": [
    "# Grafico para 'Blood Type' (gráfico de barras)\n",
    "plt.figure(figsize=(4, 5))\n",
    "sns.countplot(data=df2, x='Blood Type')\n",
    "plt.title('Distribución de Tipos de Sangre')\n",
    "plt.xlabel('Tipo de Sangre')\n",
    "plt.ylabel('Frecuencia')\n",
    "plt.show()"
   ]
  },
  {
   "cell_type": "code",
   "execution_count": 42,
   "id": "d2dadb29",
   "metadata": {},
   "outputs": [
    {
     "data": {
      "image/png": "[encoded data removed]",
      "text/plain": [
       "<Figure size 500x600 with 1 Axes>"
      ]
     },
     "metadata": {},
     "output_type": "display_data"
    }
   ],
   "source": [
    "# Grafico para 'Medical Condition' (gráfico de barras)\n",
    "plt.figure(figsize=(5, 6))\n",
    "sns.countplot(data=df2, x='Medical Condition', order=df2['Medical Condition'].value_counts().index)\n",
    "plt.title('Distribución de Condiciones Médicas')\n",
    "plt.xlabel('Condición Médica')\n",
    "plt.ylabel('Frecuencia')\n",
    "plt.xticks(rotation=45)\n",
    "plt.show()"
   ]
  },
  {
   "cell_type": "code",
   "execution_count": 40,
   "id": "490dfa20",
   "metadata": {},
   "outputs": [
    {
     "data": {
      "image/png": "[encoded data removed]",
      "text/plain": [
       "<Figure size 400x500 with 1 Axes>"
      ]
     },
     "metadata": {},
     "output_type": "display_data"
    }
   ],
   "source": [
    "# Grafico para 'Admission Type' (gráfico de barras)\n",
    "plt.figure(figsize=(4, 5))\n",
    "sns.countplot(data=df2, x='Admission Type')\n",
    "plt.title('Distribución de Tipos de Admisión')\n",
    "plt.xlabel('Tipo de Admisión')\n",
    "plt.ylabel('Frecuencia')\n",
    "plt.show()"
   ]
  },
  {
   "cell_type": "code",
   "execution_count": 41,
   "id": "813035d8",
   "metadata": {},
   "outputs": [
    {
     "data": {
      "image/png": "[encoded data removed]",
      "text/plain": [
       "<Figure size 800x500 with 1 Axes>"
      ]
     },
     "metadata": {},
     "output_type": "display_data"
    }
   ],
   "source": [
    "# Grafico para 'Medication' (gráfico de barras)\n",
    "plt.figure(figsize=(8, 5))\n",
    "sns.countplot(data=df2, y='Medication', order=df2['Medication'].value_counts().index)\n",
    "plt.title('Distribución de Medicamentos')\n",
    "plt.xlabel('Frecuencia')\n",
    "plt.ylabel('Medicamento')\n",
    "plt.show()"
   ]
  },
  {
   "cell_type": "code",
   "execution_count": 35,
   "id": "43105192",
   "metadata": {},
   "outputs": [
    {
     "data": {
      "image/png": "[encoded data removed]",
      "text/plain": [
       "<Figure size 400x500 with 1 Axes>"
      ]
     },
     "metadata": {},
     "output_type": "display_data"
    }
   ],
   "source": [
    "# Grafico para 'Test Results' (histograma)\n",
    "plt.figure(figsize=(4, 5))\n",
    "sns.histplot(df2['Test Results'], bins=20)\n",
    "plt.title('Distribución de Resultados de Pruebas')\n",
    "plt.xlabel('Resultado de Prueba')\n",
    "plt.ylabel('Frecuencia')\n",
    "plt.show()"
   ]
  },
  {
   "cell_type": "code",
   "execution_count": 45,
   "id": "81af1a51",
   "metadata": {},
   "outputs": [
    {
     "data": {
      "image/png": "[encoded data removed]",
      "text/plain": [
       "<Figure size 400x500 with 1 Axes>"
      ]
     },
     "metadata": {},
     "output_type": "display_data"
    }
   ],
   "source": [
    "# Grafico para 'Stay Classification' (gráfico de barras)\n",
    "plt.figure(figsize=(4, 5))\n",
    "sns.countplot(data=df2, x='Stay Classification')\n",
    "plt.title('Clasificación de Estadía')\n",
    "plt.xlabel('Clasificación de Estadía')\n",
    "plt.ylabel('Frecuencia')\n",
    "plt.show()\n"
   ]
  },
  {
   "cell_type": "code",
   "execution_count": 63,
   "id": "63695579",
   "metadata": {},
   "outputs": [],
   "source": [
    "# Copia del DataFrame\n",
    "df_transform = df2.copy()\n",
    "\n",
    "# Factorizar cada columna\n",
    "for col in df_transform.columns:\n",
    "    if pd.api.types.is_object_dtype(df_transform[col]):  # Verificar si la columna es de tipo objeto (categórica)\n",
    "        df_transform[col], _ = df_transform[col].factorize()"
   ]
  },
  {
   "cell_type": "code",
   "execution_count": 64,
   "id": "43878a70",
   "metadata": {},
   "outputs": [
    {
     "data": {
      "text/html": [
       "<div>\n",
       "<style scoped>\n",
       "    .dataframe tbody tr th:only-of-type {\n",
       "        vertical-align: middle;\n",
       "    }\n",
       "\n",
       "    .dataframe tbody tr th {\n",
       "        vertical-align: top;\n",
       "    }\n",
       "\n",
       "    .dataframe thead th {\n",
       "        text-align: right;\n",
       "    }\n",
       "</style>\n",
       "<table border=\"1\" class=\"dataframe\">\n",
       "  <thead>\n",
       "    <tr style=\"text-align: right;\">\n",
       "      <th></th>\n",
       "      <th>Age</th>\n",
       "      <th>Blood Type</th>\n",
       "      <th>Medical Condition</th>\n",
       "      <th>Admission Type</th>\n",
       "      <th>Medication</th>\n",
       "      <th>Test Results</th>\n",
       "      <th>Stay Classification</th>\n",
       "    </tr>\n",
       "  </thead>\n",
       "  <tbody>\n",
       "    <tr>\n",
       "      <th>0</th>\n",
       "      <td>81</td>\n",
       "      <td>0</td>\n",
       "      <td>0</td>\n",
       "      <td>0</td>\n",
       "      <td>0</td>\n",
       "      <td>0</td>\n",
       "      <td>0</td>\n",
       "    </tr>\n",
       "    <tr>\n",
       "      <th>1</th>\n",
       "      <td>35</td>\n",
       "      <td>1</td>\n",
       "      <td>1</td>\n",
       "      <td>1</td>\n",
       "      <td>1</td>\n",
       "      <td>1</td>\n",
       "      <td>0</td>\n",
       "    </tr>\n",
       "    <tr>\n",
       "      <th>2</th>\n",
       "      <td>61</td>\n",
       "      <td>2</td>\n",
       "      <td>2</td>\n",
       "      <td>1</td>\n",
       "      <td>1</td>\n",
       "      <td>1</td>\n",
       "      <td>0</td>\n",
       "    </tr>\n",
       "    <tr>\n",
       "      <th>3</th>\n",
       "      <td>49</td>\n",
       "      <td>2</td>\n",
       "      <td>1</td>\n",
       "      <td>2</td>\n",
       "      <td>2</td>\n",
       "      <td>2</td>\n",
       "      <td>1</td>\n",
       "    </tr>\n",
       "    <tr>\n",
       "      <th>4</th>\n",
       "      <td>51</td>\n",
       "      <td>0</td>\n",
       "      <td>3</td>\n",
       "      <td>2</td>\n",
       "      <td>3</td>\n",
       "      <td>1</td>\n",
       "      <td>0</td>\n",
       "    </tr>\n",
       "  </tbody>\n",
       "</table>\n",
       "</div>"
      ],
      "text/plain": [
       "   Age  Blood Type  Medical Condition  Admission Type  Medication  \\\n",
       "0   81           0                  0               0           0   \n",
       "1   35           1                  1               1           1   \n",
       "2   61           2                  2               1           1   \n",
       "3   49           2                  1               2           2   \n",
       "4   51           0                  3               2           3   \n",
       "\n",
       "   Test Results  Stay Classification  \n",
       "0             0                    0  \n",
       "1             1                    0  \n",
       "2             1                    0  \n",
       "3             2                    1  \n",
       "4             1                    0  "
      ]
     },
     "execution_count": 64,
     "metadata": {},
     "output_type": "execute_result"
    }
   ],
   "source": [
    "df_transform.head()"
   ]
  },
  {
   "cell_type": "code",
   "execution_count": 65,
   "id": "aab2f872",
   "metadata": {},
   "outputs": [
    {
     "data": {
      "text/plain": [
       "Stay Classification    1.000000\n",
       "Blood Type             0.021506\n",
       "Admission Type         0.011997\n",
       "Medical Condition     -0.001723\n",
       "Test Results          -0.002864\n",
       "Age                   -0.003216\n",
       "Medication            -0.008364\n",
       "Name: Stay Classification, dtype: float64"
      ]
     },
     "execution_count": 65,
     "metadata": {},
     "output_type": "execute_result"
    }
   ],
   "source": [
    "corr_matrix = df_transform.corr()\n",
    "corr_matrix[\"Stay Classification\"].sort_values(ascending=False)"
   ]
  },
  {
   "cell_type": "code",
   "execution_count": 87,
   "id": "f437a464",
   "metadata": {},
   "outputs": [
    {
     "data": {
      "image/png": "[encoded data removed]",
      "text/plain": [
       "<Figure size 800x600 with 2 Axes>"
      ]
     },
     "metadata": {},
     "output_type": "display_data"
    }
   ],
   "source": [
    "cores = sns.color_palette('light:blue', as_cmap=True)\n",
    "mask = np.zeros_like(corr_matrix)\n",
    "mask[np.triu_indices_from(mask)] = True\n",
    "with sns.axes_style(\"white\"):\n",
    "    f, ax = plt.subplots(figsize=(8, 6))\n",
    "    ax = sns.heatmap(corr_matrix, cmap=cores, mask=mask, square=True, fmt='.2f', annot=True)"
   ]
  },
  {
   "cell_type": "markdown",
   "id": "5d87ca0a",
   "metadata": {},
   "source": [
    "# División del conjunto de datos"
   ]
  },
  {
   "cell_type": "code",
   "execution_count": 67,
   "id": "73273444",
   "metadata": {},
   "outputs": [],
   "source": [
    "# Construcción de una función que realice el particionado completo\n",
    "def train_val_test_split(df, rstate=42, shuffle=True, stratify=None):\n",
    "    strat = df[stratify] if stratify else None\n",
    "    train_set, test_set = train_test_split(\n",
    "        df, test_size=0.4, random_state=rstate, shuffle=shuffle, stratify=strat)\n",
    "    strat = test_set[stratify] if stratify else None\n",
    "    val_set, test_set = train_test_split(\n",
    "        test_set, test_size=0.5, random_state=rstate, shuffle=shuffle, stratify=strat)\n",
    "    return (train_set, val_set, test_set)"
   ]
  },
  {
   "cell_type": "code",
   "execution_count": 70,
   "id": "221db074",
   "metadata": {},
   "outputs": [],
   "source": [
    "def remove_labels(df, label_name):\n",
    "    X = df.drop(label_name, axis=1)\n",
    "    y = df[label_name].copy()\n",
    "    return (X, y)"
   ]
  },
  {
   "cell_type": "code",
   "execution_count": 68,
   "id": "dfcaeedf",
   "metadata": {},
   "outputs": [],
   "source": [
    "# Dividimos el conjunto de datos\n",
    "train_set, val_set, test_set = train_val_test_split(df_transform)"
   ]
  },
  {
   "cell_type": "code",
   "execution_count": 71,
   "id": "344b002e",
   "metadata": {},
   "outputs": [],
   "source": [
    "X_train, y_train = remove_labels(train_set, \"Stay Classification\")\n",
    "X_val, y_val = remove_labels(val_set, \"Stay Classification\")\n",
    "X_test, y_test = remove_labels(test_set, \"Stay Classification\")"
   ]
  },
  {
   "cell_type": "markdown",
   "id": "01e04983",
   "metadata": {},
   "source": [
    "# Escalando el conjunto de datos"
   ]
  },
  {
   "cell_type": "code",
   "execution_count": 72,
   "id": "32f86d2a",
   "metadata": {},
   "outputs": [
    {
     "data": {
      "text/html": [
       "<div>\n",
       "<style scoped>\n",
       "    .dataframe tbody tr th:only-of-type {\n",
       "        vertical-align: middle;\n",
       "    }\n",
       "\n",
       "    .dataframe tbody tr th {\n",
       "        vertical-align: top;\n",
       "    }\n",
       "\n",
       "    .dataframe thead th {\n",
       "        text-align: right;\n",
       "    }\n",
       "</style>\n",
       "<table border=\"1\" class=\"dataframe\">\n",
       "  <thead>\n",
       "    <tr style=\"text-align: right;\">\n",
       "      <th></th>\n",
       "      <th>Age</th>\n",
       "      <th>Blood Type</th>\n",
       "      <th>Medical Condition</th>\n",
       "      <th>Admission Type</th>\n",
       "      <th>Medication</th>\n",
       "      <th>Test Results</th>\n",
       "    </tr>\n",
       "  </thead>\n",
       "  <tbody>\n",
       "    <tr>\n",
       "      <th>9761</th>\n",
       "      <td>0.294118</td>\n",
       "      <td>0.25</td>\n",
       "      <td>-0.666667</td>\n",
       "      <td>0.0</td>\n",
       "      <td>1.0</td>\n",
       "      <td>-0.5</td>\n",
       "    </tr>\n",
       "    <tr>\n",
       "      <th>3159</th>\n",
       "      <td>0.117647</td>\n",
       "      <td>0.75</td>\n",
       "      <td>0.000000</td>\n",
       "      <td>0.0</td>\n",
       "      <td>0.0</td>\n",
       "      <td>-0.5</td>\n",
       "    </tr>\n",
       "    <tr>\n",
       "      <th>1489</th>\n",
       "      <td>-0.411765</td>\n",
       "      <td>-1.00</td>\n",
       "      <td>-1.000000</td>\n",
       "      <td>0.5</td>\n",
       "      <td>1.0</td>\n",
       "      <td>-0.5</td>\n",
       "    </tr>\n",
       "    <tr>\n",
       "      <th>2987</th>\n",
       "      <td>-0.470588</td>\n",
       "      <td>-0.50</td>\n",
       "      <td>-0.666667</td>\n",
       "      <td>0.5</td>\n",
       "      <td>-0.5</td>\n",
       "      <td>-0.5</td>\n",
       "    </tr>\n",
       "    <tr>\n",
       "      <th>812</th>\n",
       "      <td>0.470588</td>\n",
       "      <td>-0.50</td>\n",
       "      <td>-0.666667</td>\n",
       "      <td>0.5</td>\n",
       "      <td>0.0</td>\n",
       "      <td>-0.5</td>\n",
       "    </tr>\n",
       "    <tr>\n",
       "      <th>1882</th>\n",
       "      <td>0.000000</td>\n",
       "      <td>-1.00</td>\n",
       "      <td>-0.333333</td>\n",
       "      <td>-0.5</td>\n",
       "      <td>1.0</td>\n",
       "      <td>0.5</td>\n",
       "    </tr>\n",
       "    <tr>\n",
       "      <th>9267</th>\n",
       "      <td>-0.264706</td>\n",
       "      <td>-0.50</td>\n",
       "      <td>0.666667</td>\n",
       "      <td>0.5</td>\n",
       "      <td>0.5</td>\n",
       "      <td>0.0</td>\n",
       "    </tr>\n",
       "    <tr>\n",
       "      <th>4936</th>\n",
       "      <td>0.088235</td>\n",
       "      <td>0.25</td>\n",
       "      <td>0.666667</td>\n",
       "      <td>0.0</td>\n",
       "      <td>-0.5</td>\n",
       "      <td>0.5</td>\n",
       "    </tr>\n",
       "    <tr>\n",
       "      <th>9935</th>\n",
       "      <td>0.264706</td>\n",
       "      <td>0.25</td>\n",
       "      <td>-0.666667</td>\n",
       "      <td>-0.5</td>\n",
       "      <td>1.0</td>\n",
       "      <td>-0.5</td>\n",
       "    </tr>\n",
       "    <tr>\n",
       "      <th>1940</th>\n",
       "      <td>-0.941176</td>\n",
       "      <td>0.25</td>\n",
       "      <td>0.666667</td>\n",
       "      <td>0.0</td>\n",
       "      <td>1.0</td>\n",
       "      <td>-0.5</td>\n",
       "    </tr>\n",
       "  </tbody>\n",
       "</table>\n",
       "</div>"
      ],
      "text/plain": [
       "           Age  Blood Type  Medical Condition  Admission Type  Medication  \\\n",
       "9761  0.294118        0.25          -0.666667             0.0         1.0   \n",
       "3159  0.117647        0.75           0.000000             0.0         0.0   \n",
       "1489 -0.411765       -1.00          -1.000000             0.5         1.0   \n",
       "2987 -0.470588       -0.50          -0.666667             0.5        -0.5   \n",
       "812   0.470588       -0.50          -0.666667             0.5         0.0   \n",
       "1882  0.000000       -1.00          -0.333333            -0.5         1.0   \n",
       "9267 -0.264706       -0.50           0.666667             0.5         0.5   \n",
       "4936  0.088235        0.25           0.666667             0.0        -0.5   \n",
       "9935  0.264706        0.25          -0.666667            -0.5         1.0   \n",
       "1940 -0.941176        0.25           0.666667             0.0         1.0   \n",
       "\n",
       "      Test Results  \n",
       "9761          -0.5  \n",
       "3159          -0.5  \n",
       "1489          -0.5  \n",
       "2987          -0.5  \n",
       "812           -0.5  \n",
       "1882           0.5  \n",
       "9267           0.0  \n",
       "4936           0.5  \n",
       "9935          -0.5  \n",
       "1940          -0.5  "
      ]
     },
     "execution_count": 72,
     "metadata": {},
     "output_type": "execute_result"
    }
   ],
   "source": [
    "scaler = RobustScaler()\n",
    "X_train_scaled = scaler.fit_transform(X_train)\n",
    "\n",
    "scaler = RobustScaler()\n",
    "X_test_scaled = scaler.fit_transform(X_test)\n",
    "\n",
    "scaler = RobustScaler()\n",
    "X_val_scaled = scaler.fit_transform(X_val)\n",
    "\n",
    "from pandas import DataFrame\n",
    "\n",
    "X_train_scaled = DataFrame(X_train_scaled, columns=X_train.columns, index=X_train.index)\n",
    "X_train_scaled.head(10)"
   ]
  },
  {
   "cell_type": "code",
   "execution_count": 73,
   "id": "3406b716",
   "metadata": {},
   "outputs": [
    {
     "data": {
      "text/html": [
       "<div>\n",
       "<style scoped>\n",
       "    .dataframe tbody tr th:only-of-type {\n",
       "        vertical-align: middle;\n",
       "    }\n",
       "\n",
       "    .dataframe tbody tr th {\n",
       "        vertical-align: top;\n",
       "    }\n",
       "\n",
       "    .dataframe thead th {\n",
       "        text-align: right;\n",
       "    }\n",
       "</style>\n",
       "<table border=\"1\" class=\"dataframe\">\n",
       "  <thead>\n",
       "    <tr style=\"text-align: right;\">\n",
       "      <th></th>\n",
       "      <th>Age</th>\n",
       "      <th>Blood Type</th>\n",
       "      <th>Medical Condition</th>\n",
       "      <th>Admission Type</th>\n",
       "      <th>Medication</th>\n",
       "      <th>Test Results</th>\n",
       "    </tr>\n",
       "  </thead>\n",
       "  <tbody>\n",
       "    <tr>\n",
       "      <th>count</th>\n",
       "      <td>6000.000000</td>\n",
       "      <td>6000.000000</td>\n",
       "      <td>6000.000000</td>\n",
       "      <td>6000.000000</td>\n",
       "      <td>6000.000000</td>\n",
       "      <td>6000.000000</td>\n",
       "    </tr>\n",
       "    <tr>\n",
       "      <th>mean</th>\n",
       "      <td>-0.009667</td>\n",
       "      <td>-0.121292</td>\n",
       "      <td>-0.167167</td>\n",
       "      <td>0.006583</td>\n",
       "      <td>0.010083</td>\n",
       "      <td>0.008250</td>\n",
       "    </tr>\n",
       "    <tr>\n",
       "      <th>std</th>\n",
       "      <td>0.574999</td>\n",
       "      <td>0.571073</td>\n",
       "      <td>0.571238</td>\n",
       "      <td>0.406028</td>\n",
       "      <td>0.698585</td>\n",
       "      <td>0.411504</td>\n",
       "    </tr>\n",
       "    <tr>\n",
       "      <th>min</th>\n",
       "      <td>-1.000000</td>\n",
       "      <td>-1.000000</td>\n",
       "      <td>-1.000000</td>\n",
       "      <td>-0.500000</td>\n",
       "      <td>-1.000000</td>\n",
       "      <td>-0.500000</td>\n",
       "    </tr>\n",
       "    <tr>\n",
       "      <th>25%</th>\n",
       "      <td>-0.500000</td>\n",
       "      <td>-0.500000</td>\n",
       "      <td>-0.666667</td>\n",
       "      <td>-0.500000</td>\n",
       "      <td>-0.500000</td>\n",
       "      <td>-0.500000</td>\n",
       "    </tr>\n",
       "    <tr>\n",
       "      <th>50%</th>\n",
       "      <td>0.000000</td>\n",
       "      <td>0.000000</td>\n",
       "      <td>0.000000</td>\n",
       "      <td>0.000000</td>\n",
       "      <td>0.000000</td>\n",
       "      <td>0.000000</td>\n",
       "    </tr>\n",
       "    <tr>\n",
       "      <th>75%</th>\n",
       "      <td>0.500000</td>\n",
       "      <td>0.500000</td>\n",
       "      <td>0.333333</td>\n",
       "      <td>0.500000</td>\n",
       "      <td>0.500000</td>\n",
       "      <td>0.500000</td>\n",
       "    </tr>\n",
       "    <tr>\n",
       "      <th>max</th>\n",
       "      <td>0.970588</td>\n",
       "      <td>0.750000</td>\n",
       "      <td>0.666667</td>\n",
       "      <td>0.500000</td>\n",
       "      <td>1.000000</td>\n",
       "      <td>0.500000</td>\n",
       "    </tr>\n",
       "  </tbody>\n",
       "</table>\n",
       "</div>"
      ],
      "text/plain": [
       "               Age   Blood Type  Medical Condition  Admission Type  \\\n",
       "count  6000.000000  6000.000000        6000.000000     6000.000000   \n",
       "mean     -0.009667    -0.121292          -0.167167        0.006583   \n",
       "std       0.574999     0.571073           0.571238        0.406028   \n",
       "min      -1.000000    -1.000000          -1.000000       -0.500000   \n",
       "25%      -0.500000    -0.500000          -0.666667       -0.500000   \n",
       "50%       0.000000     0.000000           0.000000        0.000000   \n",
       "75%       0.500000     0.500000           0.333333        0.500000   \n",
       "max       0.970588     0.750000           0.666667        0.500000   \n",
       "\n",
       "        Medication  Test Results  \n",
       "count  6000.000000   6000.000000  \n",
       "mean      0.010083      0.008250  \n",
       "std       0.698585      0.411504  \n",
       "min      -1.000000     -0.500000  \n",
       "25%      -0.500000     -0.500000  \n",
       "50%       0.000000      0.000000  \n",
       "75%       0.500000      0.500000  \n",
       "max       1.000000      0.500000  "
      ]
     },
     "execution_count": 73,
     "metadata": {},
     "output_type": "execute_result"
    }
   ],
   "source": [
    "X_train_scaled.describe()"
   ]
  },
  {
   "cell_type": "markdown",
   "id": "d38f6b6e",
   "metadata": {},
   "source": [
    "# Decision Forest"
   ]
  },
  {
   "cell_type": "code",
   "execution_count": 74,
   "id": "c7865ead",
   "metadata": {},
   "outputs": [
    {
     "data": {
      "text/plain": [
       "DecisionTreeClassifier(random_state=42)"
      ]
     },
     "execution_count": 74,
     "metadata": {},
     "output_type": "execute_result"
    }
   ],
   "source": [
    "from sklearn.tree import DecisionTreeClassifier\n",
    "\n",
    "clf_tree = DecisionTreeClassifier(random_state=42)\n",
    "clf_tree.fit(X_train, y_train)"
   ]
  },
  {
   "cell_type": "code",
   "execution_count": 75,
   "id": "40906e61",
   "metadata": {},
   "outputs": [],
   "source": [
    "# Predecimos con el conjunto de datos de entrenamiento\n",
    "y_train_pred = clf_tree.predict(X_train)"
   ]
  },
  {
   "cell_type": "code",
   "execution_count": 76,
   "id": "5460af6f",
   "metadata": {},
   "outputs": [
    {
     "name": "stdout",
     "output_type": "stream",
     "text": [
      "F1 Score Train Set: 0.9936998962438609\n"
     ]
    }
   ],
   "source": [
    "print(\"F1 Score Train Set:\", f1_score(y_train_pred, y_train, average='weighted'))"
   ]
  },
  {
   "cell_type": "code",
   "execution_count": 77,
   "id": "d5255465",
   "metadata": {},
   "outputs": [],
   "source": [
    "# Predecimos con el conjunto de datos de validación\n",
    "y_val_pred = clf_tree.predict(X_val)"
   ]
  },
  {
   "cell_type": "code",
   "execution_count": 78,
   "id": "604e3766",
   "metadata": {},
   "outputs": [
    {
     "name": "stdout",
     "output_type": "stream",
     "text": [
      "F1 Score Validation Set: 0.6002112175932258\n"
     ]
    }
   ],
   "source": [
    "# Comparamos resultados entre escalado y sin escalar\n",
    "print(\"F1 Score Validation Set:\", f1_score(y_val_pred, y_val, average='weighted'))"
   ]
  },
  {
   "cell_type": "code",
   "execution_count": 106,
   "id": "46c20a35",
   "metadata": {},
   "outputs": [
    {
     "data": {
      "image/png": "[encoded data removed]",
      "text/plain": [
       "<Figure size 1000x800 with 2 Axes>"
      ]
     },
     "metadata": {},
     "output_type": "display_data"
    }
   ],
   "source": [
    "from sklearn.metrics import confusion_matrix\n",
    "import seaborn as sns\n",
    "\n",
    "# Calcular la matriz de confusión\n",
    "conf_matrix = confusion_matrix(y_val_pred, y_val)\n",
    "\n",
    "# Crear el mapa de calor para la matriz de confusión\n",
    "plt.figure(figsize=(10, 8))\n",
    "sns.heatmap(conf_matrix, annot=True, cmap='Blues', fmt='d', xticklabels=np.unique(y_val), yticklabels=np.unique(y_val))\n",
    "\n",
    "# Añadir etiquetas y título\n",
    "plt.xlabel('Etiquetas Predichas')\n",
    "plt.ylabel('Etiquetas Reales')\n",
    "plt.title('Matriz de Confusión - Conjunto de Entrenamiento')\n",
    "\n",
    "# Mostrar el gráfico\n",
    "plt.show()\n"
   ]
  },
  {
   "cell_type": "markdown",
   "id": "facdac8c",
   "metadata": {},
   "source": [
    "# Random Forests"
   ]
  },
  {
   "cell_type": "code",
   "execution_count": 92,
   "id": "c401464e",
   "metadata": {},
   "outputs": [],
   "source": [
    "def evaluate_result(y_pred, y, y_prep_pred, y_prep, metric):\n",
    "    print(metric.__name__, \"WITHOUT preparation:\", metric(y_pred, y, average='weighted'))\n",
    "    print(metric.__name__, \"WITH preparation:\", metric(y_prep_pred, y_prep, average='weighted'))"
   ]
  },
  {
   "cell_type": "code",
   "execution_count": 88,
   "id": "698f930e",
   "metadata": {},
   "outputs": [
    {
     "data": {
      "text/plain": [
       "RandomForestClassifier(n_jobs=-1, random_state=42)"
      ]
     },
     "execution_count": 88,
     "metadata": {},
     "output_type": "execute_result"
    }
   ],
   "source": [
    "from sklearn.ensemble import RandomForestClassifier\n",
    "\n",
    "# Modelo entrenado con el conjunto de datos sin escalar\n",
    "clf_rnd = RandomForestClassifier(n_estimators=100, random_state=42, n_jobs=-1)\n",
    "clf_rnd.fit(X_train, y_train)"
   ]
  },
  {
   "cell_type": "code",
   "execution_count": 89,
   "id": "8a5f69c0",
   "metadata": {},
   "outputs": [
    {
     "data": {
      "text/plain": [
       "RandomForestClassifier(n_jobs=-1, random_state=42)"
      ]
     },
     "execution_count": 89,
     "metadata": {},
     "output_type": "execute_result"
    }
   ],
   "source": [
    "# Modelo entrenado con el conjunto de datos escalado\n",
    "clf_rnd_scaled = RandomForestClassifier(n_estimators=100, random_state=42, n_jobs=-1)\n",
    "clf_rnd_scaled.fit(X_train_scaled, y_train)"
   ]
  },
  {
   "cell_type": "code",
   "execution_count": 90,
   "id": "83475dcf",
   "metadata": {},
   "outputs": [],
   "source": [
    "# Predecimos con el conjunto de datos de entrenamiento\n",
    "y_train_pred = clf_rnd.predict(X_train)\n",
    "y_train_prep_pred = clf_rnd_scaled.predict(X_train_scaled)"
   ]
  },
  {
   "cell_type": "code",
   "execution_count": 93,
   "id": "30489270",
   "metadata": {},
   "outputs": [
    {
     "name": "stdout",
     "output_type": "stream",
     "text": [
      "f1_score WITHOUT preparation: 0.9936882596366964\n",
      "f1_score WITH preparation: 0.9936882596366964\n"
     ]
    }
   ],
   "source": [
    "# Comparamos resultados entre escalado y sin escalar\n",
    "evaluate_result(y_train_pred, y_train, y_train_prep_pred, y_train, f1_score)"
   ]
  },
  {
   "cell_type": "markdown",
   "id": "ccd595b9",
   "metadata": {},
   "source": [
    "# Gradient Boosting Classifier"
   ]
  },
  {
   "cell_type": "code",
   "execution_count": 97,
   "id": "c82f36bd",
   "metadata": {},
   "outputs": [
    {
     "name": "stdout",
     "output_type": "stream",
     "text": [
      "f1_score WITHOUT preparation: 0.8702509716497951\n",
      "f1_score WITH preparation: 0.8702509716497951\n"
     ]
    }
   ],
   "source": [
    "from sklearn.ensemble import GradientBoostingClassifier\n",
    "from sklearn.model_selection import train_test_split\n",
    "from sklearn.metrics import accuracy_score\n",
    "\n",
    "# Crear y entrenar el modelo de Gradient Boosting\n",
    "gradient_boosting_notscaled = GradientBoostingClassifier(n_estimators=100, learning_rate=0.1, random_state=42)\n",
    "gradient_boosting_notscaled.fit(X_train, y_train)\n",
    "\n",
    "gradient_boosting_scaled = GradientBoostingClassifier(n_estimators=100, learning_rate=0.1, random_state=42)\n",
    "gradient_boosting_scaled.fit(X_train_scaled, y_train)\n",
    "\n",
    "# Realizar predicciones en el conjunto de prueba\n",
    "y_train_pred = gradient_boosting_notscaled.predict(X_train)\n",
    "y_train_prep_pred = gradient_boosting_scaled.predict(X_train_scaled)\n",
    "\n",
    "# Evaluar el modelo\n",
    "evaluate_result(y_train_pred, y_train, y_train_prep_pred, y_train, f1_score)"
   ]
  }
 ],
 "metadata": {
  "kernelspec": {
   "display_name": "Python 3 (ipykernel)",
   "language": "python",
   "name": "python3"
  },
  "language_info": {
   "codemirror_mode": {
    "name": "ipython",
    "version": 3
   },
   "file_extension": ".py",
   "mimetype": "text/x-python",
   "name": "python",
   "nbconvert_exporter": "python",
   "pygments_lexer": "ipython3",
   "version": "3.9.13"
  }
 },
 "nbformat": 4,
 "nbformat_minor": 5
}
