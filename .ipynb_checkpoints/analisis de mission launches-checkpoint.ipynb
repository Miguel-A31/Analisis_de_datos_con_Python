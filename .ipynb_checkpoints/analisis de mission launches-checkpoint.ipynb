{
 "cells": [
  {
   "cell_type": "markdown",
   "id": "16c77250",
   "metadata": {},
   "source": [
    "### preguntas de análisis\n",
    "\n",
    "**1. ¿Cuál es la distribución temporal de los lanzamientos de misiones espaciales a lo largo de los años?**\n",
    "\n",
    "Esta pregunta te ayudará a comprender la evolución de las misiones espaciales con el tiempo y si ha habido algún patrón o tendencia en el número de lanzamientos.\n",
    "\n",
    "**2. ¿Cuál es la distribución de los lanzamientos por organización?**\n",
    "\n",
    "Esta pregunta te permitirá entender qué organizaciones han sido las más activas en lanzamientos de misiones espaciales y cómo se comparan entre sí.\n",
    "\n",
    "**3. ¿Cuál es la ubicación geográfica más común para los lanzamientos de misiones espaciales?**\n",
    "\n",
    "Investigar la distribución geográfica de los lanzamientos puede revelar patrones de preferencia por ciertos lugares para realizar misiones espaciales.\n",
    "\n",
    "**4. ¿Existe alguna correlación entre el estado del cohete y el éxito de la misión?**\n",
    "\n",
    "Analizar si existe una relación entre el estado del cohete en el momento del lanzamiento y el éxito o fracaso de la misión puede proporcionar información importante sobre la confiabilidad de los sistemas de lanzamiento.\n",
    "\n",
    "**5. ¿Cómo varía el precio de las misiones espaciales a lo largo del tiempo?**\n",
    "\n",
    "Este análisis puede arrojar luz sobre las tendencias de costos en el ámbito de las misiones espaciales y si ha habido cambios significativos en el precio de lanzamiento con el tiempo.\n",
    "\n",
    "**6. ¿Cuál es la proporción de misiones exitosas respecto al total de misiones lanzadas?**\n",
    "\n",
    "Este análisis te permitirá evaluar la tasa de éxito general de las misiones espaciales en tu dataset y si hay factores comunes asociados con el éxito o el fracaso."
   ]
  },
  {
   "cell_type": "code",
   "execution_count": 3,
   "id": "c4b59aa5",
   "metadata": {},
   "outputs": [],
   "source": [
    "import pandas as pd\n",
    "import numpy as np \n",
    "import matplotlib as plt"
   ]
  },
  {
   "cell_type": "code",
   "execution_count": 5,
   "id": "8f108170",
   "metadata": {},
   "outputs": [],
   "source": [
    "df = pd.read_csv('mission_launches.csv')"
   ]
  },
  {
   "cell_type": "code",
   "execution_count": 7,
   "id": "58f76eee",
   "metadata": {},
   "outputs": [
    {
     "data": {
      "text/plain": [
       "(4324, 9)"
      ]
     },
     "execution_count": 7,
     "metadata": {},
     "output_type": "execute_result"
    }
   ],
   "source": [
    "df.shape"
   ]
  },
  {
   "cell_type": "code",
   "execution_count": null,
   "id": "4e60aeaa",
   "metadata": {},
   "outputs": [],
   "source": []
  }
 ],
 "metadata": {
  "kernelspec": {
   "display_name": "Python 3 (ipykernel)",
   "language": "python",
   "name": "python3"
  },
  "language_info": {
   "codemirror_mode": {
    "name": "ipython",
    "version": 3
   },
   "file_extension": ".py",
   "mimetype": "text/x-python",
   "name": "python",
   "nbconvert_exporter": "python",
   "pygments_lexer": "ipython3",
   "version": "3.9.13"
  }
 },
 "nbformat": 4,
 "nbformat_minor": 5
}
